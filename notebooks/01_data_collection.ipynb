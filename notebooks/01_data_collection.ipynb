{
 "cells": [
  {
   "cell_type": "markdown",
   "id": "3420049d",
   "metadata": {},
   "source": [
    "# 01 — Data Collection: The Sims 4\n",
    "**Goal:** Pull player discussions from Reddit and EA Answers HQ for sentiment & topic analysis.  \n",
    "**Outputs:** \n",
    "- `data/raw/reddit_sims4_posts.csv` (and optionally `..._comments.csv`)\n",
    "- `data/raw/ea_forum_threads.csv`\n",
    "**Provenance:** Collected with PRAW (Reddit API) and requests/BeautifulSoup (forums)."
   ]
  },
  {
   "cell_type": "code",
   "execution_count": 1,
   "id": "4e4df1d9",
   "metadata": {},
   "outputs": [],
   "source": [
    "import os\n",
    "from pathlib import Path\n",
    "import pandas as pd\n",
    "\n",
    "# Project paths\n",
    "DATA_RAW = Path(\"../data/raw\")\n",
    "DATA_RAW.mkdir(parents=True, exist_ok=True)\n",
    "\n",
    "# Display options (handy in notebooks)\n",
    "pd.set_option(\"display.max_colwidth\", 200)\n",
    "pd.set_option(\"display.max_rows\", 50)"
   ]
  },
  {
   "cell_type": "code",
   "execution_count": 2,
   "id": "b2c2044c",
   "metadata": {},
   "outputs": [],
   "source": [
    "from dotenv import load_dotenv\n",
    "load_dotenv()\n",
    "\n",
    "RID  = os.getenv(\"REDDIT_ID\")\n",
    "RSEC = os.getenv(\"REDDIT_SECRET\")\n",
    "RUA  = os.getenv(\"REDDIT_USER_AGENT\")\n",
    "\n",
    "assert all([RID, RSEC, RUA]), \"Missing one or more Reddit creds. Check your .env!\""
   ]
  },
  {
   "cell_type": "code",
   "execution_count": 3,
   "id": "b23876c0",
   "metadata": {},
   "outputs": [
    {
     "name": "stdout",
     "output_type": "stream",
     "text": [
      "CWD: /Users/baderrezek/Desktop/Projects/Personal/sims4-sentiment-analysis/notebooks\n",
      "On sys.path? True\n"
     ]
    }
   ],
   "source": [
    "import sys\n",
    "from pathlib import Path\n",
    "\n",
    "# This notebook lives in: <project_root>/notebooks/\n",
    "ROOT = Path(\"..\").resolve()   # <-- parent of notebooks = project root\n",
    "if str(ROOT) not in sys.path:\n",
    "    sys.path.insert(0, str(ROOT))\n",
    "\n",
    "print(\"CWD:\", Path.cwd())\n",
    "print(\"On sys.path?\", str(ROOT) in sys.path)"
   ]
  },
  {
   "cell_type": "code",
   "execution_count": 4,
   "id": "90b852c0",
   "metadata": {},
   "outputs": [],
   "source": [
    "import sys\n",
    "sys.path.append(\"../src\")\n",
    "\n",
    "from src.collect_data import collect_reddit_posts, collect_comments_for_posts"
   ]
  },
  {
   "cell_type": "code",
   "execution_count": 5,
   "id": "c29d05cc",
   "metadata": {},
   "outputs": [],
   "source": [
    "df_sims4_posts = collect_reddit_posts(RID, RSEC, RUA, subreddit_name=\"Sims4\", limit=750, time_filter=\"year\")\n",
    "df_thesims_posts = collect_reddit_posts(RID, RSEC, RUA, subreddit_name=\"thesims\", limit=750, time_filter=\"year\")"
   ]
  },
  {
   "cell_type": "code",
   "execution_count": 6,
   "id": "e26f15eb",
   "metadata": {},
   "outputs": [],
   "source": [
    "sample_ids = df_thesims_posts[\"id\"].head(250).tolist()\n",
    "df_thesims_comments = collect_comments_for_posts(RID, RSEC, RUA, sample_ids)"
   ]
  },
  {
   "cell_type": "code",
   "execution_count": 7,
   "id": "cd66c0a9",
   "metadata": {},
   "outputs": [],
   "source": [
    "sample_ids = df_sims4_posts[\"id\"].head(250).tolist()\n",
    "df_sims4_comments = collect_comments_for_posts(RID, RSEC, RUA, sample_ids)"
   ]
  },
  {
   "cell_type": "code",
   "execution_count": 8,
   "id": "2b3a9843",
   "metadata": {},
   "outputs": [
    {
     "name": "stdout",
     "output_type": "stream",
     "text": [
      "Sims4 subreddit:\n"
     ]
    },
    {
     "data": {
      "application/vnd.microsoft.datawrangler.viewer.v0+json": {
       "columns": [
        {
         "name": "index",
         "rawType": "int64",
         "type": "integer"
        },
        {
         "name": "post_id",
         "rawType": "object",
         "type": "string"
        },
        {
         "name": "comment_id",
         "rawType": "object",
         "type": "string"
        },
        {
         "name": "created_utc",
         "rawType": "float64",
         "type": "float"
        },
        {
         "name": "author",
         "rawType": "object",
         "type": "string"
        },
        {
         "name": "body",
         "rawType": "object",
         "type": "string"
        },
        {
         "name": "score",
         "rawType": "int64",
         "type": "integer"
        },
        {
         "name": "parent_permalink",
         "rawType": "object",
         "type": "string"
        }
       ],
       "ref": "a49b070d-15f0-45a8-a2bd-4dd3e3b09da9",
       "rows": [
        [
         "0",
         "1f9ncnr",
         "llmvyhz",
         "1725547276.0",
         "Fr0d0TheFr0g",
         "Oh man.....this would be so cool as the travel screen instead of the circles we currently have",
         "3014",
         "https://reddit.com/r/Sims4/comments/1f9ncnr/i_made_a_sims_4_world_map/"
        ],
        [
         "1",
         "1f9ncnr",
         "llmqptr",
         "1725545283.0",
         "strangest_sea",
         "This has been my baby for months and I'm so happy to have finished it! The image is huge, and there are tons of little details so I hope you enjoy exploring ✨\n\nUpdate: \"Windenburg\" has been fixed! For those who are interested in prints, please check my profile 🏡\n\nUpdate 2: I will not be updating this map anymore 🙏",
         "3629",
         "https://reddit.com/r/Sims4/comments/1f9ncnr/i_made_a_sims_4_world_map/"
        ],
        [
         "2",
         "1f9ncnr",
         "llmyg7s",
         "1725548090.0",
         "solunarmeetcute",
         "This is great! From now on I will consult this map while planning my sims' trips to other worlds (for realism purposes).",
         "986",
         "https://reddit.com/r/Sims4/comments/1f9ncnr/i_made_a_sims_4_world_map/"
        ],
        [
         "3",
         "1f9ncnr",
         "lln5uto",
         "1725550484.0",
         "SerenityBlackwood",
         "This makes it even more impressive that werewolves can use the Moonwood Mill tunnels to get to Forgotten Hollow. \n\nThis is a really great map, and manages to actually incorporate all of the shapes of each neighborhood. Well done!",
         "231",
         "https://reddit.com/r/Sims4/comments/1f9ncnr/i_made_a_sims_4_world_map/"
        ],
        [
         "4",
         "1f9ncnr",
         "lln442n",
         "1725549923.0",
         "PhenomenalPhoenix",
         "Was Magnolia Promenade forgotten on purpose? lol\n\nAlso I was expecting Willow Creek and Newcrest to be right next to each other but having Copperdale between them seems really fitting and isn’t something I would have thought of. I love this map, it looks great!",
         "313",
         "https://reddit.com/r/Sims4/comments/1f9ncnr/i_made_a_sims_4_world_map/"
        ]
       ],
       "shape": {
        "columns": 7,
        "rows": 5
       }
      },
      "text/html": [
       "<div>\n",
       "<style scoped>\n",
       "    .dataframe tbody tr th:only-of-type {\n",
       "        vertical-align: middle;\n",
       "    }\n",
       "\n",
       "    .dataframe tbody tr th {\n",
       "        vertical-align: top;\n",
       "    }\n",
       "\n",
       "    .dataframe thead th {\n",
       "        text-align: right;\n",
       "    }\n",
       "</style>\n",
       "<table border=\"1\" class=\"dataframe\">\n",
       "  <thead>\n",
       "    <tr style=\"text-align: right;\">\n",
       "      <th></th>\n",
       "      <th>post_id</th>\n",
       "      <th>comment_id</th>\n",
       "      <th>created_utc</th>\n",
       "      <th>author</th>\n",
       "      <th>body</th>\n",
       "      <th>score</th>\n",
       "      <th>parent_permalink</th>\n",
       "    </tr>\n",
       "  </thead>\n",
       "  <tbody>\n",
       "    <tr>\n",
       "      <th>0</th>\n",
       "      <td>1f9ncnr</td>\n",
       "      <td>llmvyhz</td>\n",
       "      <td>1.725547e+09</td>\n",
       "      <td>Fr0d0TheFr0g</td>\n",
       "      <td>Oh man.....this would be so cool as the travel screen instead of the circles we currently have</td>\n",
       "      <td>3014</td>\n",
       "      <td>https://reddit.com/r/Sims4/comments/1f9ncnr/i_made_a_sims_4_world_map/</td>\n",
       "    </tr>\n",
       "    <tr>\n",
       "      <th>1</th>\n",
       "      <td>1f9ncnr</td>\n",
       "      <td>llmqptr</td>\n",
       "      <td>1.725545e+09</td>\n",
       "      <td>strangest_sea</td>\n",
       "      <td>This has been my baby for months and I'm so happy to have finished it! The image is huge, and there are tons of little details so I hope you enjoy exploring ✨\\n\\nUpdate: \"Windenburg\" has been fixe...</td>\n",
       "      <td>3629</td>\n",
       "      <td>https://reddit.com/r/Sims4/comments/1f9ncnr/i_made_a_sims_4_world_map/</td>\n",
       "    </tr>\n",
       "    <tr>\n",
       "      <th>2</th>\n",
       "      <td>1f9ncnr</td>\n",
       "      <td>llmyg7s</td>\n",
       "      <td>1.725548e+09</td>\n",
       "      <td>solunarmeetcute</td>\n",
       "      <td>This is great! From now on I will consult this map while planning my sims' trips to other worlds (for realism purposes).</td>\n",
       "      <td>986</td>\n",
       "      <td>https://reddit.com/r/Sims4/comments/1f9ncnr/i_made_a_sims_4_world_map/</td>\n",
       "    </tr>\n",
       "    <tr>\n",
       "      <th>3</th>\n",
       "      <td>1f9ncnr</td>\n",
       "      <td>lln5uto</td>\n",
       "      <td>1.725550e+09</td>\n",
       "      <td>SerenityBlackwood</td>\n",
       "      <td>This makes it even more impressive that werewolves can use the Moonwood Mill tunnels to get to Forgotten Hollow. \\n\\nThis is a really great map, and manages to actually incorporate all of the shap...</td>\n",
       "      <td>231</td>\n",
       "      <td>https://reddit.com/r/Sims4/comments/1f9ncnr/i_made_a_sims_4_world_map/</td>\n",
       "    </tr>\n",
       "    <tr>\n",
       "      <th>4</th>\n",
       "      <td>1f9ncnr</td>\n",
       "      <td>lln442n</td>\n",
       "      <td>1.725550e+09</td>\n",
       "      <td>PhenomenalPhoenix</td>\n",
       "      <td>Was Magnolia Promenade forgotten on purpose? lol\\n\\nAlso I was expecting Willow Creek and Newcrest to be right next to each other but having Copperdale between them seems really fitting and isn’t ...</td>\n",
       "      <td>313</td>\n",
       "      <td>https://reddit.com/r/Sims4/comments/1f9ncnr/i_made_a_sims_4_world_map/</td>\n",
       "    </tr>\n",
       "  </tbody>\n",
       "</table>\n",
       "</div>"
      ],
      "text/plain": [
       "   post_id comment_id   created_utc             author  \\\n",
       "0  1f9ncnr    llmvyhz  1.725547e+09       Fr0d0TheFr0g   \n",
       "1  1f9ncnr    llmqptr  1.725545e+09      strangest_sea   \n",
       "2  1f9ncnr    llmyg7s  1.725548e+09    solunarmeetcute   \n",
       "3  1f9ncnr    lln5uto  1.725550e+09  SerenityBlackwood   \n",
       "4  1f9ncnr    lln442n  1.725550e+09  PhenomenalPhoenix   \n",
       "\n",
       "                                                                                                                                                                                                      body  \\\n",
       "0                                                                                                           Oh man.....this would be so cool as the travel screen instead of the circles we currently have   \n",
       "1  This has been my baby for months and I'm so happy to have finished it! The image is huge, and there are tons of little details so I hope you enjoy exploring ✨\\n\\nUpdate: \"Windenburg\" has been fixe...   \n",
       "2                                                                                 This is great! From now on I will consult this map while planning my sims' trips to other worlds (for realism purposes).   \n",
       "3  This makes it even more impressive that werewolves can use the Moonwood Mill tunnels to get to Forgotten Hollow. \\n\\nThis is a really great map, and manages to actually incorporate all of the shap...   \n",
       "4  Was Magnolia Promenade forgotten on purpose? lol\\n\\nAlso I was expecting Willow Creek and Newcrest to be right next to each other but having Copperdale between them seems really fitting and isn’t ...   \n",
       "\n",
       "   score  \\\n",
       "0   3014   \n",
       "1   3629   \n",
       "2    986   \n",
       "3    231   \n",
       "4    313   \n",
       "\n",
       "                                                         parent_permalink  \n",
       "0  https://reddit.com/r/Sims4/comments/1f9ncnr/i_made_a_sims_4_world_map/  \n",
       "1  https://reddit.com/r/Sims4/comments/1f9ncnr/i_made_a_sims_4_world_map/  \n",
       "2  https://reddit.com/r/Sims4/comments/1f9ncnr/i_made_a_sims_4_world_map/  \n",
       "3  https://reddit.com/r/Sims4/comments/1f9ncnr/i_made_a_sims_4_world_map/  \n",
       "4  https://reddit.com/r/Sims4/comments/1f9ncnr/i_made_a_sims_4_world_map/  "
      ]
     },
     "metadata": {},
     "output_type": "display_data"
    },
    {
     "data": {
      "application/vnd.microsoft.datawrangler.viewer.v0+json": {
       "columns": [
        {
         "name": "index",
         "rawType": "int64",
         "type": "integer"
        },
        {
         "name": "id",
         "rawType": "object",
         "type": "string"
        },
        {
         "name": "created_utc",
         "rawType": "float64",
         "type": "float"
        },
        {
         "name": "created_date",
         "rawType": "datetime64[ns]",
         "type": "datetime"
        },
        {
         "name": "author",
         "rawType": "object",
         "type": "string"
        },
        {
         "name": "title",
         "rawType": "object",
         "type": "string"
        },
        {
         "name": "body",
         "rawType": "object",
         "type": "string"
        },
        {
         "name": "score",
         "rawType": "int64",
         "type": "integer"
        },
        {
         "name": "num_comments",
         "rawType": "int64",
         "type": "integer"
        },
        {
         "name": "permalink",
         "rawType": "object",
         "type": "string"
        },
        {
         "name": "subreddit",
         "rawType": "object",
         "type": "string"
        },
        {
         "name": "mode",
         "rawType": "object",
         "type": "string"
        }
       ],
       "ref": "4aecd1d9-c13e-4931-96dc-38a0fd57841b",
       "rows": [
        [
         "0",
         "1f9ncnr",
         "1725545093.0",
         "2024-09-05 14:04:53",
         "strangest_sea",
         "I made a Sims 4 World Map! 🌏",
         "",
         "20813",
         "730",
         "https://reddit.com/r/Sims4/comments/1f9ncnr/i_made_a_sims_4_world_map/",
         "Sims4",
         "top"
        ],
        [
         "1",
         "1fx4a6k",
         "1728174115.0",
         "2024-10-06 00:21:55",
         "smoretank",
         "My sim's wife recently passed away. First night as a ghost I find them cuddling. 😭",
         "Bawling my eyes out with my mom who I showed this too.  Lost my dad 2yrs ago and we joked he haunts mom.  Damn I wish this was real so my mom could hold dad again. ",
         "16149",
         "198",
         "https://reddit.com/r/Sims4/comments/1fx4a6k/my_sims_wife_recently_passed_away_first_night_as/",
         "Sims4",
         "top"
        ],
        [
         "2",
         "1evwu4m",
         "1724056992.0",
         "2024-08-19 08:43:12",
         "BigAssClapper",
         "10 years of this game and I still think this icon is for the office",
         "",
         "15991",
         "472",
         "https://reddit.com/r/Sims4/comments/1evwu4m/10_years_of_this_game_and_i_still_think_this_icon/",
         "Sims4",
         "top"
        ],
        [
         "3",
         "1gfm3jn",
         "1730293693.0",
         "2024-10-30 13:08:13",
         "fluffhq",
         "I made a grafting cheatsheet 🌿",
         "",
         "15955",
         "340",
         "https://reddit.com/r/Sims4/comments/1gfm3jn/i_made_a_grafting_cheatsheet/",
         "Sims4",
         "top"
        ],
        [
         "4",
         "1fpijoe",
         "1727307183.0",
         "2024-09-25 23:33:03",
         "BrockoBell",
         "Pro tip, don’t let your children use the slip ‘n slide in the winter.",
         "",
         "15579",
         "398",
         "https://reddit.com/r/Sims4/comments/1fpijoe/pro_tip_dont_let_your_children_use_the_slip_n/",
         "Sims4",
         "top"
        ]
       ],
       "shape": {
        "columns": 11,
        "rows": 5
       }
      },
      "text/html": [
       "<div>\n",
       "<style scoped>\n",
       "    .dataframe tbody tr th:only-of-type {\n",
       "        vertical-align: middle;\n",
       "    }\n",
       "\n",
       "    .dataframe tbody tr th {\n",
       "        vertical-align: top;\n",
       "    }\n",
       "\n",
       "    .dataframe thead th {\n",
       "        text-align: right;\n",
       "    }\n",
       "</style>\n",
       "<table border=\"1\" class=\"dataframe\">\n",
       "  <thead>\n",
       "    <tr style=\"text-align: right;\">\n",
       "      <th></th>\n",
       "      <th>id</th>\n",
       "      <th>created_utc</th>\n",
       "      <th>created_date</th>\n",
       "      <th>author</th>\n",
       "      <th>title</th>\n",
       "      <th>body</th>\n",
       "      <th>score</th>\n",
       "      <th>num_comments</th>\n",
       "      <th>permalink</th>\n",
       "      <th>subreddit</th>\n",
       "      <th>mode</th>\n",
       "    </tr>\n",
       "  </thead>\n",
       "  <tbody>\n",
       "    <tr>\n",
       "      <th>0</th>\n",
       "      <td>1f9ncnr</td>\n",
       "      <td>1.725545e+09</td>\n",
       "      <td>2024-09-05 14:04:53</td>\n",
       "      <td>strangest_sea</td>\n",
       "      <td>I made a Sims 4 World Map! 🌏</td>\n",
       "      <td></td>\n",
       "      <td>20813</td>\n",
       "      <td>730</td>\n",
       "      <td>https://reddit.com/r/Sims4/comments/1f9ncnr/i_made_a_sims_4_world_map/</td>\n",
       "      <td>Sims4</td>\n",
       "      <td>top</td>\n",
       "    </tr>\n",
       "    <tr>\n",
       "      <th>1</th>\n",
       "      <td>1fx4a6k</td>\n",
       "      <td>1.728174e+09</td>\n",
       "      <td>2024-10-06 00:21:55</td>\n",
       "      <td>smoretank</td>\n",
       "      <td>My sim's wife recently passed away. First night as a ghost I find them cuddling. 😭</td>\n",
       "      <td>Bawling my eyes out with my mom who I showed this too.  Lost my dad 2yrs ago and we joked he haunts mom.  Damn I wish this was real so my mom could hold dad again.</td>\n",
       "      <td>16149</td>\n",
       "      <td>198</td>\n",
       "      <td>https://reddit.com/r/Sims4/comments/1fx4a6k/my_sims_wife_recently_passed_away_first_night_as/</td>\n",
       "      <td>Sims4</td>\n",
       "      <td>top</td>\n",
       "    </tr>\n",
       "    <tr>\n",
       "      <th>2</th>\n",
       "      <td>1evwu4m</td>\n",
       "      <td>1.724057e+09</td>\n",
       "      <td>2024-08-19 08:43:12</td>\n",
       "      <td>BigAssClapper</td>\n",
       "      <td>10 years of this game and I still think this icon is for the office</td>\n",
       "      <td></td>\n",
       "      <td>15991</td>\n",
       "      <td>472</td>\n",
       "      <td>https://reddit.com/r/Sims4/comments/1evwu4m/10_years_of_this_game_and_i_still_think_this_icon/</td>\n",
       "      <td>Sims4</td>\n",
       "      <td>top</td>\n",
       "    </tr>\n",
       "    <tr>\n",
       "      <th>3</th>\n",
       "      <td>1gfm3jn</td>\n",
       "      <td>1.730294e+09</td>\n",
       "      <td>2024-10-30 13:08:13</td>\n",
       "      <td>fluffhq</td>\n",
       "      <td>I made a grafting cheatsheet 🌿</td>\n",
       "      <td></td>\n",
       "      <td>15955</td>\n",
       "      <td>340</td>\n",
       "      <td>https://reddit.com/r/Sims4/comments/1gfm3jn/i_made_a_grafting_cheatsheet/</td>\n",
       "      <td>Sims4</td>\n",
       "      <td>top</td>\n",
       "    </tr>\n",
       "    <tr>\n",
       "      <th>4</th>\n",
       "      <td>1fpijoe</td>\n",
       "      <td>1.727307e+09</td>\n",
       "      <td>2024-09-25 23:33:03</td>\n",
       "      <td>BrockoBell</td>\n",
       "      <td>Pro tip, don’t let your children use the slip ‘n slide in the winter.</td>\n",
       "      <td></td>\n",
       "      <td>15579</td>\n",
       "      <td>398</td>\n",
       "      <td>https://reddit.com/r/Sims4/comments/1fpijoe/pro_tip_dont_let_your_children_use_the_slip_n/</td>\n",
       "      <td>Sims4</td>\n",
       "      <td>top</td>\n",
       "    </tr>\n",
       "  </tbody>\n",
       "</table>\n",
       "</div>"
      ],
      "text/plain": [
       "        id   created_utc        created_date         author  \\\n",
       "0  1f9ncnr  1.725545e+09 2024-09-05 14:04:53  strangest_sea   \n",
       "1  1fx4a6k  1.728174e+09 2024-10-06 00:21:55      smoretank   \n",
       "2  1evwu4m  1.724057e+09 2024-08-19 08:43:12  BigAssClapper   \n",
       "3  1gfm3jn  1.730294e+09 2024-10-30 13:08:13        fluffhq   \n",
       "4  1fpijoe  1.727307e+09 2024-09-25 23:33:03     BrockoBell   \n",
       "\n",
       "                                                                                title  \\\n",
       "0                                                        I made a Sims 4 World Map! 🌏   \n",
       "1  My sim's wife recently passed away. First night as a ghost I find them cuddling. 😭   \n",
       "2                 10 years of this game and I still think this icon is for the office   \n",
       "3                                                      I made a grafting cheatsheet 🌿   \n",
       "4               Pro tip, don’t let your children use the slip ‘n slide in the winter.   \n",
       "\n",
       "                                                                                                                                                                   body  \\\n",
       "0                                                                                                                                                                         \n",
       "1  Bawling my eyes out with my mom who I showed this too.  Lost my dad 2yrs ago and we joked he haunts mom.  Damn I wish this was real so my mom could hold dad again.    \n",
       "2                                                                                                                                                                         \n",
       "3                                                                                                                                                                         \n",
       "4                                                                                                                                                                         \n",
       "\n",
       "   score  num_comments  \\\n",
       "0  20813           730   \n",
       "1  16149           198   \n",
       "2  15991           472   \n",
       "3  15955           340   \n",
       "4  15579           398   \n",
       "\n",
       "                                                                                        permalink  \\\n",
       "0                          https://reddit.com/r/Sims4/comments/1f9ncnr/i_made_a_sims_4_world_map/   \n",
       "1   https://reddit.com/r/Sims4/comments/1fx4a6k/my_sims_wife_recently_passed_away_first_night_as/   \n",
       "2  https://reddit.com/r/Sims4/comments/1evwu4m/10_years_of_this_game_and_i_still_think_this_icon/   \n",
       "3                       https://reddit.com/r/Sims4/comments/1gfm3jn/i_made_a_grafting_cheatsheet/   \n",
       "4      https://reddit.com/r/Sims4/comments/1fpijoe/pro_tip_dont_let_your_children_use_the_slip_n/   \n",
       "\n",
       "  subreddit mode  \n",
       "0     Sims4  top  \n",
       "1     Sims4  top  \n",
       "2     Sims4  top  \n",
       "3     Sims4  top  \n",
       "4     Sims4  top  "
      ]
     },
     "metadata": {},
     "output_type": "display_data"
    },
    {
     "name": "stdout",
     "output_type": "stream",
     "text": [
      "\n",
      "\n",
      "TheSims subreddit:\n"
     ]
    },
    {
     "data": {
      "application/vnd.microsoft.datawrangler.viewer.v0+json": {
       "columns": [
        {
         "name": "index",
         "rawType": "int64",
         "type": "integer"
        },
        {
         "name": "id",
         "rawType": "object",
         "type": "string"
        },
        {
         "name": "created_utc",
         "rawType": "float64",
         "type": "float"
        },
        {
         "name": "created_date",
         "rawType": "datetime64[ns]",
         "type": "datetime"
        },
        {
         "name": "author",
         "rawType": "object",
         "type": "string"
        },
        {
         "name": "title",
         "rawType": "object",
         "type": "string"
        },
        {
         "name": "body",
         "rawType": "object",
         "type": "string"
        },
        {
         "name": "score",
         "rawType": "int64",
         "type": "integer"
        },
        {
         "name": "num_comments",
         "rawType": "int64",
         "type": "integer"
        },
        {
         "name": "permalink",
         "rawType": "object",
         "type": "string"
        },
        {
         "name": "subreddit",
         "rawType": "object",
         "type": "string"
        },
        {
         "name": "mode",
         "rawType": "object",
         "type": "string"
        }
       ],
       "ref": "dabe282e-921a-41d8-86a2-05877ef68937",
       "rows": [
        [
         "0",
         "1hbjs4w",
         "1733885863.0",
         "2024-12-11 02:57:43",
         "Sweetheart213119",
         "My sim's infant has a goatee",
         "Why does my Sims infant look like he has a goatee 😆 🤣 😂 ",
         "28291",
         "620",
         "https://reddit.com/r/thesims/comments/1hbjs4w/my_sims_infant_has_a_goatee/",
         "thesims",
         "top"
        ],
        [
         "1",
         "1hm4uom",
         "1735147554.0",
         "2024-12-25 17:25:54",
         "princessfluffybutt96",
         "The Actual Truth",
         "I have to walk around for a bit after.",
         "25341",
         "201",
         "https://reddit.com/r/thesims/comments/1hm4uom/the_actual_truth/",
         "thesims",
         "top"
        ],
        [
         "2",
         "1h1ban9",
         "1732732360.0",
         "2024-11-27 18:32:40",
         "Ju7genesis",
         "Has anyone ever mentioned how they straight up whitewashed Travis Scott?",
         "",
         "23365",
         "275",
         "https://reddit.com/r/thesims/comments/1h1ban9/has_anyone_ever_mentioned_how_they_straight_up/",
         "thesims",
         "top"
        ],
        [
         "3",
         "1g3n31m",
         "1728930860.0",
         "2024-10-14 18:34:20",
         "i2tiny",
         "made me laugh lol",
         "",
         "17749",
         "120",
         "https://reddit.com/r/thesims/comments/1g3n31m/made_me_laugh_lol/",
         "thesims",
         "top"
        ],
        [
         "4",
         "1ggr5l4",
         "1730414582.0",
         "2024-10-31 22:43:02",
         "snorecrux",
         "Sul sul! My Bella Goth costume this year. It went over most people's heads but the real ones knew. ",
         "",
         "16950",
         "167",
         "https://reddit.com/r/thesims/comments/1ggr5l4/sul_sul_my_bella_goth_costume_this_year_it_went/",
         "thesims",
         "top"
        ]
       ],
       "shape": {
        "columns": 11,
        "rows": 5
       }
      },
      "text/html": [
       "<div>\n",
       "<style scoped>\n",
       "    .dataframe tbody tr th:only-of-type {\n",
       "        vertical-align: middle;\n",
       "    }\n",
       "\n",
       "    .dataframe tbody tr th {\n",
       "        vertical-align: top;\n",
       "    }\n",
       "\n",
       "    .dataframe thead th {\n",
       "        text-align: right;\n",
       "    }\n",
       "</style>\n",
       "<table border=\"1\" class=\"dataframe\">\n",
       "  <thead>\n",
       "    <tr style=\"text-align: right;\">\n",
       "      <th></th>\n",
       "      <th>id</th>\n",
       "      <th>created_utc</th>\n",
       "      <th>created_date</th>\n",
       "      <th>author</th>\n",
       "      <th>title</th>\n",
       "      <th>body</th>\n",
       "      <th>score</th>\n",
       "      <th>num_comments</th>\n",
       "      <th>permalink</th>\n",
       "      <th>subreddit</th>\n",
       "      <th>mode</th>\n",
       "    </tr>\n",
       "  </thead>\n",
       "  <tbody>\n",
       "    <tr>\n",
       "      <th>0</th>\n",
       "      <td>1hbjs4w</td>\n",
       "      <td>1.733886e+09</td>\n",
       "      <td>2024-12-11 02:57:43</td>\n",
       "      <td>Sweetheart213119</td>\n",
       "      <td>My sim's infant has a goatee</td>\n",
       "      <td>Why does my Sims infant look like he has a goatee 😆 🤣 😂</td>\n",
       "      <td>28291</td>\n",
       "      <td>620</td>\n",
       "      <td>https://reddit.com/r/thesims/comments/1hbjs4w/my_sims_infant_has_a_goatee/</td>\n",
       "      <td>thesims</td>\n",
       "      <td>top</td>\n",
       "    </tr>\n",
       "    <tr>\n",
       "      <th>1</th>\n",
       "      <td>1hm4uom</td>\n",
       "      <td>1.735148e+09</td>\n",
       "      <td>2024-12-25 17:25:54</td>\n",
       "      <td>princessfluffybutt96</td>\n",
       "      <td>The Actual Truth</td>\n",
       "      <td>I have to walk around for a bit after.</td>\n",
       "      <td>25341</td>\n",
       "      <td>201</td>\n",
       "      <td>https://reddit.com/r/thesims/comments/1hm4uom/the_actual_truth/</td>\n",
       "      <td>thesims</td>\n",
       "      <td>top</td>\n",
       "    </tr>\n",
       "    <tr>\n",
       "      <th>2</th>\n",
       "      <td>1h1ban9</td>\n",
       "      <td>1.732732e+09</td>\n",
       "      <td>2024-11-27 18:32:40</td>\n",
       "      <td>Ju7genesis</td>\n",
       "      <td>Has anyone ever mentioned how they straight up whitewashed Travis Scott?</td>\n",
       "      <td></td>\n",
       "      <td>23365</td>\n",
       "      <td>275</td>\n",
       "      <td>https://reddit.com/r/thesims/comments/1h1ban9/has_anyone_ever_mentioned_how_they_straight_up/</td>\n",
       "      <td>thesims</td>\n",
       "      <td>top</td>\n",
       "    </tr>\n",
       "    <tr>\n",
       "      <th>3</th>\n",
       "      <td>1g3n31m</td>\n",
       "      <td>1.728931e+09</td>\n",
       "      <td>2024-10-14 18:34:20</td>\n",
       "      <td>i2tiny</td>\n",
       "      <td>made me laugh lol</td>\n",
       "      <td></td>\n",
       "      <td>17749</td>\n",
       "      <td>120</td>\n",
       "      <td>https://reddit.com/r/thesims/comments/1g3n31m/made_me_laugh_lol/</td>\n",
       "      <td>thesims</td>\n",
       "      <td>top</td>\n",
       "    </tr>\n",
       "    <tr>\n",
       "      <th>4</th>\n",
       "      <td>1ggr5l4</td>\n",
       "      <td>1.730415e+09</td>\n",
       "      <td>2024-10-31 22:43:02</td>\n",
       "      <td>snorecrux</td>\n",
       "      <td>Sul sul! My Bella Goth costume this year. It went over most people's heads but the real ones knew.</td>\n",
       "      <td></td>\n",
       "      <td>16950</td>\n",
       "      <td>167</td>\n",
       "      <td>https://reddit.com/r/thesims/comments/1ggr5l4/sul_sul_my_bella_goth_costume_this_year_it_went/</td>\n",
       "      <td>thesims</td>\n",
       "      <td>top</td>\n",
       "    </tr>\n",
       "  </tbody>\n",
       "</table>\n",
       "</div>"
      ],
      "text/plain": [
       "        id   created_utc        created_date                author  \\\n",
       "0  1hbjs4w  1.733886e+09 2024-12-11 02:57:43      Sweetheart213119   \n",
       "1  1hm4uom  1.735148e+09 2024-12-25 17:25:54  princessfluffybutt96   \n",
       "2  1h1ban9  1.732732e+09 2024-11-27 18:32:40            Ju7genesis   \n",
       "3  1g3n31m  1.728931e+09 2024-10-14 18:34:20                i2tiny   \n",
       "4  1ggr5l4  1.730415e+09 2024-10-31 22:43:02             snorecrux   \n",
       "\n",
       "                                                                                                 title  \\\n",
       "0                                                                         My sim's infant has a goatee   \n",
       "1                                                                                     The Actual Truth   \n",
       "2                             Has anyone ever mentioned how they straight up whitewashed Travis Scott?   \n",
       "3                                                                                    made me laugh lol   \n",
       "4  Sul sul! My Bella Goth costume this year. It went over most people's heads but the real ones knew.    \n",
       "\n",
       "                                                       body  score  \\\n",
       "0  Why does my Sims infant look like he has a goatee 😆 🤣 😂   28291   \n",
       "1                    I have to walk around for a bit after.  25341   \n",
       "2                                                            23365   \n",
       "3                                                            17749   \n",
       "4                                                            16950   \n",
       "\n",
       "   num_comments  \\\n",
       "0           620   \n",
       "1           201   \n",
       "2           275   \n",
       "3           120   \n",
       "4           167   \n",
       "\n",
       "                                                                                        permalink  \\\n",
       "0                      https://reddit.com/r/thesims/comments/1hbjs4w/my_sims_infant_has_a_goatee/   \n",
       "1                                 https://reddit.com/r/thesims/comments/1hm4uom/the_actual_truth/   \n",
       "2   https://reddit.com/r/thesims/comments/1h1ban9/has_anyone_ever_mentioned_how_they_straight_up/   \n",
       "3                                https://reddit.com/r/thesims/comments/1g3n31m/made_me_laugh_lol/   \n",
       "4  https://reddit.com/r/thesims/comments/1ggr5l4/sul_sul_my_bella_goth_costume_this_year_it_went/   \n",
       "\n",
       "  subreddit mode  \n",
       "0   thesims  top  \n",
       "1   thesims  top  \n",
       "2   thesims  top  \n",
       "3   thesims  top  \n",
       "4   thesims  top  "
      ]
     },
     "metadata": {},
     "output_type": "display_data"
    },
    {
     "data": {
      "application/vnd.microsoft.datawrangler.viewer.v0+json": {
       "columns": [
        {
         "name": "index",
         "rawType": "int64",
         "type": "integer"
        },
        {
         "name": "post_id",
         "rawType": "object",
         "type": "string"
        },
        {
         "name": "comment_id",
         "rawType": "object",
         "type": "string"
        },
        {
         "name": "created_utc",
         "rawType": "float64",
         "type": "float"
        },
        {
         "name": "author",
         "rawType": "object",
         "type": "string"
        },
        {
         "name": "body",
         "rawType": "object",
         "type": "string"
        },
        {
         "name": "score",
         "rawType": "int64",
         "type": "integer"
        },
        {
         "name": "parent_permalink",
         "rawType": "object",
         "type": "string"
        }
       ],
       "ref": "5f6583d5-467a-4a57-bc22-33c0a1291c7c",
       "rows": [
        [
         "0",
         "1hbjs4w",
         "m1gvbgz",
         "1733886609.0",
         "gimmeyourbadinage",
         "The second photo with dad in the corner 😂",
         "2639",
         "https://reddit.com/r/thesims/comments/1hbjs4w/my_sims_infant_has_a_goatee/"
        ],
        [
         "1",
         "1hbjs4w",
         "m1gwncb",
         "1733887136.0",
         "KrisKat38",
         "https://preview.redd.it/oegub3xn056e1.jpeg?width=686&format=pjpg&auto=webp&s=d9f4e6a809966aaab60566176a4474c8aba44058",
         "1873",
         "https://reddit.com/r/thesims/comments/1hbjs4w/my_sims_infant_has_a_goatee/"
        ],
        [
         "2",
         "1hbjs4w",
         "m1guz0i",
         "1733886472.0",
         "JayandMeeka",
         "I'm sorry but that's hilarious omg",
         "4891",
         "https://reddit.com/r/thesims/comments/1hbjs4w/my_sims_infant_has_a_goatee/"
        ],
        [
         "3",
         "1hbjs4w",
         "m1guzzy",
         "1733886483.0",
         "endlesslatte",
         "he was born to sing in a boy band, that’s why",
         "355",
         "https://reddit.com/r/thesims/comments/1hbjs4w/my_sims_infant_has_a_goatee/"
        ],
        [
         "4",
         "1hbjs4w",
         "m1gx764",
         "1733887358.0",
         "Massive_Amphibian_91",
         "I wonder if you have CC that is categorized as a skin feature but it’s actually facial hair….",
         "119",
         "https://reddit.com/r/thesims/comments/1hbjs4w/my_sims_infant_has_a_goatee/"
        ]
       ],
       "shape": {
        "columns": 7,
        "rows": 5
       }
      },
      "text/html": [
       "<div>\n",
       "<style scoped>\n",
       "    .dataframe tbody tr th:only-of-type {\n",
       "        vertical-align: middle;\n",
       "    }\n",
       "\n",
       "    .dataframe tbody tr th {\n",
       "        vertical-align: top;\n",
       "    }\n",
       "\n",
       "    .dataframe thead th {\n",
       "        text-align: right;\n",
       "    }\n",
       "</style>\n",
       "<table border=\"1\" class=\"dataframe\">\n",
       "  <thead>\n",
       "    <tr style=\"text-align: right;\">\n",
       "      <th></th>\n",
       "      <th>post_id</th>\n",
       "      <th>comment_id</th>\n",
       "      <th>created_utc</th>\n",
       "      <th>author</th>\n",
       "      <th>body</th>\n",
       "      <th>score</th>\n",
       "      <th>parent_permalink</th>\n",
       "    </tr>\n",
       "  </thead>\n",
       "  <tbody>\n",
       "    <tr>\n",
       "      <th>0</th>\n",
       "      <td>1hbjs4w</td>\n",
       "      <td>m1gvbgz</td>\n",
       "      <td>1.733887e+09</td>\n",
       "      <td>gimmeyourbadinage</td>\n",
       "      <td>The second photo with dad in the corner 😂</td>\n",
       "      <td>2639</td>\n",
       "      <td>https://reddit.com/r/thesims/comments/1hbjs4w/my_sims_infant_has_a_goatee/</td>\n",
       "    </tr>\n",
       "    <tr>\n",
       "      <th>1</th>\n",
       "      <td>1hbjs4w</td>\n",
       "      <td>m1gwncb</td>\n",
       "      <td>1.733887e+09</td>\n",
       "      <td>KrisKat38</td>\n",
       "      <td>https://preview.redd.it/oegub3xn056e1.jpeg?width=686&amp;format=pjpg&amp;auto=webp&amp;s=d9f4e6a809966aaab60566176a4474c8aba44058</td>\n",
       "      <td>1873</td>\n",
       "      <td>https://reddit.com/r/thesims/comments/1hbjs4w/my_sims_infant_has_a_goatee/</td>\n",
       "    </tr>\n",
       "    <tr>\n",
       "      <th>2</th>\n",
       "      <td>1hbjs4w</td>\n",
       "      <td>m1guz0i</td>\n",
       "      <td>1.733886e+09</td>\n",
       "      <td>JayandMeeka</td>\n",
       "      <td>I'm sorry but that's hilarious omg</td>\n",
       "      <td>4891</td>\n",
       "      <td>https://reddit.com/r/thesims/comments/1hbjs4w/my_sims_infant_has_a_goatee/</td>\n",
       "    </tr>\n",
       "    <tr>\n",
       "      <th>3</th>\n",
       "      <td>1hbjs4w</td>\n",
       "      <td>m1guzzy</td>\n",
       "      <td>1.733886e+09</td>\n",
       "      <td>endlesslatte</td>\n",
       "      <td>he was born to sing in a boy band, that’s why</td>\n",
       "      <td>355</td>\n",
       "      <td>https://reddit.com/r/thesims/comments/1hbjs4w/my_sims_infant_has_a_goatee/</td>\n",
       "    </tr>\n",
       "    <tr>\n",
       "      <th>4</th>\n",
       "      <td>1hbjs4w</td>\n",
       "      <td>m1gx764</td>\n",
       "      <td>1.733887e+09</td>\n",
       "      <td>Massive_Amphibian_91</td>\n",
       "      <td>I wonder if you have CC that is categorized as a skin feature but it’s actually facial hair….</td>\n",
       "      <td>119</td>\n",
       "      <td>https://reddit.com/r/thesims/comments/1hbjs4w/my_sims_infant_has_a_goatee/</td>\n",
       "    </tr>\n",
       "  </tbody>\n",
       "</table>\n",
       "</div>"
      ],
      "text/plain": [
       "   post_id comment_id   created_utc                author  \\\n",
       "0  1hbjs4w    m1gvbgz  1.733887e+09     gimmeyourbadinage   \n",
       "1  1hbjs4w    m1gwncb  1.733887e+09             KrisKat38   \n",
       "2  1hbjs4w    m1guz0i  1.733886e+09           JayandMeeka   \n",
       "3  1hbjs4w    m1guzzy  1.733886e+09          endlesslatte   \n",
       "4  1hbjs4w    m1gx764  1.733887e+09  Massive_Amphibian_91   \n",
       "\n",
       "                                                                                                                    body  \\\n",
       "0                                                                              The second photo with dad in the corner 😂   \n",
       "1  https://preview.redd.it/oegub3xn056e1.jpeg?width=686&format=pjpg&auto=webp&s=d9f4e6a809966aaab60566176a4474c8aba44058   \n",
       "2                                                                                     I'm sorry but that's hilarious omg   \n",
       "3                                                                          he was born to sing in a boy band, that’s why   \n",
       "4                          I wonder if you have CC that is categorized as a skin feature but it’s actually facial hair….   \n",
       "\n",
       "   score  \\\n",
       "0   2639   \n",
       "1   1873   \n",
       "2   4891   \n",
       "3    355   \n",
       "4    119   \n",
       "\n",
       "                                                             parent_permalink  \n",
       "0  https://reddit.com/r/thesims/comments/1hbjs4w/my_sims_infant_has_a_goatee/  \n",
       "1  https://reddit.com/r/thesims/comments/1hbjs4w/my_sims_infant_has_a_goatee/  \n",
       "2  https://reddit.com/r/thesims/comments/1hbjs4w/my_sims_infant_has_a_goatee/  \n",
       "3  https://reddit.com/r/thesims/comments/1hbjs4w/my_sims_infant_has_a_goatee/  \n",
       "4  https://reddit.com/r/thesims/comments/1hbjs4w/my_sims_infant_has_a_goatee/  "
      ]
     },
     "metadata": {},
     "output_type": "display_data"
    },
    {
     "data": {
      "text/plain": [
       "(32427, None)"
      ]
     },
     "execution_count": 8,
     "metadata": {},
     "output_type": "execute_result"
    }
   ],
   "source": [
    "print(\"Sims4 subreddit:\")\n",
    "len(df_sims4_comments), display(df_sims4_comments.head(5))\n",
    "len(df_sims4_posts), display(df_sims4_posts.head(5))\n",
    "\n",
    "print(\"\\n\\nTheSims subreddit:\")\n",
    "len(df_thesims_posts), display(df_thesims_posts.head(5))\n",
    "len(df_thesims_comments), display(df_thesims_comments.head(5))"
   ]
  },
  {
   "cell_type": "code",
   "execution_count": 9,
   "id": "479604ba",
   "metadata": {},
   "outputs": [],
   "source": [
    "from pathlib import Path\n",
    "import sqlite3\n",
    "\n",
    "DB_DIR = Path(\"../data/raw\")\n",
    "DB_DIR.mkdir(parents=True, exist_ok=True)\n",
    "DB_PATH = DB_DIR / \"sims4.db\"\n",
    "\n",
    "def get_conn(db_path=DB_PATH):\n",
    "    conn = sqlite3.connect(db_path)\n",
    "    # enforce FK constraints\n",
    "    conn.execute(\"PRAGMA foreign_keys = ON;\")\n",
    "    return conn"
   ]
  },
  {
   "cell_type": "code",
   "execution_count": null,
   "id": "d217c8cd",
   "metadata": {},
   "outputs": [],
   "source": [
    "from src.collect_data import ensure_posts_schema, ensure_comments_schema, insert_posts, insert_comments"
   ]
  },
  {
   "cell_type": "code",
   "execution_count": null,
   "id": "9651e06e",
   "metadata": {},
   "outputs": [],
   "source": [
    "dfs_posts = [df_sims4_posts, df_thesims_posts]\n",
    "dfs_comments = [df_sims4_comments, df_thesims_comments]\n",
    "\n",
    "df_posts_norm = ensure_posts_schema(posts_all)\n",
    "df_comments_norm = ensure_comments_schema(comments_all, df_posts_norm)\n",
    "\n",
    "df_posts_norm = df_posts_norm.drop_duplicates(subset=[\"post_id\"])\n",
    "df_comments_norm = df_comments_norm.drop_duplicates(subset=[\"comment_id\"])\n",
    "\n",
    "with get_conn() as conn:\n",
    "    insert_posts(conn, df_posts_norm)\n",
    "    insert_comments(conn, df_comments_norm)\n",
    "\n",
    "print(\"Done inserting concatenated posts & comments.\")"
   ]
  }
 ],
 "metadata": {
  "kernelspec": {
   "display_name": "my_DS",
   "language": "python",
   "name": "python3"
  },
  "language_info": {
   "codemirror_mode": {
    "name": "ipython",
    "version": 3
   },
   "file_extension": ".py",
   "mimetype": "text/x-python",
   "name": "python",
   "nbconvert_exporter": "python",
   "pygments_lexer": "ipython3",
   "version": "3.13.5"
  }
 },
 "nbformat": 4,
 "nbformat_minor": 5
}
