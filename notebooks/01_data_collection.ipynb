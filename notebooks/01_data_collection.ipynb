{
 "cells": [
  {
   "cell_type": "markdown",
   "id": "3420049d",
   "metadata": {},
   "source": [
    "# 01 — Data Collection: The Sims 4\n",
    "**Goal:** Pull player discussions from Reddit and EA Answers HQ for sentiment & topic analysis.  \n",
    "**Outputs:** \n",
    "- `data/raw/reddit_sims4_posts.csv` (and optionally `..._comments.csv`)\n",
    "- `data/raw/ea_forum_threads.csv`\n",
    "**Provenance:** Collected with PRAW (Reddit API) and requests/BeautifulSoup (forums)."
   ]
  },
  {
   "cell_type": "code",
   "execution_count": 7,
   "id": "4e4df1d9",
   "metadata": {},
   "outputs": [],
   "source": [
    "import os\n",
    "from pathlib import Path\n",
    "import pandas as pd\n",
    "import importlib\n",
    "\n",
    "\n",
    "# Project paths\n",
    "DATA_RAW = Path(\"../data/raw\")\n",
    "DATA_RAW.mkdir(parents=True, exist_ok=True)\n",
    "\n",
    "# Display options (handy in notebooks)\n",
    "pd.set_option(\"display.max_colwidth\", 200)\n",
    "pd.set_option(\"display.max_rows\", 50)"
   ]
  },
  {
   "cell_type": "code",
   "execution_count": 8,
   "id": "b2c2044c",
   "metadata": {},
   "outputs": [],
   "source": [
    "from dotenv import load_dotenv\n",
    "load_dotenv()\n",
    "\n",
    "RID  = os.getenv(\"REDDIT_ID\")\n",
    "RSEC = os.getenv(\"REDDIT_SECRET\")\n",
    "RUA  = os.getenv(\"REDDIT_USER_AGENT\")\n",
    "\n",
    "assert all([RID, RSEC, RUA]), \"Missing one or more Reddit creds. Check your .env!\""
   ]
  },
  {
   "cell_type": "code",
   "execution_count": 9,
   "id": "b23876c0",
   "metadata": {},
   "outputs": [
    {
     "name": "stdout",
     "output_type": "stream",
     "text": [
      "CWD: /Users/baderrezek/Desktop/Projects/Personal/sims4-sentiment-analysis/notebooks\n",
      "On sys.path? True\n"
     ]
    }
   ],
   "source": [
    "import sys\n",
    "from pathlib import Path\n",
    "\n",
    "# This notebook lives in: <project_root>/notebooks/\n",
    "ROOT = Path(\"..\").resolve()   # <-- parent of notebooks = project root\n",
    "if str(ROOT) not in sys.path:\n",
    "    sys.path.insert(0, str(ROOT))\n",
    "\n",
    "print(\"CWD:\", Path.cwd())\n",
    "print(\"On sys.path?\", str(ROOT) in sys.path)"
   ]
  },
  {
   "cell_type": "code",
   "execution_count": 10,
   "id": "90b852c0",
   "metadata": {},
   "outputs": [],
   "source": [
    "import sys\n",
    "sys.path.append(\"../src\")\n",
    "\n",
    "from src.collect_data import collect_reddit_posts, collect_comments_for_posts"
   ]
  },
  {
   "cell_type": "code",
   "execution_count": 11,
   "id": "c29d05cc",
   "metadata": {},
   "outputs": [],
   "source": [
    "df_sims4_posts = collect_reddit_posts(RID, RSEC, RUA, subreddit_name=\"Sims4\", limit=750, time_filter=\"year\")\n",
    "df_thesims_posts = collect_reddit_posts(RID, RSEC, RUA, subreddit_name=\"thesims\", limit=750, time_filter=\"year\")"
   ]
  },
  {
   "cell_type": "code",
   "execution_count": 12,
   "id": "e26f15eb",
   "metadata": {},
   "outputs": [],
   "source": [
    "sample_ids = df_thesims_posts[\"id\"].head(250).tolist()\n",
    "df_thesims_comments = collect_comments_for_posts(RID, RSEC, RUA, sample_ids)"
   ]
  },
  {
   "cell_type": "code",
   "execution_count": 13,
   "id": "cd66c0a9",
   "metadata": {},
   "outputs": [],
   "source": [
    "sample_ids = df_sims4_posts[\"id\"].head(250).tolist()\n",
    "df_sims4_comments = collect_comments_for_posts(RID, RSEC, RUA, sample_ids)"
   ]
  },
  {
   "cell_type": "code",
   "execution_count": 14,
   "id": "2b3a9843",
   "metadata": {},
   "outputs": [
    {
     "name": "stdout",
     "output_type": "stream",
     "text": [
      "Sims4 subreddit:\n"
     ]
    },
    {
     "data": {
      "application/vnd.microsoft.datawrangler.viewer.v0+json": {
       "columns": [
        {
         "name": "index",
         "rawType": "int64",
         "type": "integer"
        },
        {
         "name": "post_id",
         "rawType": "object",
         "type": "string"
        },
        {
         "name": "comment_id",
         "rawType": "object",
         "type": "string"
        },
        {
         "name": "created_utc",
         "rawType": "float64",
         "type": "float"
        },
        {
         "name": "author",
         "rawType": "object",
         "type": "string"
        },
        {
         "name": "body",
         "rawType": "object",
         "type": "string"
        },
        {
         "name": "score",
         "rawType": "int64",
         "type": "integer"
        },
        {
         "name": "parent_permalink",
         "rawType": "object",
         "type": "string"
        }
       ],
       "ref": "b22a8fef-8b25-421d-a6e7-283509c9b171",
       "rows": [
        [
         "0",
         "1mupzk3",
         "n9kjebi",
         "1755626607.0",
         "creeativerex",
         "# How your posted questions should start:\n\n    Platform: PC\n    Mods: Yes\n    Game version: 1.116.202.1030\n    When I opened my game all my icons were messed up.....",
         "1",
         "https://reddit.com/r/Sims4/comments/1mupzk3/troubleshooting_thread_bugs_errors_mod_issues_ea/"
        ],
        [
         "1",
         "1mupzk3",
         "n9km6of",
         "1755627408.0",
         "Better-Gas-2295",
         "Playform: PC\n\nMods: Yes\n\nVersion: 1.117.227.1030.\n\nWhen I open a save it doesn’t let me play with the characters, it just kicks me back to the world selection screen",
         "46",
         "https://reddit.com/r/Sims4/comments/1mupzk3/troubleshooting_thread_bugs_errors_mod_issues_ea/"
        ],
        [
         "2",
         "1mupzk3",
         "n9l9sqo",
         "1755634242.0",
         "Muted-Mongoose-5043",
         "Mac, yes mods and cc,\nVersion 1.117.221.1220 \nEverytime I go to select a sim to play it loads and then brings me back to the world select screen. I can move my sims via the visit option but can’t actually play",
         "29",
         "https://reddit.com/r/Sims4/comments/1mupzk3/troubleshooting_thread_bugs_errors_mod_issues_ea/"
        ],
        [
         "3",
         "1mupzk3",
         "n9l0dc5",
         "1755631509.0",
         "Sacrefice342",
         "Platform: Pc\n\nMods: Yes\n\nGame version: 1.117.227.1030 DX 11\n\nWhen i load my household it returns me back to the World Selection Screen also the BGM is super delayed after loading in\n\nResults so far Sim4commuityLib, Hoe it Up, Passionate Romance are breaking my game. Better Exceptions also told me Nisas Wicked Perversions and Cumshine are broken scripts that crash my game. etheria\\_romanceoverhaul broken. Sorry for turning this Nsfw.\n\n  \nBasemental, WW plus props and animations and Mccc are working properly.",
         "23",
         "https://reddit.com/r/Sims4/comments/1mupzk3/troubleshooting_thread_bugs_errors_mod_issues_ea/"
        ],
        [
         "4",
         "1mupzk3",
         "n9ldt8m",
         "1755635372.0",
         "Less_Ad_1194",
         "`Which platform? PC`\n\n`Any mods or cc? Yes`\n\n`Game version 1.117.221.1020`\n\n`Description: Yeah whenever I try to select my family I just get thrown back to the world select menu :/`",
         "22",
         "https://reddit.com/r/Sims4/comments/1mupzk3/troubleshooting_thread_bugs_errors_mod_issues_ea/"
        ]
       ],
       "shape": {
        "columns": 7,
        "rows": 5
       }
      },
      "text/html": [
       "<div>\n",
       "<style scoped>\n",
       "    .dataframe tbody tr th:only-of-type {\n",
       "        vertical-align: middle;\n",
       "    }\n",
       "\n",
       "    .dataframe tbody tr th {\n",
       "        vertical-align: top;\n",
       "    }\n",
       "\n",
       "    .dataframe thead th {\n",
       "        text-align: right;\n",
       "    }\n",
       "</style>\n",
       "<table border=\"1\" class=\"dataframe\">\n",
       "  <thead>\n",
       "    <tr style=\"text-align: right;\">\n",
       "      <th></th>\n",
       "      <th>post_id</th>\n",
       "      <th>comment_id</th>\n",
       "      <th>created_utc</th>\n",
       "      <th>author</th>\n",
       "      <th>body</th>\n",
       "      <th>score</th>\n",
       "      <th>parent_permalink</th>\n",
       "    </tr>\n",
       "  </thead>\n",
       "  <tbody>\n",
       "    <tr>\n",
       "      <th>0</th>\n",
       "      <td>1mupzk3</td>\n",
       "      <td>n9kjebi</td>\n",
       "      <td>1.755627e+09</td>\n",
       "      <td>creeativerex</td>\n",
       "      <td># How your posted questions should start:\\n\\n    Platform: PC\\n    Mods: Yes\\n    Game version: 1.116.202.1030\\n    When I opened my game all my icons were messed up.....</td>\n",
       "      <td>1</td>\n",
       "      <td>https://reddit.com/r/Sims4/comments/1mupzk3/troubleshooting_thread_bugs_errors_mod_issues_ea/</td>\n",
       "    </tr>\n",
       "    <tr>\n",
       "      <th>1</th>\n",
       "      <td>1mupzk3</td>\n",
       "      <td>n9km6of</td>\n",
       "      <td>1.755627e+09</td>\n",
       "      <td>Better-Gas-2295</td>\n",
       "      <td>Playform: PC\\n\\nMods: Yes\\n\\nVersion: 1.117.227.1030.\\n\\nWhen I open a save it doesn’t let me play with the characters, it just kicks me back to the world selection screen</td>\n",
       "      <td>46</td>\n",
       "      <td>https://reddit.com/r/Sims4/comments/1mupzk3/troubleshooting_thread_bugs_errors_mod_issues_ea/</td>\n",
       "    </tr>\n",
       "    <tr>\n",
       "      <th>2</th>\n",
       "      <td>1mupzk3</td>\n",
       "      <td>n9l9sqo</td>\n",
       "      <td>1.755634e+09</td>\n",
       "      <td>Muted-Mongoose-5043</td>\n",
       "      <td>Mac, yes mods and cc,\\nVersion 1.117.221.1220 \\nEverytime I go to select a sim to play it loads and then brings me back to the world select screen. I can move my sims via the visit option but can’...</td>\n",
       "      <td>29</td>\n",
       "      <td>https://reddit.com/r/Sims4/comments/1mupzk3/troubleshooting_thread_bugs_errors_mod_issues_ea/</td>\n",
       "    </tr>\n",
       "    <tr>\n",
       "      <th>3</th>\n",
       "      <td>1mupzk3</td>\n",
       "      <td>n9l0dc5</td>\n",
       "      <td>1.755632e+09</td>\n",
       "      <td>Sacrefice342</td>\n",
       "      <td>Platform: Pc\\n\\nMods: Yes\\n\\nGame version: 1.117.227.1030 DX 11\\n\\nWhen i load my household it returns me back to the World Selection Screen also the BGM is super delayed after loading in\\n\\nResul...</td>\n",
       "      <td>23</td>\n",
       "      <td>https://reddit.com/r/Sims4/comments/1mupzk3/troubleshooting_thread_bugs_errors_mod_issues_ea/</td>\n",
       "    </tr>\n",
       "    <tr>\n",
       "      <th>4</th>\n",
       "      <td>1mupzk3</td>\n",
       "      <td>n9ldt8m</td>\n",
       "      <td>1.755635e+09</td>\n",
       "      <td>Less_Ad_1194</td>\n",
       "      <td>`Which platform? PC`\\n\\n`Any mods or cc? Yes`\\n\\n`Game version 1.117.221.1020`\\n\\n`Description: Yeah whenever I try to select my family I just get thrown back to the world select menu :/`</td>\n",
       "      <td>22</td>\n",
       "      <td>https://reddit.com/r/Sims4/comments/1mupzk3/troubleshooting_thread_bugs_errors_mod_issues_ea/</td>\n",
       "    </tr>\n",
       "  </tbody>\n",
       "</table>\n",
       "</div>"
      ],
      "text/plain": [
       "   post_id comment_id   created_utc               author  \\\n",
       "0  1mupzk3    n9kjebi  1.755627e+09         creeativerex   \n",
       "1  1mupzk3    n9km6of  1.755627e+09      Better-Gas-2295   \n",
       "2  1mupzk3    n9l9sqo  1.755634e+09  Muted-Mongoose-5043   \n",
       "3  1mupzk3    n9l0dc5  1.755632e+09         Sacrefice342   \n",
       "4  1mupzk3    n9ldt8m  1.755635e+09         Less_Ad_1194   \n",
       "\n",
       "                                                                                                                                                                                                      body  \\\n",
       "0                               # How your posted questions should start:\\n\\n    Platform: PC\\n    Mods: Yes\\n    Game version: 1.116.202.1030\\n    When I opened my game all my icons were messed up.....   \n",
       "1                              Playform: PC\\n\\nMods: Yes\\n\\nVersion: 1.117.227.1030.\\n\\nWhen I open a save it doesn’t let me play with the characters, it just kicks me back to the world selection screen   \n",
       "2  Mac, yes mods and cc,\\nVersion 1.117.221.1220 \\nEverytime I go to select a sim to play it loads and then brings me back to the world select screen. I can move my sims via the visit option but can’...   \n",
       "3  Platform: Pc\\n\\nMods: Yes\\n\\nGame version: 1.117.227.1030 DX 11\\n\\nWhen i load my household it returns me back to the World Selection Screen also the BGM is super delayed after loading in\\n\\nResul...   \n",
       "4              `Which platform? PC`\\n\\n`Any mods or cc? Yes`\\n\\n`Game version 1.117.221.1020`\\n\\n`Description: Yeah whenever I try to select my family I just get thrown back to the world select menu :/`   \n",
       "\n",
       "   score  \\\n",
       "0      1   \n",
       "1     46   \n",
       "2     29   \n",
       "3     23   \n",
       "4     22   \n",
       "\n",
       "                                                                                parent_permalink  \n",
       "0  https://reddit.com/r/Sims4/comments/1mupzk3/troubleshooting_thread_bugs_errors_mod_issues_ea/  \n",
       "1  https://reddit.com/r/Sims4/comments/1mupzk3/troubleshooting_thread_bugs_errors_mod_issues_ea/  \n",
       "2  https://reddit.com/r/Sims4/comments/1mupzk3/troubleshooting_thread_bugs_errors_mod_issues_ea/  \n",
       "3  https://reddit.com/r/Sims4/comments/1mupzk3/troubleshooting_thread_bugs_errors_mod_issues_ea/  \n",
       "4  https://reddit.com/r/Sims4/comments/1mupzk3/troubleshooting_thread_bugs_errors_mod_issues_ea/  "
      ]
     },
     "metadata": {},
     "output_type": "display_data"
    },
    {
     "data": {
      "application/vnd.microsoft.datawrangler.viewer.v0+json": {
       "columns": [
        {
         "name": "index",
         "rawType": "int64",
         "type": "integer"
        },
        {
         "name": "id",
         "rawType": "object",
         "type": "string"
        },
        {
         "name": "created_utc",
         "rawType": "float64",
         "type": "float"
        },
        {
         "name": "created_date",
         "rawType": "datetime64[ns]",
         "type": "datetime"
        },
        {
         "name": "author",
         "rawType": "object",
         "type": "string"
        },
        {
         "name": "title",
         "rawType": "object",
         "type": "string"
        },
        {
         "name": "body",
         "rawType": "object",
         "type": "string"
        },
        {
         "name": "score",
         "rawType": "int64",
         "type": "integer"
        },
        {
         "name": "num_comments",
         "rawType": "int64",
         "type": "integer"
        },
        {
         "name": "permalink",
         "rawType": "object",
         "type": "string"
        },
        {
         "name": "subreddit",
         "rawType": "object",
         "type": "string"
        },
        {
         "name": "mode",
         "rawType": "object",
         "type": "string"
        }
       ],
       "ref": "c3c469f4-f941-4fbe-9f97-86a24623ca09",
       "rows": [
        [
         "0",
         "1mupzk3",
         "1755626548.0",
         "2025-08-19 18:02:28",
         "creeativerex",
         "Troubleshooting Thread — Bugs? Errors? Mod issues? EA app issues? Post about them here! Update 8/19/2025 [PC: 1.117.221.1020  / Mac: 1.117.221.1220 / Console: 2.18]\nTroubleshooting thread",
         "**Please read** the entire thread if you’re not familiar with this help section. If you have game issues, mod issues, App or console issues, please post them here via comment to get help instead of making an individual post. We've created this post for all troubleshooting issues, but this specific post is tailored toward the newest patch. If you have not updated the game, you can continue to post your issues here, but be aware that most replies may be telling you to update your game. You can also search the comments to find an issue similar to yours. \n\n**When troubleshooting, make sure to delete your localthumbcache.package!** Pockets of code from mods and the game can reside in that file, so it's important to go into the game with a clean slate!\n\nIf you see individual posts about bugs, report them under rule 12 and direct them here. Thank you!\n\n# [**Patch Notes for previous patch...**](https://www.ea.com/games/the-sims/the-sims-4/news/update-7-29-2025)\n\n# [Patch Notes for New EP patch...](https://www.ea.com/games/the-sims/the-sims-4/news/update-8-19-2025)\n\n# [**Previous Troubleshooting Thread...**](https://www.reddit.com/r/Sims4/comments/1lp8wwd/troubleshooting_thread_bugs_errors_mod_issues_ea/?utm_source=share&utm_medium=web3x&utm_name=web3xcss&utm_term=1&utm_content=share_button)\n\n# Here are some F.A.Q.s when it comes to fixing your game:\n\n* [Check here for broken/updated mods](https://scarletsrealm.com/the-mod-list/)\n* [EA Sims 4 help forums (bug reports ect)](https://forums.ea.com/category/the-sims-4-en)\n* [All about the EA App](https://help.ea.com/en/help/ea/ea-app/how-to-use-ea-app/)\n* [Troubleshooting 101](https://answers.ea.com/t5/PC/READ-FIRST-Troubleshooting-your-Game/td-p/3621199)\n* [How to use the 50/50 method to find broken mods](https://www.patreon.com/posts/diy-library-part-60352782)\n* [Clearing cache files and restoring saves](https://www.carls-sims-4-guide.com/help/cache.php?cmtx_page=3)\n* [Lagging and graphics issues?](https://help.ea.com/en/help/pc/how-to-gather-dxdiag-information/)\n* [Crashing and Endless Loading?](https://answers.ea.com/t5/Game-Issues/MASTER-THREAD-Crashing-and-Endless-Loading/td-p/13328880)\n* [Slow downloads or updates?](https://help.ea.com/en/help/faq/clear-cache-to-fix-problems-with-your-games/)\n* [Common Issues with Cheats](https://answers.ea.com/t5/Game-Issues/FAQ-Common-Issues-with-Cheats/td-p/13573997)\n*  [Enable or Disable OneDrive in Windows 11 Tutorial](https://www.elevenforum.com/t/enable-or-disable-onedrive-in-windows-11.2318/)\n* [icloud enable/disable](https://support.apple.com/en-us/118225)\n* [How to find your game version](https://sims4.crinrict.com/eng/2018/07/how-to-find-your-game-version-number/)\n\n**THIS FORM MUST BE FILLED OUT TO REQUEST HELP. Failure to include this in your comments will result in an automatic removal.**\n\n`Questions:` \n\n`Which platform? (PC/Mac/Steam Deck/PlayStation/Xbox)`\n\n`Any mods or cc? (Yes/No)`\n\n`Game version [PC: 1.117.221.1020 / Mac: 1.117.221.1220 / Console: 2.18]`\n\n`*Description:`\n\n*Feel free to add an image to further explain your issue(s). Click on the picture icon while submitting your comment to upload it. For videos, post it to your personal profile and link or use an image/video hosting site.*\n\n\\_\\_\\_\\_\\_\\_\\_\\_\\_\\_\\_\\_\\_\\_\\_\\_\\_\\_\\_\\_\\_\\_\\_\\_\\_\\_\\_\\_\\_\\_\\_\\_\\_\\_\\_\\_\\_\\_\\_\\_\\_\\_\\_\\_\\_\\_\\_\\_\\_\\_\\_\\_\\_\\_\\_\\_\\_\\_\\_\\_\\_\\_\\_\\_\\_\\_\\_\\_\\_\\_\\_\\_\\_\\_\\_\\_\\_\\_\\_\\_\\_\\_\\_\\_\\_\\_\\_\\_\\_\\_\\_\\_\\_\\_\\_\\_\\_\\_\\_\\_\\_\\_\\_\\_\\_\\_\\_\\_\\_\\_\n\nFor those users who are looking to remove the overlay that was added in a previous patch. Here are the solutions:\n\nhttps://preview.redd.it/7splrwvym0kf1.png?width=320&format=png&auto=webp&s=efc1e5aa0049b4ad1f53b7b3d346f714b079b989\n\n1. Click on the Help Center Icon (In the top righthand bar it's the hand with the ? over it) and unselect the \"Show Controls Legend\" button.\n\nhttps://preview.redd.it/u68nr8dwm0kf1.png?width=320&format=png&auto=webp&s=ab9b311e4e9f45bb3d9db779a76a7e6a6e5f3cc9\n\n2. Go to Game Options > Tutorials & Tips > Disable Help Center Icon & Controls Legend.\n\nhttps://preview.redd.it/45e8n0mxm0kf1.png?width=640&format=png&auto=webp&s=a5aeeab04ab79e990da270c03709f7a9bd9f4f91\n\n\\_\\_\\_\\_\\_\\_\\_\\_\\_\\_\\_\\_\\_\\_\\_\\_\\_\\_\\_\\_\\_\\_\\_\\_\\_\\_\\_\\_\\_\\_\\_\\_\\_\\_\\_\\_\\_\\_\\_\\_\\_\\_\\_\\_\\_\\_\\_\\_\\_\\_\\_\\_\\_\\_\\_\\_\\_\\_\\_\\_\\_\\_\\_\\_\\_\\_\\_\\_\\_\\_\\_\\_\\_\\_\\_\\_\\_\\_\\_\\_\\_\\_\\_\\_\\_\\_\\_\\_\\_\\_\\_\\_\\_\\_\\_\\_\\_\\_\\_\\_\\_\\_\\_\\_\\_\\_\n\n# Top Bug Reports and their forum topics.\n\n1.  TBD\n\n***\\*\\*\\*\\*Unsolicited messages, to moderators, seeking game support, may result in a subreddit ban.***",
         "66",
         "1344",
         "https://reddit.com/r/Sims4/comments/1mupzk3/troubleshooting_thread_bugs_errors_mod_issues_ea/",
         "Sims4",
         "hot"
        ],
        [
         "1",
         "1mhln76",
         "1754332367.0",
         "2025-08-04 18:32:47",
         "spyder-baby",
         "The Which Pack Thread. Ask for pack recommendations here!",
         "[Current sale on EA app](https://preview.redd.it/3kdpicavp1hf1.png?width=1272&format=png&auto=webp&s=3fb09c5ce4cee6414bfbb9cd5117150b71912659)\n\nThis is a dedicated thread for asking which pack(s) to buy. You can see the previous thread [**here.**](https://www.reddit.com/r/Sims4/comments/1jcovg9/the_which_pack_thread_you_can_ask_for_pack/?utm_source=share&utm_medium=web3x&utm_name=web3xcss&utm_term=1&utm_content=share_button)\n\n[**Browse and Buy The Sims™ 4**](https://www.ea.com/games/the-sims/the-sims-4/store/browse) Use this site to see all items from any pack!\n\n# Top SIX packs according to a sub vote:\n\n1. **Cottage Living**\n2. **City Living**\n3. **Seasons**\n4. **Life & Death**\n5. **Growing Together**\n6. **Island Living**\n\n[***See Previous Polls here!***](https://www.reddit.com/r/Sims4/comments/1ljnecg/vote_for_your_favorite_sims_4_expansion_pack/?utm_source=share&utm_medium=web3x&utm_name=web3xcss&utm_term=1&utm_content=share_button)",
         "12",
         "23",
         "https://reddit.com/r/Sims4/comments/1mhln76/the_which_pack_thread_ask_for_pack/",
         "Sims4",
         "hot"
        ],
        [
         "2",
         "1n62l6z",
         "1756765272.0",
         "2025-09-01 22:21:12",
         "Thiredistia",
         "Why does Candy Behr look significantly worse in the actual gameplay compared to her promo art?",
         "",
         "2973",
         "86",
         "https://reddit.com/r/Sims4/comments/1n62l6z/why_does_candy_behr_look_significantly_worse_in/",
         "Sims4",
         "hot"
        ],
        [
         "3",
         "1n5sjmm",
         "1756742311.0",
         "2025-09-01 15:58:31",
         "Sassysubtext",
         "How it started, and how it turned out",
         "Edit: Okay so this blew up. I posted and then went back to playing, and when I came back I was shook! SO, heres some answers to some questions I saw:  \n1. Yes you can now find it on the gallery. Gallery ID is CapitalCo. Turn on Advance>Include Custom Content. For some reason the game thinks it's modded, but I literally have no Build CC in my game right now.  \n2. Yes, I am using reshade. The one I am using is a personal file. I do have an older version of this personal file already uploaded to share. If you want it, please DM me and I will share the link with you.  \n3.Arch above the basketball court I made by adding a roof section there, dragging it over to hang above that area, and then thew some pillars down, then raised the pillars higher to meet the roof.  \n\\----  \nAnother weekend, another build!  \nWas playing the fourth gen of a family I made. A member of a second family the world, also fourth gen, proposed to her and they got married. Decided to branch them off and start them in their own house after the wedding ceremony. Moved them to the lot anD SHE DIED OF LAUGHTER. Of course her soul mate was heart broken, and after much thought, I decided to have him become a spell caster so he could eventually bring her back. I then moved them from Ravenwood to Glimmerbrook. Here is their new home!",
         "3289",
         "72",
         "https://reddit.com/r/Sims4/comments/1n5sjmm/how_it_started_and_how_it_turned_out/",
         "Sims4",
         "hot"
        ],
        [
         "4",
         "1n5zyo0",
         "1756758916.0",
         "2025-09-01 20:35:16",
         "LPhamster",
         "Okay y’all, I took a break from the sweets to make a savory: I present to you: DIM SUM PLACE!",
         "It’s a 6 tiny unit apartment complex. I wanted to take a break from all the sweets and make a savory. I hope you enjoy! It’s all functional. Including the soy sauce pool and a plate of greens garden. Happy Labor Day!",
         "1267",
         "39",
         "https://reddit.com/r/Sims4/comments/1n5zyo0/okay_yall_i_took_a_break_from_the_sweets_to_make/",
         "Sims4",
         "hot"
        ]
       ],
       "shape": {
        "columns": 11,
        "rows": 5
       }
      },
      "text/html": [
       "<div>\n",
       "<style scoped>\n",
       "    .dataframe tbody tr th:only-of-type {\n",
       "        vertical-align: middle;\n",
       "    }\n",
       "\n",
       "    .dataframe tbody tr th {\n",
       "        vertical-align: top;\n",
       "    }\n",
       "\n",
       "    .dataframe thead th {\n",
       "        text-align: right;\n",
       "    }\n",
       "</style>\n",
       "<table border=\"1\" class=\"dataframe\">\n",
       "  <thead>\n",
       "    <tr style=\"text-align: right;\">\n",
       "      <th></th>\n",
       "      <th>id</th>\n",
       "      <th>created_utc</th>\n",
       "      <th>created_date</th>\n",
       "      <th>author</th>\n",
       "      <th>title</th>\n",
       "      <th>body</th>\n",
       "      <th>score</th>\n",
       "      <th>num_comments</th>\n",
       "      <th>permalink</th>\n",
       "      <th>subreddit</th>\n",
       "      <th>mode</th>\n",
       "    </tr>\n",
       "  </thead>\n",
       "  <tbody>\n",
       "    <tr>\n",
       "      <th>0</th>\n",
       "      <td>1mupzk3</td>\n",
       "      <td>1.755627e+09</td>\n",
       "      <td>2025-08-19 18:02:28</td>\n",
       "      <td>creeativerex</td>\n",
       "      <td>Troubleshooting Thread — Bugs? Errors? Mod issues? EA app issues? Post about them here! Update 8/19/2025 [PC: 1.117.221.1020  / Mac: 1.117.221.1220 / Console: 2.18]\\nTroubleshooting thread</td>\n",
       "      <td>**Please read** the entire thread if you’re not familiar with this help section. If you have game issues, mod issues, App or console issues, please post them here via comment to get help instead o...</td>\n",
       "      <td>66</td>\n",
       "      <td>1344</td>\n",
       "      <td>https://reddit.com/r/Sims4/comments/1mupzk3/troubleshooting_thread_bugs_errors_mod_issues_ea/</td>\n",
       "      <td>Sims4</td>\n",
       "      <td>hot</td>\n",
       "    </tr>\n",
       "    <tr>\n",
       "      <th>1</th>\n",
       "      <td>1mhln76</td>\n",
       "      <td>1.754332e+09</td>\n",
       "      <td>2025-08-04 18:32:47</td>\n",
       "      <td>spyder-baby</td>\n",
       "      <td>The Which Pack Thread. Ask for pack recommendations here!</td>\n",
       "      <td>[Current sale on EA app](https://preview.redd.it/3kdpicavp1hf1.png?width=1272&amp;format=png&amp;auto=webp&amp;s=3fb09c5ce4cee6414bfbb9cd5117150b71912659)\\n\\nThis is a dedicated thread for asking which pack(s...</td>\n",
       "      <td>12</td>\n",
       "      <td>23</td>\n",
       "      <td>https://reddit.com/r/Sims4/comments/1mhln76/the_which_pack_thread_ask_for_pack/</td>\n",
       "      <td>Sims4</td>\n",
       "      <td>hot</td>\n",
       "    </tr>\n",
       "    <tr>\n",
       "      <th>2</th>\n",
       "      <td>1n62l6z</td>\n",
       "      <td>1.756765e+09</td>\n",
       "      <td>2025-09-01 22:21:12</td>\n",
       "      <td>Thiredistia</td>\n",
       "      <td>Why does Candy Behr look significantly worse in the actual gameplay compared to her promo art?</td>\n",
       "      <td></td>\n",
       "      <td>2973</td>\n",
       "      <td>86</td>\n",
       "      <td>https://reddit.com/r/Sims4/comments/1n62l6z/why_does_candy_behr_look_significantly_worse_in/</td>\n",
       "      <td>Sims4</td>\n",
       "      <td>hot</td>\n",
       "    </tr>\n",
       "    <tr>\n",
       "      <th>3</th>\n",
       "      <td>1n5sjmm</td>\n",
       "      <td>1.756742e+09</td>\n",
       "      <td>2025-09-01 15:58:31</td>\n",
       "      <td>Sassysubtext</td>\n",
       "      <td>How it started, and how it turned out</td>\n",
       "      <td>Edit: Okay so this blew up. I posted and then went back to playing, and when I came back I was shook! SO, heres some answers to some questions I saw:  \\n1. Yes you can now find it on the gallery. ...</td>\n",
       "      <td>3289</td>\n",
       "      <td>72</td>\n",
       "      <td>https://reddit.com/r/Sims4/comments/1n5sjmm/how_it_started_and_how_it_turned_out/</td>\n",
       "      <td>Sims4</td>\n",
       "      <td>hot</td>\n",
       "    </tr>\n",
       "    <tr>\n",
       "      <th>4</th>\n",
       "      <td>1n5zyo0</td>\n",
       "      <td>1.756759e+09</td>\n",
       "      <td>2025-09-01 20:35:16</td>\n",
       "      <td>LPhamster</td>\n",
       "      <td>Okay y’all, I took a break from the sweets to make a savory: I present to you: DIM SUM PLACE!</td>\n",
       "      <td>It’s a 6 tiny unit apartment complex. I wanted to take a break from all the sweets and make a savory. I hope you enjoy! It’s all functional. Including the soy sauce pool and a plate of greens gard...</td>\n",
       "      <td>1267</td>\n",
       "      <td>39</td>\n",
       "      <td>https://reddit.com/r/Sims4/comments/1n5zyo0/okay_yall_i_took_a_break_from_the_sweets_to_make/</td>\n",
       "      <td>Sims4</td>\n",
       "      <td>hot</td>\n",
       "    </tr>\n",
       "  </tbody>\n",
       "</table>\n",
       "</div>"
      ],
      "text/plain": [
       "        id   created_utc        created_date        author  \\\n",
       "0  1mupzk3  1.755627e+09 2025-08-19 18:02:28  creeativerex   \n",
       "1  1mhln76  1.754332e+09 2025-08-04 18:32:47   spyder-baby   \n",
       "2  1n62l6z  1.756765e+09 2025-09-01 22:21:12   Thiredistia   \n",
       "3  1n5sjmm  1.756742e+09 2025-09-01 15:58:31  Sassysubtext   \n",
       "4  1n5zyo0  1.756759e+09 2025-09-01 20:35:16     LPhamster   \n",
       "\n",
       "                                                                                                                                                                                          title  \\\n",
       "0  Troubleshooting Thread — Bugs? Errors? Mod issues? EA app issues? Post about them here! Update 8/19/2025 [PC: 1.117.221.1020  / Mac: 1.117.221.1220 / Console: 2.18]\\nTroubleshooting thread   \n",
       "1                                                                                                                                     The Which Pack Thread. Ask for pack recommendations here!   \n",
       "2                                                                                                Why does Candy Behr look significantly worse in the actual gameplay compared to her promo art?   \n",
       "3                                                                                                                                                         How it started, and how it turned out   \n",
       "4                                                                                                 Okay y’all, I took a break from the sweets to make a savory: I present to you: DIM SUM PLACE!   \n",
       "\n",
       "                                                                                                                                                                                                      body  \\\n",
       "0  **Please read** the entire thread if you’re not familiar with this help section. If you have game issues, mod issues, App or console issues, please post them here via comment to get help instead o...   \n",
       "1  [Current sale on EA app](https://preview.redd.it/3kdpicavp1hf1.png?width=1272&format=png&auto=webp&s=3fb09c5ce4cee6414bfbb9cd5117150b71912659)\\n\\nThis is a dedicated thread for asking which pack(s...   \n",
       "2                                                                                                                                                                                                            \n",
       "3  Edit: Okay so this blew up. I posted and then went back to playing, and when I came back I was shook! SO, heres some answers to some questions I saw:  \\n1. Yes you can now find it on the gallery. ...   \n",
       "4  It’s a 6 tiny unit apartment complex. I wanted to take a break from all the sweets and make a savory. I hope you enjoy! It’s all functional. Including the soy sauce pool and a plate of greens gard...   \n",
       "\n",
       "   score  num_comments  \\\n",
       "0     66          1344   \n",
       "1     12            23   \n",
       "2   2973            86   \n",
       "3   3289            72   \n",
       "4   1267            39   \n",
       "\n",
       "                                                                                       permalink  \\\n",
       "0  https://reddit.com/r/Sims4/comments/1mupzk3/troubleshooting_thread_bugs_errors_mod_issues_ea/   \n",
       "1                https://reddit.com/r/Sims4/comments/1mhln76/the_which_pack_thread_ask_for_pack/   \n",
       "2   https://reddit.com/r/Sims4/comments/1n62l6z/why_does_candy_behr_look_significantly_worse_in/   \n",
       "3              https://reddit.com/r/Sims4/comments/1n5sjmm/how_it_started_and_how_it_turned_out/   \n",
       "4  https://reddit.com/r/Sims4/comments/1n5zyo0/okay_yall_i_took_a_break_from_the_sweets_to_make/   \n",
       "\n",
       "  subreddit mode  \n",
       "0     Sims4  hot  \n",
       "1     Sims4  hot  \n",
       "2     Sims4  hot  \n",
       "3     Sims4  hot  \n",
       "4     Sims4  hot  "
      ]
     },
     "metadata": {},
     "output_type": "display_data"
    },
    {
     "name": "stdout",
     "output_type": "stream",
     "text": [
      "\n",
      "\n",
      "TheSims subreddit:\n"
     ]
    },
    {
     "data": {
      "application/vnd.microsoft.datawrangler.viewer.v0+json": {
       "columns": [
        {
         "name": "index",
         "rawType": "int64",
         "type": "integer"
        },
        {
         "name": "id",
         "rawType": "object",
         "type": "string"
        },
        {
         "name": "created_utc",
         "rawType": "float64",
         "type": "float"
        },
        {
         "name": "created_date",
         "rawType": "datetime64[ns]",
         "type": "datetime"
        },
        {
         "name": "author",
         "rawType": "object",
         "type": "string"
        },
        {
         "name": "title",
         "rawType": "object",
         "type": "string"
        },
        {
         "name": "body",
         "rawType": "object",
         "type": "string"
        },
        {
         "name": "score",
         "rawType": "int64",
         "type": "integer"
        },
        {
         "name": "num_comments",
         "rawType": "int64",
         "type": "integer"
        },
        {
         "name": "permalink",
         "rawType": "object",
         "type": "string"
        },
        {
         "name": "subreddit",
         "rawType": "object",
         "type": "string"
        },
        {
         "name": "mode",
         "rawType": "object",
         "type": "string"
        }
       ],
       "ref": "3579dba7-71af-44a3-856a-34a765552473",
       "rows": [
        [
         "0",
         "1n0sqf5",
         "1756230547.0",
         "2025-08-26 17:49:07",
         "TheSimsOfficial",
         "Addressing Community Concerns with For Rent",
         "Sul Sul Simmers, We’ve received questions from players with concerns about the For Rent Expansion Pack and save file issues in The Sims 4. Today we’re sharing a detailed update on this, but here’s a quick TLDR; \n\n1. We’ve fixed 29 community reported issues on For Rent, and have 37 currently under investigation, with 11 requiring more info from players. 2 of those issues are related to save file concerns, with a combined total of 222 votes from players. We have a partial fix currently identified for the issue with the most votes, and will share updates as we have them. \n\n2. For save file issues more broadly, we’re currently aware of 6 issues that players correlate with save corruption. Our investigations show this is a complex situation; it’s not a single bug and given the huge variance in devices, setups, packs, and other factors, will continue to require thorough investigation by our team. We’re committed to tackling this and any detailed reports players can share will really help us progress. \n\nIf you’re experiencing a serious issue with your game, please use this post as an easy way to report the issue by answering the questions outlined: [https://forums.ea.com/blog/the-sims-game-info-hub-en/investigating-game-launch--save-file-issues/12500161](https://forums.ea.com/blog/the-sims-game-info-hub-en/investigating-game-launch--save-file-issues/12500161) \n\nYou can read the full update here: [https://forums.ea.com/blog/the-sims-game-info-hub-en/community-concerns-with-save-file-issues/12487619](https://forums.ea.com/blog/the-sims-game-info-hub-en/community-concerns-with-save-file-issues/12487619) \n\nWe’re also launching a new feedback section here on Discord [http://discord.gg/thesims](http://discord.gg/thesims) on August 27, 2025 at 10:00 AM PT so you can continue to help shape the future of The Sims. We’d love to hear your thoughts, take part in upcoming surveys, and join the conversation with our team and your fellow Simmers.",
         "291",
         "106",
         "https://reddit.com/r/thesims/comments/1n0sqf5/addressing_community_concerns_with_for_rent/",
         "thesims",
         "hot"
        ],
        [
         "1",
         "1mmp0ki",
         "1754848074.0",
         "2025-08-10 17:47:54",
         "baar-ur",
         "Bi-Weekly Build Challenge | Week 173: CAS - Kids",
         "The Bi-Weekly Build Challenge is led by community moderator [u/NoButterOnMyBread](https://www.reddit.com/user/NoButterOnMyBread/) and co-host, community volunteer [u/baar-ur](https://www.reddit.com/user/baar-ur/) (me!). Please direct any build challenge questions to either of us.\n_ _ _\n# Introduction for Newcomers\n\nEvery two weeks, the challenge will change. We’ll design a different house, community venue, or room interior, based on the provided theme, rules, and restrictions. Some challenges will have a monetary limit, such as under $20k, while others may have no limit and you can spend as many Simoleons as you’d like.\n\nThe challenge is not exclusive to The Sims 4; you may submit an entry using any Sims game, but we recommend The Sims 2 onward for the more in-depth building features. However, you may still submit entries for builds created in the original The Sims game.\n\nIf you would like to check out our past challenges, you can see a comprehensive list by searching [The Sims subreddit](https://www.reddit.com/r/thesims/search?q=bi-weekly+build+challenge&restrict_sr=on) under the Build Challenge flair.\n_ _ _\n# Bi-Weekly Build Challenge | Week 173: CAS - Kids\n\nIt doesn't matter whether your traits include Family-Oriented, Childish, or Hates Children. You can't deny that a lot of simmers include children in their play-throughs. We're bringing back Create-A-Sim challenges, and we're starting at the low end of the life-state scale. Show us some cute kids, and they had better be in adorable outfits, too! Bonus points for outfits appropriate to your weather, whether you're enjoying the perfect summer vacation weather, keeping warm during winter, escaping a heatwave, or watching the penguins play outside.\n\n_ _ _ \n# Build Guidelines\n\n**Requirements:**\n\n* **One** entry per person.  \n* One child sim or a household with at least one child sim.\n* **No digital altering of photos (i.e., PhotoShop).**\n* CC is **allowed**.\n\nTo submit a valid entry, you must comment on this post and format your comment as such:\n\n***Your Reddit Username - Title of Submission - Sims Game (i.e., The Sims 4) - Link to photo***\n\nYou may also include your Gallery ID or a direct Gallery link if you’d like, but this is not required. Please note that entries submitted that do not follow this format will be disqualified and must be re-submitted.\n_ _ _\n# Important Dates\n\nDeadline: August 24th\n\nThe challenge closes at 10pm EST. This deadline is the cut-off for new submissions; this deadline is not an expectation of a new challenge. Winners will be announced when the next challenge goes live (within one week of the deadline).",
         "3",
         "2",
         "https://reddit.com/r/thesims/comments/1mmp0ki/biweekly_build_challenge_week_173_cas_kids/",
         "thesims",
         "hot"
        ],
        [
         "2",
         "1n62iev",
         "1756765074.0",
         "2025-09-01 22:17:54",
         "AlyxStarlix",
         "Uhm.. What the hell happened?",
         "So, I don't know if these tags are right. Just tried to age up (child to teen) my sim, he froze, wouldn't respond to commands. Tried to get him to blow out candle, everyone is celebrating over and over again, but he's still frozen... next thing I know, he looks like this- and his picture in the corner is all messed up. I saved and quit, so he wasn't in the process of aging up, and I didn't even get the pop up to add a trait or Aspiration, and now he looks like this-? He also has a random Aspiration (Playtime Captain) and only one trait that I've added (Self-Assured), no additional traits\n\nBtw, I have no mods or cc as I use Xbox",
         "158",
         "30",
         "https://reddit.com/r/thesims/comments/1n62iev/uhm_what_the_hell_happened/",
         "thesims",
         "hot"
        ],
        [
         "3",
         "1n5z13i",
         "1756756737.0",
         "2025-09-01 19:58:57",
         "barefootintheopenair",
         "Bless Plumbella forever, but what content do I watch now?",
         "She's literally the only simmer I enjoy so far.  I can't always play so I like to watch and live vicariously.  I love her humor and vulnerabilities and her play styles, especially with builds or the older games.  I really only do yt, I don't really participate in streaming.  I'm subscribed to lilsimsie too but that's really just for the new updates and such, I don't find her that entertaining.  \n\n  \nAnyone else so happy for Jessie hopefully living her best life offline but miss her TERRIBLYY??  How are ya'll filling your voids.  Who else do you love?",
         "220",
         "96",
         "https://reddit.com/r/thesims/comments/1n5z13i/bless_plumbella_forever_but_what_content_do_i/",
         "thesims",
         "hot"
        ],
        [
         "4",
         "1n5d4k9",
         "1756694223.0",
         "2025-09-01 02:37:03",
         "Relative-Handle-7677",
         "Stop the ads please?!",
         "Ok they have got to fix this asap. This is getting so annoying. It’s getting to be like those mobile games that have an ad like every 2-3mins whilst you’re playing. Some of them are unplayable because of the constant ads ",
         "5373",
         "120",
         "https://reddit.com/r/thesims/comments/1n5d4k9/stop_the_ads_please/",
         "thesims",
         "hot"
        ]
       ],
       "shape": {
        "columns": 11,
        "rows": 5
       }
      },
      "text/html": [
       "<div>\n",
       "<style scoped>\n",
       "    .dataframe tbody tr th:only-of-type {\n",
       "        vertical-align: middle;\n",
       "    }\n",
       "\n",
       "    .dataframe tbody tr th {\n",
       "        vertical-align: top;\n",
       "    }\n",
       "\n",
       "    .dataframe thead th {\n",
       "        text-align: right;\n",
       "    }\n",
       "</style>\n",
       "<table border=\"1\" class=\"dataframe\">\n",
       "  <thead>\n",
       "    <tr style=\"text-align: right;\">\n",
       "      <th></th>\n",
       "      <th>id</th>\n",
       "      <th>created_utc</th>\n",
       "      <th>created_date</th>\n",
       "      <th>author</th>\n",
       "      <th>title</th>\n",
       "      <th>body</th>\n",
       "      <th>score</th>\n",
       "      <th>num_comments</th>\n",
       "      <th>permalink</th>\n",
       "      <th>subreddit</th>\n",
       "      <th>mode</th>\n",
       "    </tr>\n",
       "  </thead>\n",
       "  <tbody>\n",
       "    <tr>\n",
       "      <th>0</th>\n",
       "      <td>1n0sqf5</td>\n",
       "      <td>1.756231e+09</td>\n",
       "      <td>2025-08-26 17:49:07</td>\n",
       "      <td>TheSimsOfficial</td>\n",
       "      <td>Addressing Community Concerns with For Rent</td>\n",
       "      <td>Sul Sul Simmers, We’ve received questions from players with concerns about the For Rent Expansion Pack and save file issues in The Sims 4. Today we’re sharing a detailed update on this, but here’s...</td>\n",
       "      <td>291</td>\n",
       "      <td>106</td>\n",
       "      <td>https://reddit.com/r/thesims/comments/1n0sqf5/addressing_community_concerns_with_for_rent/</td>\n",
       "      <td>thesims</td>\n",
       "      <td>hot</td>\n",
       "    </tr>\n",
       "    <tr>\n",
       "      <th>1</th>\n",
       "      <td>1mmp0ki</td>\n",
       "      <td>1.754848e+09</td>\n",
       "      <td>2025-08-10 17:47:54</td>\n",
       "      <td>baar-ur</td>\n",
       "      <td>Bi-Weekly Build Challenge | Week 173: CAS - Kids</td>\n",
       "      <td>The Bi-Weekly Build Challenge is led by community moderator [u/NoButterOnMyBread](https://www.reddit.com/user/NoButterOnMyBread/) and co-host, community volunteer [u/baar-ur](https://www.reddit.co...</td>\n",
       "      <td>3</td>\n",
       "      <td>2</td>\n",
       "      <td>https://reddit.com/r/thesims/comments/1mmp0ki/biweekly_build_challenge_week_173_cas_kids/</td>\n",
       "      <td>thesims</td>\n",
       "      <td>hot</td>\n",
       "    </tr>\n",
       "    <tr>\n",
       "      <th>2</th>\n",
       "      <td>1n62iev</td>\n",
       "      <td>1.756765e+09</td>\n",
       "      <td>2025-09-01 22:17:54</td>\n",
       "      <td>AlyxStarlix</td>\n",
       "      <td>Uhm.. What the hell happened?</td>\n",
       "      <td>So, I don't know if these tags are right. Just tried to age up (child to teen) my sim, he froze, wouldn't respond to commands. Tried to get him to blow out candle, everyone is celebrating over and...</td>\n",
       "      <td>158</td>\n",
       "      <td>30</td>\n",
       "      <td>https://reddit.com/r/thesims/comments/1n62iev/uhm_what_the_hell_happened/</td>\n",
       "      <td>thesims</td>\n",
       "      <td>hot</td>\n",
       "    </tr>\n",
       "    <tr>\n",
       "      <th>3</th>\n",
       "      <td>1n5z13i</td>\n",
       "      <td>1.756757e+09</td>\n",
       "      <td>2025-09-01 19:58:57</td>\n",
       "      <td>barefootintheopenair</td>\n",
       "      <td>Bless Plumbella forever, but what content do I watch now?</td>\n",
       "      <td>She's literally the only simmer I enjoy so far.  I can't always play so I like to watch and live vicariously.  I love her humor and vulnerabilities and her play styles, especially with builds or t...</td>\n",
       "      <td>220</td>\n",
       "      <td>96</td>\n",
       "      <td>https://reddit.com/r/thesims/comments/1n5z13i/bless_plumbella_forever_but_what_content_do_i/</td>\n",
       "      <td>thesims</td>\n",
       "      <td>hot</td>\n",
       "    </tr>\n",
       "    <tr>\n",
       "      <th>4</th>\n",
       "      <td>1n5d4k9</td>\n",
       "      <td>1.756694e+09</td>\n",
       "      <td>2025-09-01 02:37:03</td>\n",
       "      <td>Relative-Handle-7677</td>\n",
       "      <td>Stop the ads please?!</td>\n",
       "      <td>Ok they have got to fix this asap. This is getting so annoying. It’s getting to be like those mobile games that have an ad like every 2-3mins whilst you’re playing. Some of them are unplayable bec...</td>\n",
       "      <td>5373</td>\n",
       "      <td>120</td>\n",
       "      <td>https://reddit.com/r/thesims/comments/1n5d4k9/stop_the_ads_please/</td>\n",
       "      <td>thesims</td>\n",
       "      <td>hot</td>\n",
       "    </tr>\n",
       "  </tbody>\n",
       "</table>\n",
       "</div>"
      ],
      "text/plain": [
       "        id   created_utc        created_date                author  \\\n",
       "0  1n0sqf5  1.756231e+09 2025-08-26 17:49:07       TheSimsOfficial   \n",
       "1  1mmp0ki  1.754848e+09 2025-08-10 17:47:54               baar-ur   \n",
       "2  1n62iev  1.756765e+09 2025-09-01 22:17:54           AlyxStarlix   \n",
       "3  1n5z13i  1.756757e+09 2025-09-01 19:58:57  barefootintheopenair   \n",
       "4  1n5d4k9  1.756694e+09 2025-09-01 02:37:03  Relative-Handle-7677   \n",
       "\n",
       "                                                       title  \\\n",
       "0                Addressing Community Concerns with For Rent   \n",
       "1           Bi-Weekly Build Challenge | Week 173: CAS - Kids   \n",
       "2                              Uhm.. What the hell happened?   \n",
       "3  Bless Plumbella forever, but what content do I watch now?   \n",
       "4                                      Stop the ads please?!   \n",
       "\n",
       "                                                                                                                                                                                                      body  \\\n",
       "0  Sul Sul Simmers, We’ve received questions from players with concerns about the For Rent Expansion Pack and save file issues in The Sims 4. Today we’re sharing a detailed update on this, but here’s...   \n",
       "1  The Bi-Weekly Build Challenge is led by community moderator [u/NoButterOnMyBread](https://www.reddit.com/user/NoButterOnMyBread/) and co-host, community volunteer [u/baar-ur](https://www.reddit.co...   \n",
       "2  So, I don't know if these tags are right. Just tried to age up (child to teen) my sim, he froze, wouldn't respond to commands. Tried to get him to blow out candle, everyone is celebrating over and...   \n",
       "3  She's literally the only simmer I enjoy so far.  I can't always play so I like to watch and live vicariously.  I love her humor and vulnerabilities and her play styles, especially with builds or t...   \n",
       "4  Ok they have got to fix this asap. This is getting so annoying. It’s getting to be like those mobile games that have an ad like every 2-3mins whilst you’re playing. Some of them are unplayable bec...   \n",
       "\n",
       "   score  num_comments  \\\n",
       "0    291           106   \n",
       "1      3             2   \n",
       "2    158            30   \n",
       "3    220            96   \n",
       "4   5373           120   \n",
       "\n",
       "                                                                                      permalink  \\\n",
       "0    https://reddit.com/r/thesims/comments/1n0sqf5/addressing_community_concerns_with_for_rent/   \n",
       "1     https://reddit.com/r/thesims/comments/1mmp0ki/biweekly_build_challenge_week_173_cas_kids/   \n",
       "2                     https://reddit.com/r/thesims/comments/1n62iev/uhm_what_the_hell_happened/   \n",
       "3  https://reddit.com/r/thesims/comments/1n5z13i/bless_plumbella_forever_but_what_content_do_i/   \n",
       "4                            https://reddit.com/r/thesims/comments/1n5d4k9/stop_the_ads_please/   \n",
       "\n",
       "  subreddit mode  \n",
       "0   thesims  hot  \n",
       "1   thesims  hot  \n",
       "2   thesims  hot  \n",
       "3   thesims  hot  \n",
       "4   thesims  hot  "
      ]
     },
     "metadata": {},
     "output_type": "display_data"
    },
    {
     "data": {
      "application/vnd.microsoft.datawrangler.viewer.v0+json": {
       "columns": [
        {
         "name": "index",
         "rawType": "int64",
         "type": "integer"
        },
        {
         "name": "post_id",
         "rawType": "object",
         "type": "string"
        },
        {
         "name": "comment_id",
         "rawType": "object",
         "type": "string"
        },
        {
         "name": "created_utc",
         "rawType": "float64",
         "type": "float"
        },
        {
         "name": "author",
         "rawType": "object",
         "type": "string"
        },
        {
         "name": "body",
         "rawType": "object",
         "type": "string"
        },
        {
         "name": "score",
         "rawType": "int64",
         "type": "integer"
        },
        {
         "name": "parent_permalink",
         "rawType": "object",
         "type": "string"
        }
       ],
       "ref": "e6e047bb-379f-4a6a-974c-47c2c07df9da",
       "rows": [
        [
         "0",
         "1n0sqf5",
         "nasx4k2",
         "1756230547.0",
         "AutoModerator",
         "**Archive Record:** Posted by u/TheSimsOfficial\n\n*This comment is for moderation archival purposes and will remain even if the post is deleted.*\n\n\n*I am a bot, and this action was performed automatically. Please [contact the moderators of this subreddit](/message/compose/?to=/r/thesims) if you have any questions or concerns.*",
         "1",
         "https://reddit.com/r/thesims/comments/1n0sqf5/addressing_community_concerns_with_for_rent/"
        ],
        [
         "1",
         "1n0sqf5",
         "nat80rw",
         "1756233635.0",
         "shoalhavenheads",
         "This is the big thing: \"We’re unable to recreate every potential Sims scenario across the different combinations of packs, playstyles, and devices before launch.\"\n\nThere are 100 packs. So that's a 2^100 number of combinations. It's simply not possible to test that many packs.\n\nYou'll have the best experience with this game if you have no packs, or every single pack, because those two scenarios will be playtested the most. Obviously EA can't say that out loud, but it's true.\n\nI think this touches on a deeper issue, which is that releasing a video game with 2^100 versions is unreasonable. Expansion-based games have a shelf life and do not work as live service games. Eventually this jenga tower is gonna collapse.",
         "1148",
         "https://reddit.com/r/thesims/comments/1n0sqf5/addressing_community_concerns_with_for_rent/"
        ],
        [
         "2",
         "1n0sqf5",
         "natxbf8",
         "1756240914.0",
         "Drorbitaldeathray",
         "The Sims 4 isn't a video game, it's 130 Flash plugins in a trench coat.",
         "457",
         "https://reddit.com/r/thesims/comments/1n0sqf5/addressing_community_concerns_with_for_rent/"
        ],
        [
         "3",
         "1n0sqf5",
         "nav4fg1",
         "1756254740.0",
         "Jessiebanana",
         "It’s insane to me that they are still selling a pack they can’t guarantee will function or not actively harm your game. It’s wild. I would love For Rent, but I will not get it as is.",
         "116",
         "https://reddit.com/r/thesims/comments/1n0sqf5/addressing_community_concerns_with_for_rent/"
        ],
        [
         "4",
         "1n0sqf5",
         "nauepy9",
         "1756246073.0",
         "Scott43206",
         "After 6 days of troubleshooting mods (I only use 3) and CC, and updating the only one impacted, my game still didn't allow me to save builds to my library or share them to the gallery.\n\nI noticed the game switched back to DX11 again after the update, so out of desperation and having already tried everything else,  I put **-DX9** in the advanced settings and rolling the game back to DX9 fixed every single remaining problem. \n\nMy game is back to 100% operational again, I can save to my library and share to the gallery again.",
         "61",
         "https://reddit.com/r/thesims/comments/1n0sqf5/addressing_community_concerns_with_for_rent/"
        ]
       ],
       "shape": {
        "columns": 7,
        "rows": 5
       }
      },
      "text/html": [
       "<div>\n",
       "<style scoped>\n",
       "    .dataframe tbody tr th:only-of-type {\n",
       "        vertical-align: middle;\n",
       "    }\n",
       "\n",
       "    .dataframe tbody tr th {\n",
       "        vertical-align: top;\n",
       "    }\n",
       "\n",
       "    .dataframe thead th {\n",
       "        text-align: right;\n",
       "    }\n",
       "</style>\n",
       "<table border=\"1\" class=\"dataframe\">\n",
       "  <thead>\n",
       "    <tr style=\"text-align: right;\">\n",
       "      <th></th>\n",
       "      <th>post_id</th>\n",
       "      <th>comment_id</th>\n",
       "      <th>created_utc</th>\n",
       "      <th>author</th>\n",
       "      <th>body</th>\n",
       "      <th>score</th>\n",
       "      <th>parent_permalink</th>\n",
       "    </tr>\n",
       "  </thead>\n",
       "  <tbody>\n",
       "    <tr>\n",
       "      <th>0</th>\n",
       "      <td>1n0sqf5</td>\n",
       "      <td>nasx4k2</td>\n",
       "      <td>1.756231e+09</td>\n",
       "      <td>AutoModerator</td>\n",
       "      <td>**Archive Record:** Posted by u/TheSimsOfficial\\n\\n*This comment is for moderation archival purposes and will remain even if the post is deleted.*\\n\\n\\n*I am a bot, and this action was performed a...</td>\n",
       "      <td>1</td>\n",
       "      <td>https://reddit.com/r/thesims/comments/1n0sqf5/addressing_community_concerns_with_for_rent/</td>\n",
       "    </tr>\n",
       "    <tr>\n",
       "      <th>1</th>\n",
       "      <td>1n0sqf5</td>\n",
       "      <td>nat80rw</td>\n",
       "      <td>1.756234e+09</td>\n",
       "      <td>shoalhavenheads</td>\n",
       "      <td>This is the big thing: \"We’re unable to recreate every potential Sims scenario across the different combinations of packs, playstyles, and devices before launch.\"\\n\\nThere are 100 packs. So that's...</td>\n",
       "      <td>1148</td>\n",
       "      <td>https://reddit.com/r/thesims/comments/1n0sqf5/addressing_community_concerns_with_for_rent/</td>\n",
       "    </tr>\n",
       "    <tr>\n",
       "      <th>2</th>\n",
       "      <td>1n0sqf5</td>\n",
       "      <td>natxbf8</td>\n",
       "      <td>1.756241e+09</td>\n",
       "      <td>Drorbitaldeathray</td>\n",
       "      <td>The Sims 4 isn't a video game, it's 130 Flash plugins in a trench coat.</td>\n",
       "      <td>457</td>\n",
       "      <td>https://reddit.com/r/thesims/comments/1n0sqf5/addressing_community_concerns_with_for_rent/</td>\n",
       "    </tr>\n",
       "    <tr>\n",
       "      <th>3</th>\n",
       "      <td>1n0sqf5</td>\n",
       "      <td>nav4fg1</td>\n",
       "      <td>1.756255e+09</td>\n",
       "      <td>Jessiebanana</td>\n",
       "      <td>It’s insane to me that they are still selling a pack they can’t guarantee will function or not actively harm your game. It’s wild. I would love For Rent, but I will not get it as is.</td>\n",
       "      <td>116</td>\n",
       "      <td>https://reddit.com/r/thesims/comments/1n0sqf5/addressing_community_concerns_with_for_rent/</td>\n",
       "    </tr>\n",
       "    <tr>\n",
       "      <th>4</th>\n",
       "      <td>1n0sqf5</td>\n",
       "      <td>nauepy9</td>\n",
       "      <td>1.756246e+09</td>\n",
       "      <td>Scott43206</td>\n",
       "      <td>After 6 days of troubleshooting mods (I only use 3) and CC, and updating the only one impacted, my game still didn't allow me to save builds to my library or share them to the gallery.\\n\\nI notice...</td>\n",
       "      <td>61</td>\n",
       "      <td>https://reddit.com/r/thesims/comments/1n0sqf5/addressing_community_concerns_with_for_rent/</td>\n",
       "    </tr>\n",
       "  </tbody>\n",
       "</table>\n",
       "</div>"
      ],
      "text/plain": [
       "   post_id comment_id   created_utc             author  \\\n",
       "0  1n0sqf5    nasx4k2  1.756231e+09      AutoModerator   \n",
       "1  1n0sqf5    nat80rw  1.756234e+09    shoalhavenheads   \n",
       "2  1n0sqf5    natxbf8  1.756241e+09  Drorbitaldeathray   \n",
       "3  1n0sqf5    nav4fg1  1.756255e+09       Jessiebanana   \n",
       "4  1n0sqf5    nauepy9  1.756246e+09         Scott43206   \n",
       "\n",
       "                                                                                                                                                                                                      body  \\\n",
       "0  **Archive Record:** Posted by u/TheSimsOfficial\\n\\n*This comment is for moderation archival purposes and will remain even if the post is deleted.*\\n\\n\\n*I am a bot, and this action was performed a...   \n",
       "1  This is the big thing: \"We’re unable to recreate every potential Sims scenario across the different combinations of packs, playstyles, and devices before launch.\"\\n\\nThere are 100 packs. So that's...   \n",
       "2                                                                                                                                  The Sims 4 isn't a video game, it's 130 Flash plugins in a trench coat.   \n",
       "3                   It’s insane to me that they are still selling a pack they can’t guarantee will function or not actively harm your game. It’s wild. I would love For Rent, but I will not get it as is.   \n",
       "4  After 6 days of troubleshooting mods (I only use 3) and CC, and updating the only one impacted, my game still didn't allow me to save builds to my library or share them to the gallery.\\n\\nI notice...   \n",
       "\n",
       "   score  \\\n",
       "0      1   \n",
       "1   1148   \n",
       "2    457   \n",
       "3    116   \n",
       "4     61   \n",
       "\n",
       "                                                                             parent_permalink  \n",
       "0  https://reddit.com/r/thesims/comments/1n0sqf5/addressing_community_concerns_with_for_rent/  \n",
       "1  https://reddit.com/r/thesims/comments/1n0sqf5/addressing_community_concerns_with_for_rent/  \n",
       "2  https://reddit.com/r/thesims/comments/1n0sqf5/addressing_community_concerns_with_for_rent/  \n",
       "3  https://reddit.com/r/thesims/comments/1n0sqf5/addressing_community_concerns_with_for_rent/  \n",
       "4  https://reddit.com/r/thesims/comments/1n0sqf5/addressing_community_concerns_with_for_rent/  "
      ]
     },
     "metadata": {},
     "output_type": "display_data"
    },
    {
     "data": {
      "text/plain": [
       "(3967, None)"
      ]
     },
     "execution_count": 14,
     "metadata": {},
     "output_type": "execute_result"
    }
   ],
   "source": [
    "print(\"Sims4 subreddit:\")\n",
    "len(df_sims4_comments), display(df_sims4_comments.head(5))\n",
    "len(df_sims4_posts), display(df_sims4_posts.head(5))\n",
    "\n",
    "print(\"\\n\\nTheSims subreddit:\")\n",
    "len(df_thesims_posts), display(df_thesims_posts.head(5))\n",
    "len(df_thesims_comments), display(df_thesims_comments.head(5))"
   ]
  },
  {
   "cell_type": "code",
   "execution_count": 15,
   "id": "479604ba",
   "metadata": {},
   "outputs": [],
   "source": [
    "from pathlib import Path\n",
    "import sqlite3\n",
    "\n",
    "DB_DIR = Path(\"../data/raw\")\n",
    "DB_DIR.mkdir(parents=True, exist_ok=True)\n",
    "DB_PATH = DB_DIR / \"sims4.db\"\n",
    "\n",
    "def get_conn(db_path=DB_PATH):\n",
    "    conn = sqlite3.connect(db_path)\n",
    "    # enforce FK constraints\n",
    "    conn.execute(\"PRAGMA foreign_keys = ON;\")\n",
    "    return conn"
   ]
  },
  {
   "cell_type": "code",
   "execution_count": 16,
   "id": "9651e06e",
   "metadata": {},
   "outputs": [],
   "source": [
    "from src.collect_data import (\n",
    "    init_db, get_conn,\n",
    "    harvest_posts, insert_posts_df,\n",
    "    get_comment_candidates, collect_comments_for_candidates\n",
    ")\n",
    "\n",
    "init_db()"
   ]
  },
  {
   "cell_type": "code",
   "execution_count": 28,
   "id": "954ff903",
   "metadata": {},
   "outputs": [
    {
     "name": "stdout",
     "output_type": "stream",
     "text": [
      "New harvested posts: 194\n"
     ]
    }
   ],
   "source": [
    "SUBS = [\"Sims4\", \"thesims\"]\n",
    "posts_big = harvest_posts(\n",
    "    subs=SUBS,\n",
    "    modes=[\"top\", \"hot\", \"new\"],\n",
    "    time_filters=[\"day\", \"week\", \"month\", \"year\", \"all\"],\n",
    "    limit_per=1000,\n",
    "    sleep_between=0.2,\n",
    ")\n",
    "print(\"New harvested posts:\", len(posts_big))"
   ]
  },
  {
   "cell_type": "code",
   "execution_count": 18,
   "id": "c219d5ce",
   "metadata": {},
   "outputs": [
    {
     "name": "stdout",
     "output_type": "stream",
     "text": [
      "Inserted posts: 0\n"
     ]
    }
   ],
   "source": [
    "inserted = insert_posts_df(posts_big, batch_size=2000)\n",
    "print(\"Inserted posts:\", inserted)"
   ]
  },
  {
   "cell_type": "code",
   "execution_count": 29,
   "id": "cbfa362d",
   "metadata": {},
   "outputs": [],
   "source": [
    "import importlib\n",
    "import src.collect_data as cd\n",
    "\n",
    "importlib.reload(cd)\n",
    "\n",
    "from src.collect_data import (\n",
    "    get_db_counts, print_delta\n",
    ")"
   ]
  },
  {
   "cell_type": "code",
   "execution_count": 50,
   "id": "399741ad",
   "metadata": {},
   "outputs": [
    {
     "name": "stdout",
     "output_type": "stream",
     "text": [
      "DB file: /Users/baderrezek/Desktop/Projects/Personal/sims4-sentiment-analysis/data/raw/sims4.db\n",
      "Posts: 6,574 | Comments: 591,584\n",
      "Comment candidates: 36\n",
      "DB file: /Users/baderrezek/Desktop/Projects/Personal/sims4-sentiment-analysis/data/raw/sims4.db\n",
      "Posts: 6,574 | Comments: 591,584\n",
      "[2025-09-02 19:01:03Z] COMMENTS UPSERT → added posts: 0 (total: 6,574) | added comments: 0 (total: 591,584)\n"
     ]
    }
   ],
   "source": [
    "# --- Parameters for scaling ---\n",
    "SUBS = [\"Sims4\", \"thesims\"]            # subreddits to pull from\n",
    "MODES = [\"top\", \"hot\", \"new\"]          # retrieval modes\n",
    "TIME_FILTERS = [\"day\", \"week\", \"month\", \"year\", \"all\"]  # only applies to \"top\"\n",
    "LIMIT_PER = 1000                       # max per (sub, mode, time_filter) combo\n",
    "SLEEP_BETWEEN = 0.4                    # polite delay between API calls\n",
    "BATCH_INSERT = 2000                    # how many rows to insert at once into SQLite\n",
    "\n",
    "# Counts before\n",
    "p1, c1 = get_db_counts()\n",
    "\n",
    "# Choose candidates that currently have zero comments stored\n",
    "candidates = get_comment_candidates(limit=5000)\n",
    "print(\"Comment candidates:\", len(candidates))\n",
    "\n",
    "# Collect/insert in batches (this returns attempted count; we will still compute actual via DB)\n",
    "_ = collect_comments_for_candidates(\n",
    "    post_ids=candidates,\n",
    "    batch_posts=200,\n",
    "    sleep_between=0.4,\n",
    "    insert_batch_size=2000\n",
    ")\n",
    "\n",
    "# Counts after\n",
    "p2, c2 = get_db_counts()\n",
    "print_delta(p1, c1, p2, c2, label=\"COMMENTS UPSERT\")"
   ]
  },
  {
   "cell_type": "code",
   "execution_count": 31,
   "id": "60e369b8",
   "metadata": {},
   "outputs": [
    {
     "name": "stdout",
     "output_type": "stream",
     "text": [
      "Final posts total: 6,574\n"
     ]
    }
   ],
   "source": [
    "TARGET_POSTS = 5000\n",
    "\n",
    "# Check current\n",
    "posts_now, _ = get_db_counts()\n",
    "if posts_now < TARGET_POSTS:\n",
    "    print(f\"Currently {posts_now:,} posts. Harvesting until we reach {TARGET_POSTS:,}...\")\n",
    "\n",
    "    # You can run this cell a couple of times if the API doesn’t yield enough in one sweep\n",
    "    for _ in range(3):  # bump the range if needed\n",
    "        posts_more = harvest_posts(\n",
    "            subs=SUBS,\n",
    "            modes=modes,\n",
    "            time_filters=time_filters,\n",
    "            limit_per=1000,\n",
    "            sleep_between=0.4\n",
    "        )\n",
    "        _ = insert_posts_df(posts_more, batch_size=2000)\n",
    "        posts_now, comments_now = get_db_counts()\n",
    "        print_delta(0, 0, posts_now, comments_now, label=\"TOP-UP CHECK\")  # simple progress\n",
    "        if posts_now >= TARGET_POSTS:\n",
    "            break\n",
    "\n",
    "print(f\"Final posts total: {posts_now:,}\")"
   ]
  },
  {
   "cell_type": "code",
   "execution_count": 45,
   "id": "fbf8a8dc",
   "metadata": {},
   "outputs": [
    {
     "name": "stdout",
     "output_type": "stream",
     "text": [
      "DB file: /Users/baderrezek/Desktop/Projects/Personal/sims4-sentiment-analysis/data/raw/sims4.db\n",
      "Posts: 6,574 | Comments: 591,584\n",
      "Absolute path: /Users/baderrezek/Desktop/Projects/Personal/sims4-sentiment-analysis/data/raw/sims4.db\n"
     ]
    }
   ],
   "source": [
    "importlib.reload(cd)\n",
    "from src.collect_data import get_db_counts, DB_PATH\n",
    "p, c = get_db_counts()   # prints path + totals\n",
    "print(\"Absolute path:\", DB_PATH.resolve())"
   ]
  },
  {
   "cell_type": "code",
   "execution_count": 46,
   "id": "951c87a1",
   "metadata": {},
   "outputs": [
    {
     "name": "stdout",
     "output_type": "stream",
     "text": [
      "Notebook DB: /Users/baderrezek/Desktop/Projects/Personal/sims4-sentiment-analysis/data/raw/sims4.db\n",
      "   posts\n",
      "0   6574\n",
      "   comments\n",
      "0    591584\n"
     ]
    }
   ],
   "source": [
    "from src.collect_data import DB_PATH, get_conn\n",
    "import pandas as pd\n",
    "\n",
    "print(\"Notebook DB:\", DB_PATH.resolve())\n",
    "with get_conn() as conn:\n",
    "    print(pd.read_sql_query(\"SELECT COUNT(*) AS posts FROM posts;\", conn))\n",
    "    print(pd.read_sql_query(\"SELECT COUNT(*) AS comments FROM comments;\", conn))"
   ]
  },
  {
   "cell_type": "code",
   "execution_count": 47,
   "id": "b13d131d",
   "metadata": {},
   "outputs": [
    {
     "name": "stdout",
     "output_type": "stream",
     "text": [
      "DB path: /Users/baderrezek/Desktop/Projects/Personal/sims4-sentiment-analysis/data/raw/sims4.db\n",
      "   posts\n",
      "0   6574\n",
      "   comments\n",
      "0    591584\n"
     ]
    }
   ],
   "source": [
    "from src.collect_data import DB_PATH, get_conn\n",
    "import pandas as pd\n",
    "\n",
    "print(\"DB path:\", DB_PATH.resolve())\n",
    "with get_conn() as conn:\n",
    "    print(pd.read_sql_query(\"SELECT COUNT(*) AS posts FROM posts;\", conn))\n",
    "    print(pd.read_sql_query(\"SELECT COUNT(*) AS comments FROM comments;\", conn))"
   ]
  },
  {
   "cell_type": "code",
   "execution_count": 48,
   "id": "a4179f8d",
   "metadata": {},
   "outputs": [
    {
     "name": "stdout",
     "output_type": "stream",
     "text": [
      "       name\n",
      "0  comments\n",
      "1     posts\n",
      "   posts_distinct\n",
      "0            6574\n",
      "   comments_distinct\n",
      "0             591584\n"
     ]
    },
    {
     "data": {
      "application/vnd.microsoft.datawrangler.viewer.v0+json": {
       "columns": [
        {
         "name": "index",
         "rawType": "int64",
         "type": "integer"
        },
        {
         "name": "post_id",
         "rawType": "object",
         "type": "string"
        },
        {
         "name": "subreddit",
         "rawType": "object",
         "type": "string"
        },
        {
         "name": "mode",
         "rawType": "object",
         "type": "string"
        },
        {
         "name": "score",
         "rawType": "object",
         "type": "unknown"
        },
        {
         "name": "num_comments",
         "rawType": "object",
         "type": "unknown"
        },
        {
         "name": "stored_comments",
         "rawType": "int64",
         "type": "integer"
        }
       ],
       "ref": "baa4ddf3-45d6-4b3e-b9ec-a3d781dd969c",
       "rows": [
        [
         "0",
         "1e0ghpj",
         "Sims4",
         "top",
         "b'\\xd5\\x07\\x00\\x00\\x00\\x00\\x00\\x00'",
         "b'\\xa3\\x04\\x00\\x00\\x00\\x00\\x00\\x00'",
         "500"
        ],
        [
         "1",
         "1kch8mb",
         "Sims4",
         "top",
         "b'r\\x16\\x00\\x00\\x00\\x00\\x00\\x00'",
         "b')\\x04\\x00\\x00\\x00\\x00\\x00\\x00'",
         "499"
        ],
        [
         "2",
         "1l9ottz",
         "Sims4",
         "top",
         "b'=\\x1c\\x00\\x00\\x00\\x00\\x00\\x00'",
         "b'O\\x03\\x00\\x00\\x00\\x00\\x00\\x00'",
         "499"
        ],
        [
         "3",
         "1mupzk3",
         "Sims4",
         "top",
         "b'@\\x00\\x00\\x00\\x00\\x00\\x00\\x00'",
         "b'A\\x05\\x00\\x00\\x00\\x00\\x00\\x00'",
         "498"
        ],
        [
         "4",
         "1fvaeur",
         "Sims4",
         "top",
         "b'\\xad\\x18\\x00\\x00\\x00\\x00\\x00\\x00'",
         "b'\\x8d\\x03\\x00\\x00\\x00\\x00\\x00\\x00'",
         "497"
        ]
       ],
       "shape": {
        "columns": 6,
        "rows": 5
       }
      },
      "text/html": [
       "<div>\n",
       "<style scoped>\n",
       "    .dataframe tbody tr th:only-of-type {\n",
       "        vertical-align: middle;\n",
       "    }\n",
       "\n",
       "    .dataframe tbody tr th {\n",
       "        vertical-align: top;\n",
       "    }\n",
       "\n",
       "    .dataframe thead th {\n",
       "        text-align: right;\n",
       "    }\n",
       "</style>\n",
       "<table border=\"1\" class=\"dataframe\">\n",
       "  <thead>\n",
       "    <tr style=\"text-align: right;\">\n",
       "      <th></th>\n",
       "      <th>post_id</th>\n",
       "      <th>subreddit</th>\n",
       "      <th>mode</th>\n",
       "      <th>score</th>\n",
       "      <th>num_comments</th>\n",
       "      <th>stored_comments</th>\n",
       "    </tr>\n",
       "  </thead>\n",
       "  <tbody>\n",
       "    <tr>\n",
       "      <th>0</th>\n",
       "      <td>1e0ghpj</td>\n",
       "      <td>Sims4</td>\n",
       "      <td>top</td>\n",
       "      <td>b'\\xd5\\x07\\x00\\x00\\x00\\x00\\x00\\x00'</td>\n",
       "      <td>b'\\xa3\\x04\\x00\\x00\\x00\\x00\\x00\\x00'</td>\n",
       "      <td>500</td>\n",
       "    </tr>\n",
       "    <tr>\n",
       "      <th>1</th>\n",
       "      <td>1kch8mb</td>\n",
       "      <td>Sims4</td>\n",
       "      <td>top</td>\n",
       "      <td>b'r\\x16\\x00\\x00\\x00\\x00\\x00\\x00'</td>\n",
       "      <td>b')\\x04\\x00\\x00\\x00\\x00\\x00\\x00'</td>\n",
       "      <td>499</td>\n",
       "    </tr>\n",
       "    <tr>\n",
       "      <th>2</th>\n",
       "      <td>1l9ottz</td>\n",
       "      <td>Sims4</td>\n",
       "      <td>top</td>\n",
       "      <td>b'=\\x1c\\x00\\x00\\x00\\x00\\x00\\x00'</td>\n",
       "      <td>b'O\\x03\\x00\\x00\\x00\\x00\\x00\\x00'</td>\n",
       "      <td>499</td>\n",
       "    </tr>\n",
       "    <tr>\n",
       "      <th>3</th>\n",
       "      <td>1mupzk3</td>\n",
       "      <td>Sims4</td>\n",
       "      <td>top</td>\n",
       "      <td>b'@\\x00\\x00\\x00\\x00\\x00\\x00\\x00'</td>\n",
       "      <td>b'A\\x05\\x00\\x00\\x00\\x00\\x00\\x00'</td>\n",
       "      <td>498</td>\n",
       "    </tr>\n",
       "    <tr>\n",
       "      <th>4</th>\n",
       "      <td>1fvaeur</td>\n",
       "      <td>Sims4</td>\n",
       "      <td>top</td>\n",
       "      <td>b'\\xad\\x18\\x00\\x00\\x00\\x00\\x00\\x00'</td>\n",
       "      <td>b'\\x8d\\x03\\x00\\x00\\x00\\x00\\x00\\x00'</td>\n",
       "      <td>497</td>\n",
       "    </tr>\n",
       "  </tbody>\n",
       "</table>\n",
       "</div>"
      ],
      "text/plain": [
       "   post_id subreddit mode                                score  \\\n",
       "0  1e0ghpj     Sims4  top  b'\\xd5\\x07\\x00\\x00\\x00\\x00\\x00\\x00'   \n",
       "1  1kch8mb     Sims4  top     b'r\\x16\\x00\\x00\\x00\\x00\\x00\\x00'   \n",
       "2  1l9ottz     Sims4  top     b'=\\x1c\\x00\\x00\\x00\\x00\\x00\\x00'   \n",
       "3  1mupzk3     Sims4  top     b'@\\x00\\x00\\x00\\x00\\x00\\x00\\x00'   \n",
       "4  1fvaeur     Sims4  top  b'\\xad\\x18\\x00\\x00\\x00\\x00\\x00\\x00'   \n",
       "\n",
       "                          num_comments  stored_comments  \n",
       "0  b'\\xa3\\x04\\x00\\x00\\x00\\x00\\x00\\x00'              500  \n",
       "1     b')\\x04\\x00\\x00\\x00\\x00\\x00\\x00'              499  \n",
       "2     b'O\\x03\\x00\\x00\\x00\\x00\\x00\\x00'              499  \n",
       "3     b'A\\x05\\x00\\x00\\x00\\x00\\x00\\x00'              498  \n",
       "4  b'\\x8d\\x03\\x00\\x00\\x00\\x00\\x00\\x00'              497  "
      ]
     },
     "metadata": {},
     "output_type": "display_data"
    }
   ],
   "source": [
    "# Which tables exist?\n",
    "with get_conn() as conn:\n",
    "    print(pd.read_sql_query(\"SELECT name FROM sqlite_master WHERE type='table' ORDER BY 1;\", conn))\n",
    "\n",
    "# Count DISTINCT primary keys (defensive check)\n",
    "with get_conn() as conn:\n",
    "    print(pd.read_sql_query(\"SELECT COUNT(DISTINCT post_id) AS posts_distinct FROM posts;\", conn))\n",
    "    print(pd.read_sql_query(\"SELECT COUNT(DISTINCT comment_id) AS comments_distinct FROM comments;\", conn))\n",
    "\n",
    "# A tiny join sanity check: top 5 posts by stored comment count\n",
    "with get_conn() as conn:\n",
    "    q = \"\"\"\n",
    "    SELECT p.post_id, p.subreddit, p.mode, p.score, p.num_comments,\n",
    "           COUNT(c.comment_id) AS stored_comments\n",
    "    FROM posts p\n",
    "    LEFT JOIN comments c ON c.post_id = p.post_id\n",
    "    GROUP BY p.post_id\n",
    "    ORDER BY stored_comments DESC, p.score DESC\n",
    "    LIMIT 5;\n",
    "    \"\"\"\n",
    "    display(pd.read_sql_query(q, conn))"
   ]
  }
 ],
 "metadata": {
  "kernelspec": {
   "display_name": "my_DS",
   "language": "python",
   "name": "python3"
  },
  "language_info": {
   "codemirror_mode": {
    "name": "ipython",
    "version": 3
   },
   "file_extension": ".py",
   "mimetype": "text/x-python",
   "name": "python",
   "nbconvert_exporter": "python",
   "pygments_lexer": "ipython3",
   "version": "3.13.5"
  }
 },
 "nbformat": 4,
 "nbformat_minor": 5
}
