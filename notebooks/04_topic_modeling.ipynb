{
 "cells": [
  {
   "cell_type": "markdown",
   "id": "39b3713c",
   "metadata": {},
   "source": []
  },
  {
   "cell_type": "code",
   "execution_count": 130,
   "id": "cad023d3",
   "metadata": {},
   "outputs": [],
   "source": [
    "import sys\n",
    "from pathlib import Path\n",
    "import importlib\n",
    "\n",
    "ROOT = Path.cwd().parent\n",
    "sys.path.append(str(ROOT))\n",
    "\n",
    "import src.topic_modeling as mod\n",
    "\n",
    "importlib.reload(mod)\n",
    "\n",
    "import pandas as pd\n",
    "from src.topic_modeling import (\n",
    "    print_topics, make_topic_labels, topic_top_words, strip_reddit_preview,\n",
    "    nmf_topics\n",
    ")"
   ]
  },
  {
   "cell_type": "code",
   "execution_count": 131,
   "id": "50712102",
   "metadata": {},
   "outputs": [
    {
     "name": "stdout",
     "output_type": "stream",
     "text": [
      "DB path: /Users/baderrezek/Desktop/Projects/Personal/sims4-sentiment-analysis/data/processed/sims4_cleaned.db\n",
      "Exists? True\n"
     ]
    },
    {
     "data": {
      "application/vnd.microsoft.datawrangler.viewer.v0+json": {
       "columns": [
        {
         "name": "index",
         "rawType": "int64",
         "type": "integer"
        },
        {
         "name": "negative_prob",
         "rawType": "float64",
         "type": "float"
        },
        {
         "name": "neutral_prob",
         "rawType": "float64",
         "type": "float"
        },
        {
         "name": "positive_prob",
         "rawType": "float64",
         "type": "float"
        },
        {
         "name": "sarcasm_prob",
         "rawType": "float64",
         "type": "float"
        },
        {
         "name": "negative_raw",
         "rawType": "float64",
         "type": "float"
        },
        {
         "name": "neg_w_sarcasm",
         "rawType": "float64",
         "type": "float"
        },
        {
         "name": "full_post",
         "rawType": "object",
         "type": "string"
        },
        {
         "name": "date",
         "rawType": "object",
         "type": "string"
        },
        {
         "name": "post_id",
         "rawType": "object",
         "type": "string"
        }
       ],
       "ref": "ebd52772-99e3-41c4-8b3d-c1c69a302206",
       "rows": [
        [
         "0",
         "0.22176988422870636",
         "0.6114067435264587",
         "0.16682332754135132",
         "0.07112594693899155",
         "0.05494655668735504",
         "0.05951887369155884",
         "the cat is under the covers with her are you kidding me 😭:\n",
         "2025-08-14 20:14:34+00:00",
         "1mqbu8g"
        ],
        [
         "1",
         "0.025227900594472885",
         "0.07520242780447006",
         "0.8995696902275085",
         "0.048952993005514145",
         "-0.8743417859077454",
         "-0.8416253924369812",
         "Welp. My 3 year old turned off my computer. Lost my build but look how cute it was.:\nI finished making another cake house and I loved it! I forgot to click save, went to put my 6mo old down for a nap and came back out and realized my 3 year old turned off my computer. It was hella cute, I’ve been playing for so long now and you think that I would remember to save after every moment I stepped away from the computer.. NOPE I don’t know if I’ll rebuild it. I might. Who has time as a stay at home mom of 2 though. Lol ",
         "2025-08-20 03:09:47+00:00",
         "1mv3jnz"
        ],
        [
         "2",
         "0.007088333833962679",
         "0.03233053535223007",
         "0.9605811238288879",
         "0.10323426872491837",
         "-0.9534927606582642",
         "-0.879187822341919",
         "I love everything about this ridiculously big dress :D:\nI was about to sit my male Sim at the computer to busy himself and I noticed his wife got out of the shower and changed into this dress :D It's one of about 5 of her Everyday outfits and I forgot it was there tbh but I am glad I kept it in the rotation just for moments like these...it must register as nude judging by the husbands reaction :D",
         "2025-08-18 20:20:44+00:00",
         "1mtxbiy"
        ],
        [
         "3",
         "0.35531193017959595",
         "0.527494490146637",
         "0.1171935498714447",
         "0.05001775920391083",
         "0.23811838030815125",
         "0.23537854850292206",
         "Does this look like a strawberry roll shortcake house?:\nI want to continue my streak of making little pastry houses. I can’t quite figure out how to make this look more like a strawberry cake rollup. I want to add white icing, but I can’t figure out what to use. I tried using like the granite Falls blossoms. I really wanted to use some white rugs, but did you know that you can’t raise rugs? I just learned that. ",
         "2025-08-28 19:01:04+00:00",
         "1n2l1np"
        ],
        [
         "4",
         "0.020656270906329155",
         "0.2224780023097992",
         "0.7568657398223877",
         "0.046406324952840805",
         "-0.7362094521522522",
         "-0.709361732006073",
         "I got tired of tracking down fruits and veg so I made my own farmer’s market:\nApart from a few debug items everything is home-grown on my sim’s home lot, buyable and fully functional with no CC! ",
         "2025-08-11 10:36:01+00:00",
         "1mn9ghp"
        ]
       ],
       "shape": {
        "columns": 9,
        "rows": 5
       }
      },
      "text/html": [
       "<div>\n",
       "<style scoped>\n",
       "    .dataframe tbody tr th:only-of-type {\n",
       "        vertical-align: middle;\n",
       "    }\n",
       "\n",
       "    .dataframe tbody tr th {\n",
       "        vertical-align: top;\n",
       "    }\n",
       "\n",
       "    .dataframe thead th {\n",
       "        text-align: right;\n",
       "    }\n",
       "</style>\n",
       "<table border=\"1\" class=\"dataframe\">\n",
       "  <thead>\n",
       "    <tr style=\"text-align: right;\">\n",
       "      <th></th>\n",
       "      <th>negative_prob</th>\n",
       "      <th>neutral_prob</th>\n",
       "      <th>positive_prob</th>\n",
       "      <th>sarcasm_prob</th>\n",
       "      <th>negative_raw</th>\n",
       "      <th>neg_w_sarcasm</th>\n",
       "      <th>full_post</th>\n",
       "      <th>date</th>\n",
       "      <th>post_id</th>\n",
       "    </tr>\n",
       "  </thead>\n",
       "  <tbody>\n",
       "    <tr>\n",
       "      <th>0</th>\n",
       "      <td>0.221770</td>\n",
       "      <td>0.611407</td>\n",
       "      <td>0.166823</td>\n",
       "      <td>0.071126</td>\n",
       "      <td>0.054947</td>\n",
       "      <td>0.059519</td>\n",
       "      <td>the cat is under the covers with her are you k...</td>\n",
       "      <td>2025-08-14 20:14:34+00:00</td>\n",
       "      <td>1mqbu8g</td>\n",
       "    </tr>\n",
       "    <tr>\n",
       "      <th>1</th>\n",
       "      <td>0.025228</td>\n",
       "      <td>0.075202</td>\n",
       "      <td>0.899570</td>\n",
       "      <td>0.048953</td>\n",
       "      <td>-0.874342</td>\n",
       "      <td>-0.841625</td>\n",
       "      <td>Welp. My 3 year old turned off my computer. Lo...</td>\n",
       "      <td>2025-08-20 03:09:47+00:00</td>\n",
       "      <td>1mv3jnz</td>\n",
       "    </tr>\n",
       "    <tr>\n",
       "      <th>2</th>\n",
       "      <td>0.007088</td>\n",
       "      <td>0.032331</td>\n",
       "      <td>0.960581</td>\n",
       "      <td>0.103234</td>\n",
       "      <td>-0.953493</td>\n",
       "      <td>-0.879188</td>\n",
       "      <td>I love everything about this ridiculously big ...</td>\n",
       "      <td>2025-08-18 20:20:44+00:00</td>\n",
       "      <td>1mtxbiy</td>\n",
       "    </tr>\n",
       "    <tr>\n",
       "      <th>3</th>\n",
       "      <td>0.355312</td>\n",
       "      <td>0.527494</td>\n",
       "      <td>0.117194</td>\n",
       "      <td>0.050018</td>\n",
       "      <td>0.238118</td>\n",
       "      <td>0.235379</td>\n",
       "      <td>Does this look like a strawberry roll shortcak...</td>\n",
       "      <td>2025-08-28 19:01:04+00:00</td>\n",
       "      <td>1n2l1np</td>\n",
       "    </tr>\n",
       "    <tr>\n",
       "      <th>4</th>\n",
       "      <td>0.020656</td>\n",
       "      <td>0.222478</td>\n",
       "      <td>0.756866</td>\n",
       "      <td>0.046406</td>\n",
       "      <td>-0.736209</td>\n",
       "      <td>-0.709362</td>\n",
       "      <td>I got tired of tracking down fruits and veg so...</td>\n",
       "      <td>2025-08-11 10:36:01+00:00</td>\n",
       "      <td>1mn9ghp</td>\n",
       "    </tr>\n",
       "  </tbody>\n",
       "</table>\n",
       "</div>"
      ],
      "text/plain": [
       "   negative_prob  neutral_prob  positive_prob  sarcasm_prob  negative_raw  \\\n",
       "0       0.221770      0.611407       0.166823      0.071126      0.054947   \n",
       "1       0.025228      0.075202       0.899570      0.048953     -0.874342   \n",
       "2       0.007088      0.032331       0.960581      0.103234     -0.953493   \n",
       "3       0.355312      0.527494       0.117194      0.050018      0.238118   \n",
       "4       0.020656      0.222478       0.756866      0.046406     -0.736209   \n",
       "\n",
       "   neg_w_sarcasm                                          full_post  \\\n",
       "0       0.059519  the cat is under the covers with her are you k...   \n",
       "1      -0.841625  Welp. My 3 year old turned off my computer. Lo...   \n",
       "2      -0.879188  I love everything about this ridiculously big ...   \n",
       "3       0.235379  Does this look like a strawberry roll shortcak...   \n",
       "4      -0.709362  I got tired of tracking down fruits and veg so...   \n",
       "\n",
       "                        date  post_id  \n",
       "0  2025-08-14 20:14:34+00:00  1mqbu8g  \n",
       "1  2025-08-20 03:09:47+00:00  1mv3jnz  \n",
       "2  2025-08-18 20:20:44+00:00  1mtxbiy  \n",
       "3  2025-08-28 19:01:04+00:00  1n2l1np  \n",
       "4  2025-08-11 10:36:01+00:00  1mn9ghp  "
      ]
     },
     "metadata": {},
     "output_type": "display_data"
    }
   ],
   "source": [
    "import sqlite3\n",
    "\n",
    "PROCESSED_DIR = Path(ROOT) / \"data\" / \"processed\"\n",
    "DB_CLEANED_PATH = PROCESSED_DIR / \"sims4_cleaned.db\"\n",
    "\n",
    "print(\"DB path:\", DB_CLEANED_PATH)\n",
    "print(\"Exists?\", DB_CLEANED_PATH.exists())\n",
    "\n",
    "conn = sqlite3.connect(DB_CLEANED_PATH)\n",
    "\n",
    "df = pd.read_sql_query(\"SELECT * FROM sarcasm_sentiment_per_post\", conn)\n",
    "display(df.head(5))"
   ]
  },
  {
   "cell_type": "code",
   "execution_count": 134,
   "id": "07e11383",
   "metadata": {},
   "outputs": [
    {
     "name": "stderr",
     "output_type": "stream",
     "text": [
      "Batches: 100%|██████████| 11/11 [00:03<00:00,  2.94it/s]\n"
     ]
    }
   ],
   "source": [
    "complaints = df.query(\"neg_w_sarcasm > 0.2\")\n",
    "\n",
    "from sentence_transformers import SentenceTransformer\n",
    "model = SentenceTransformer(\"all-MiniLM-L6-v2\")\n",
    "embeddings = model.encode(complaints[\"full_post\"].tolist(), batch_size=256, show_progress_bar=True)"
   ]
  },
  {
   "cell_type": "code",
   "execution_count": 140,
   "id": "de36a774",
   "metadata": {},
   "outputs": [
    {
     "name": "stderr",
     "output_type": "stream",
     "text": [
      "2025-09-04 02:28:08,927 - BERTopic - Dimensionality - Fitting the dimensionality reduction algorithm\n",
      "2025-09-04 02:28:13,485 - BERTopic - Dimensionality - Completed ✓\n",
      "2025-09-04 02:28:13,486 - BERTopic - Cluster - Start clustering the reduced embeddings\n",
      "2025-09-04 02:28:13,677 - BERTopic - Cluster - Completed ✓\n",
      "2025-09-04 02:28:13,679 - BERTopic - Representation - Fine-tuning topics using representation models.\n",
      "2025-09-04 02:28:13,749 - BERTopic - Representation - Completed ✓\n"
     ]
    },
    {
     "data": {
      "application/vnd.microsoft.datawrangler.viewer.v0+json": {
       "columns": [
        {
         "name": "index",
         "rawType": "int64",
         "type": "integer"
        },
        {
         "name": "Topic",
         "rawType": "int64",
         "type": "integer"
        },
        {
         "name": "Count",
         "rawType": "int64",
         "type": "integer"
        },
        {
         "name": "Name",
         "rawType": "object",
         "type": "string"
        },
        {
         "name": "Representation",
         "rawType": "object",
         "type": "unknown"
        },
        {
         "name": "Representative_Docs",
         "rawType": "object",
         "type": "unknown"
        }
       ],
       "ref": "140a40a0-4bd5-4f15-94ce-bdc97c26fd49",
       "rows": [
        [
         "0",
         "-1",
         "920",
         "-1_to_the_and_in",
         "['to', 'the', 'and', 'in', 'my', 'of', 'is', 'sims', 'sim', 'this']",
         "[\"How To Create A Family That Will Tear Itself Apart:\\nSo I have a particular scenario I want to create for my sim, where she is a brilliant, good-natured young woman who comes from a thoroughly dysfunctional family that will inevitably tear itself apart around her. Don't worry, she'll get out of this, particularly with the love and support of her girlfriend. In fact, she'll probably be spending a *lot* of time sleeping over at her girlfriend's house, and not just for woohoo-related reasons.\\n\\nI've managed to create the sim I want and guide her through doing well in school while finding her soulmate - multiple times, in fact. However, even when I design her parents to be highly incompatible, not much seems to happen in the background. At most, her parents end up arguing a lot. I was hoping for something more. An affair, at least, if not for her parents to actively split up or get violent with each other.\\n\\nI suspect that to really make this scenario work, I'd need to take a much more active role in directing her parents' actions. But it's a bit hard to do that while managing a teenager's life. Is there a particular combination of traits that would work? Or maybe a mod that gives sims more active lives when you're not controlling them?\", \"Something you wish the Sims 4 would DELETE:\\nNow, just want to talk about the *small* things, not gameplay, paywall, bugs, etc.😂 \\n\\nHere's mine:\\n\\nThe DAMN Thanksgiving Gnomes. Why don't they go away after the holiday is over? Why do they spread seeds everywhere? Why are you REQUIRED for the holiday to interact with them just for them to dump seeds everywhere or break my shit? Why do I feel so guilty about killing them? \\nI like holidays, so don't want to disable them but- those damn Gnomes. \\n\\nThe trellis. It becomes the main entrance of the house and nothing pisses me off more than my Sim being outside, needing to pee, using the trellis to go upstairs and walk by 3 toilets to go pee downstairs right next to the actual front door. UGH. I never get the sneak out option in High School Years so now it's just useless AND annoying. Could I delete this? Yes, but one day I'm going to get the damn pop up. \\n\\nHomework books. I actually didn't think of this one till someone mentioned old Sims you'd just click the bookshelf to do your homework, omg I'd die for that for Sims 4, and have the option to do homework on the computer would be convenient. \\n\\nHaving a grill solely because of those damn potions. Omfg. I could built a lot with the amount of potions that accumulate when I'm not paying attention to my yard. \\n\\nGHOSTS BREAKING MY SHIT. \\n\\nI'll think of more I'm sure. What's yours? \\n\\n*my apologies for the gnome debate.. but after all your comments, I still hate them* \\n-I don't need the simoleons from them. It is too easy to make simoleons in the game for me to care about selling them, and it still makes me feel guilty for 'killing' them. \\n-I have enough produce to last till my Sims great great grandchildren. My garden is the tit's. The 100+ apples in my Sims inventory would make doctors extinct. \", \"How has your life influenced your way of playing?:\\nI had this funny revelation the other day and i wonder if other simmers can relate\\n\\nSo i've been playing the Sims since i was a kid (i am 20 now) and always used to play with families and make these elaborate storylines. But for some reason i could not commit to one healthy family SOMETHING had to happen to get the parents to divorce lol\\n\\nI now realize this is just because my parents have been divorced ever since i was four and i literally cannot imagine having a regular family where the parents are still together - it doesnt make sense to me. Wdym TWO loving parents in one household??? that just seems excessive xD\\n\\nSo i could never do it they always had to break up because it was much easier to relate to lol (and with mods so i could do custody stuff). It's so funny how your own real life experiences shape the way you create storylines in this game.\\n\\nWhat are some ways your real life has influenced your gaming style? \"]"
        ],
        [
         "1",
         "0",
         "289",
         "0_this_what_is_me",
         "['this', 'what', 'is', 'me', 'why', 'you', 'know', 'excuse', 'sorry', 'dont']",
         "['What is this in his head?:\\nIve never seen this before 😭', 'now what is this💀:\\n', 'WHAT IS THIS!??:\\n']"
        ],
        [
         "2",
         "1",
         "272",
         "1_mods_game_it_my",
         "['mods', 'game', 'it', 'my', 'the', 'to', 'and', 'update', 'but', 'play']",
         "[\"My builds keep getting deleted:\\nSo my game broke after the update because I have a ton of CC and mods. Can't load into a household with mods on, turned them off, loading in works fine. Mod problem. Cool, annoying but understandable.\\n\\nSince I couldn't play in the saves I normally do, I decided to do some building because that worked either way. But when I load back into the game, in manage worlds it's there just how I left it. But if I try to go onto the lot it reverts it back to how it originally was (house I bulldozed, empty lot, etc.) This happened twice. I turned off mods, tried again, it happened again. My sibling also had this issue. We both have mods. It's only happening to builds made *after* the update.\\n\\nNone of these builds that were deleted contained CC. \\n\\nI haven't tried removing my mods folder entirely yet, but frankly I don't want any more builds to be deleted so I'm scared to test anything else. So it still could be mods I guess, I don't know. I guess I'll try removing the folder.\\n\\nI'm just pissed off rn. I want to play, but now it's not even letting me build. I could try to start an unmoded household but I don't want to if it's just going to delete everything the next time I play.\", \"How do I fix my game?:\\nSo, I'm one of those people with wayyyy too many mods, so I wasn't surprised when my game started crashing after the new update\\n\\n*But* these weren't just random crashes that make me want to quit the game, I can't even play a family anymore without it getting stuck on the loading screen\\n\\nI tried taking out most of my mods, no use. Taking out all of them (except CC), nope. Only when I turned off the script mods (but left the CC) did it work, so I have no idea what's making it crash.\\n\\nA friend recommended uninstalling and re-installing, but I'm way too scared about losing my stuff to do it and the game's way too boring without the mods I'm used to. So is there a way to fix this (possibly without having to uninstall the whole thing) or should I just wait it out?\\n\\nUPDATE: I went and looked through each one of my mods, deleting the broken ones, updating the whole thing and it is STILL broken so I think my game is cursed yall\", \"Unable to play with Script Mods:\\nHi everyone! I'm pretty new to reddit so this has probably been posted before.\\n\\nI've been playing Sims 4 with mods for a long time now and I've always been able to play the game with mods with very little to no issue. But for some reason, after installing the new Wicked Perversions update, I can't play the game in live mode anymore. When I load up my save file, it opens up on the Worlds Map and whenever I try to play my household (or even any household), I just get rerouted back to the Worlds Map again.\\n\\nI've tried deleting Wicked Perversions and even doing the 50/50 method to check which of my mods are causing the error, but neither has worked. I've also tried deleting cache files (GameVersion.txt, Options.ini, localthumbcache.package, and Resource.cfg in the mods folder) since I saw a similar post that had this as the solution. \\n\\nSo far, the only thing that seems to work was disabling script mods (but not cc). I was able to play in live mode and load my household after this, but obviously most of my mods don't really work anymore.\\n\\nI'm open to trying anything at this point, so if any of you have any suggestions, I'd really appreciate it.\"]"
        ],
        [
         "3",
         "2",
         "128",
         "2_baby_toddler_infant_is",
         "['baby', 'toddler', 'infant', 'is', 'up', 'the', 'my', 'to', 'aged', 'and']",
         "['newborn bug:\\nas depicted, i’m having a bug where my newborn essentially has two races 😭 both of his parents are white and he appears white in the bassinet, but in the family icons he’s black for some reason lol \\nthis happens only on this save and happened with his older brother, too. i thought it had something to do with the cc bassinet that i had when his brother was a newborn, but now the younger one just got a generic one and the bug is still there 😭 does anyone have any idea what may cause that?\\n(when they get aged up to an infant and further, the bug is gone, so it only affects newborns)', \"In defence of Eliza Pancakes :\\nI often see people slandering Eliza Pancakes, claiming that she is a gold digger and a nag; I simply don't think that's the case. Bob is gloomy, a slob and a loner, so I am certain that Eliza manages the household and does all the emotional labour in that relationship. From High-school years we learnt that she had dreams of having her own successful business. It seems like she gave up her dream in order to support Bob's dream of becoming a master chef. It is with her staying at home and making sure everything is in order, that Bob can pursue his dream ( which would be difficult if he had household chores and management to complete due to his slobby nature) Eliza Pancakes is not a nag, she is just a frustrated woman trying to get her husband ( who she sacrificed her dreams for) to pull his own weight.\\n\", 'just found out about toddler play dates…they did NOT live up to my expectations 😒:\\nk so i made a little blonde british boy and his mom and then i made the blonde woman as a teenager and she had a toddler of her own with some random townie so i was like oh he’s a cutie i’ll make the toddlers be friends so i make a whole park for them and set up a play date with them and a few other toddlers and my baby george tries to talk to the curly haired toddler and tries to hug him and his mom just picks him up and starts cussing out george💀💀 like what did he do?? he even tried to get him mom involved and she just pissed herself. AND then everyone was passing out and the moms were chatting and leaving their children asleep on the ground, no one would play together, one toddlers mom showed up nude, and my other toddler pissed herself as well😐 was much less cute than i thought it would be']"
        ],
        [
         "4",
         "3",
         "127",
         "3_sims_the_of_to",
         "['sims', 'the', 'of', 'to', 'that', 'game', 'for', 'be', 'and', 'in']",
         "['I don’t want sims 5, i want a sims 2 remake. :\\nSims 2 was really made with love, attention to details, and a good level of difficulty. everything is important and everything matters. wants and fears, good and bad events, needs, everything actually affect the sims.\\nSims 3 lacks this attention to details, but they compromised and put every efforts into the open world. but we were waiting for a balance between a great open world and attention to details, and realism while keeping the sims original signature, aesthetic, and universe. \\n\\nwhen sims 4 came out in 2014, that’s what I was waiting for. I was waiting for a perfect remake of sims 2 with open world like sims 3, and many other features, and graphics. an immersive gameplay where everything matters, everything is important, that they are not just puppets. \\n\\ninstead, we got bland, tasteless, lifeless, even useless sims 4. \\nugly graphics even for the time, a bland gameplay, and no real purpose. everything is boring. \\nnothing really matters. the emotions, which was announced as a big feature, does not affect a lot the gameplay. \\nonly 3 traits that does not affects the gameplays either, and a life goal/ambition system that is absolutely bland compared to the sims 2 and 3.\\nthey add more and more and more features with the 500 packs that they sell u for 40€, that are as useless and bland. sims are just useless puppets that have no real purpose. which is very sad, for a life simulator. \\n\\nwe were announced Project rene, but it’s been 1 year since we had any updates and news about this game. i’m losing hope. \\n\\nthe sims franchise will die if they don’t do anything. \\n\\n what do you think? do you agree? ', 'Soooo, given that EA has confirmed we’re not getting the Sims 5… what now for the series?:\\nSo this was something I was thinking about, as it stands, EA obv isn\\'t planning a direct successor to the Sims 4, instead basically focusing on spin offs (most of which seem to be mobile games, which yes I get are very profitable but don\\'t really fill the same niche as the traditional Sims games at all IMO). And so with this news, I was thinking, where does that leave the Sims 4, and the Sims generally?\\n\\nNow obviously, the Sims isn’t quite in the position it used to be in, where it was the only game like it on the market, so the user just kinda had to put up with whatever. There are various competitors popping up which COULD potentially knock the Sims off its throne, or at least take a decent market share away from the brand!\\n\\nI mean, in my opinion, there are basically a few things the Sims 4 could do, they could either go a “ship of thesis” route where most of the games internals are repaired and modernised (leaving no-very little remnants of the original game, hense the analogy), or they could keep things mostly as they are (basically an 11 year old game held together by duct tape and hope) and hope for the best.\\n\\nOn one hand, IF they were to choose to go the “ship of thesis” route, it\\'d be quite a bit of work, given they\\'d effectively be rewriting very large portions of the game (arguably effectively creating a new game). However, in the long term, it might just be what’s best for both the health of the game (and therefore EA’s profits) and the playerbase (who EA are heavily reliant on). \\n\\nOriginally, the Sims 4 was planned to be an always-online multiplayer-ish game, but when SimCity (2013) failed as hard as it did, EA pivoted and hastily retooled the game into a single-player game, which, of course, caused a bunch of issues. And while SOME of these issues have been remedied over the years, many are still present, and NGL, it\\'s just hard to build your supposedly definitive Sims game on such rocky foundations. \\n\\nRewriting large parts of the game could solve this; they\\'d be replacing all the problematic, hacky parts of the code base, and they could even rewrite the game into something based on what EA specifically wants it to be NOW, a very long-term Sims base game to sell DLC from, optimised for modern hardware. \\n\\nWho knows, with such rewrites, EA may finally be able to implement some features that the fanbase has been asking for but which were previously impossible, such as greater modding capabilities (maybe even stuff like Create-a-World), and they could EVEN try to implement arguably the biggest selling point one of their main competitors has over them, an open world (though that could be a slight reach haha). \\n\\nSo while yes, it would be a lot of work for EA to rewrite and optimise the Sims 4 for modern systems (perhaps such a rewrite could see the game rebranded to just simply \"the Sims\"), doing so could potentially allow EA to ensure that their competiton are unable to seriously challenge them in the life sim market.\\n\\nOn the other hand, EA could simply keep doing what they are doing now, continuing to release new DLCs and neglecting areas of the game in need of optimisation and bugfixes. By doing this, they\\'d largely be relying on brand loyalty and stuff like influencer advertising. However... I kinda feel like... I mean, influencer advertising isn\\'t SUPER expensive, and companies like Krafton can also afford to promote their game this way. So really, they\\'re kinda just relying on the brand loyalty people have for the Sims, and hoping that the other competitors don\\'t get too popular. \\n\\nI feel that for EA, this is kinda a risky strategy. It MIGHT work; the other main competitors may simply fail to gain significant traction, and the Sims gets to maintain its profitable position at the top without EA having to expend the effort to fix the game. If that happens, EA wins! HOWEVER, if either one of the new Sims competitors ends up getting good, good enough to start taking customers away from the Sims, then EA and Maxis could face a situation similar to that of Cities: Skylines and SimCity, which would probably be disastrous for EA, given how important the Sims brand is for them.\\n\\nBut yeah, those were just my silly thoughts, obviously, I\\'m just kinda spitballing here, I\\'d love to hear your thoughts in the comments though, thanks a bunch for reading!', 'I’m pissed off, and now I have a list of demands for the next Sims game:\\nDisclaimer: this post is slightly tongue-in-cheek, but does convey my thoughts on what I think should be prioritized for The Sims 5, assuming it gets made. Also, this post will be _laden_ with profanity - you’ve been warned\\n\\nSomething that has remained a constant throughout the Sims series is that Sims do all kinds of stupid shit to _piss you off_. The Sims 4 is better about this in some regards, but worse in others. This all became very clear to me during a bit of a marathon Sims 4 session yesterday, playing a family that consisted of two married sims and their three pairs of twins, where I became more and more frustrated throughout the day. Apologies to my neighbors, who probably now think I’m verbally abusing a mute person who lives with me as they sporadically hear me scream things like “NO! Put down the fucking bowl NOW and go to the fucking bathroom, you stupid cunt!”\\n\\nAs a result, I now have an official list of demands for Sims 5. It doesn’t include cars, open world, or any of that crap. It simply includes ways for sims to not piss me off so fucking much.\\n\\nBtw, this is focused on ways the Sims 4 pisses me off, but before you go smugly saying “tHiS iS wHy I wEnT bAcK 2 tHe SiMs 3”, just know that I will _glady_ spell out the fucking _LITANY_ of ways that The Sims 3 used to piss me off. Try me, stans. 🤣\\n\\nWithout further ado, my list of demands for a future Sims game:\\n\\n1. If I tell you to do something, do it ***NOW!!!*** Not 5 sim minutes from now. Not after you’re done with the chat animation. NOW!! Fucking NOW NOW NOW. I know it’s really important to _you_ that you finish your next bite of cereal, but it’s more important to _ME_ that you not ***SHIT YOURSELF***. In other words, sims should be more responsive and stop an activity immediately if the player has cancelled that action. It’s not unrealistic to do - in real life it’s a thing you can do to say “Hold that thought, Bob, I need to go to the bathroom before I shit myself.” It’s not rude, it’s just good manners to not shit yourself.\\n2. Stop being so ***GOD DAMN DUMB***. We need better AI. It doesn’t have to be perfect - I’m totally fine with my stupid sims passing out because they didn’t get enough sleep. What I can’t fucking stand is when they’re so irredeemably stupid that it results in what I’m lovingly referring to as “Nightmare morning”. It’s Saturday morning, the last pair of twins is ready to age up. So mom baked them a birthday cake. This takes _hours_ because all the teenagers in the house are all trying to cook ***for some fucking reason*** despite that there are already two excellent-quality meals ready for them on the counter, and so mom can’t reach the oven to finish the cake. Cue several minutes of all my sims playing hot potato with this bowl of cake dough as I try to cancel their actions one by one. This is already fucking infuriating, but then one of them decides to try to grill something, but they have no cooking skill so they set the grill on fire, and now everyone stops what they’re doing to look at the fire, which is on the other side of the fucking lot. Bright side, now the oven is clear, so mom can ***finally finish baking the fucking cake***. Finally, we get some candles on that bad boy, and mom’s close to her birthday, so I decide to kill three birthdays with one cake. Mom blows out the candles, but then instead of aging up, _she teleports outside of the house_. Okay let’s try again. Same thing. I do reset sim, and this time it works. I proceed to do “reset sim” on each of the twins before having them blow out the candles, though it takes a while, because they have both wandered off to the edge of the lot which is a big deal because it’s one of those huge Windenburg lots. In summary, better AI for autonomy. The autonomy is better than in previous games but it’s still really bad.\\n3. Faster eating. Faster shitting. Faster showering. I’m so fucking sick of this shit, I don’t know why we’re all so okay with it taking a fucking month for a sim to eat a fucking bowl of cereal, sitting there like a grinning little cunt staring at the fucking wall for an hour between each fucking bite. ***WATCHING SIMS EAT AND SHIT IS NOT WHY I PLAY THE SIMS***. That’s just the part I (barely) tolerate so I can do the fun parts, like developing their relationships or working on their careers. ***NO ONE OTHER THAN MY SISTER IN LAW TAKES TWO HOURS TO SHOWER!!!*** Just fucking quit it. Make it faster. Get shit done.\\n4. Multi-tasking is great, but it shouldn’t slow things down. Realism be damned, if I have no control over some dipshit missing link mother fucker coming over to talk to my sim while she’s eating, then I shouldn’t be punished for it by having the eating take long enough to be measured with a sun dial. If my sims are talking while they do homework, that shouldn’t slow down the process of finishing the homework. Again, fuck realism, I just want to not be pissed off.\\n5. Stop being so ***GOD DAMN DUMB***, part 2. There’s a dinner table and a chair right next to you, why are you walking up two flights of stairs to sit on the bed to eat, you Neanderthal? There’s a kitchen sink right next to you, why are you journeying deep into the Amazon to wash your plate in the fountain of youth, you dumb fucking bucket of donkey shit?! Your date is sitting on that barstool right there, why are you climbing up to the fucking roof to start chatting with her, you backwards-pissing monkeyfucker?!\\n6. Automatically change into normal clothes to go to work or school. I don’t know why my sims are all going to school in their (very inappropriate) pajamas or when that shit even started, but they ***needtofuckingquitit***.\\n7. Back on “group conversations”. There needs to be an invite only thing. Like a pop up that says “Brent Hecking would like to join the conversation”, and the options should be “Sure, come on in, buddy” and “Fuck off”. I love group conversations because they allow more than two sims to build relationship at the same time, but the player should have control over this. The reason is because trying to get a group convo back down to just two sims ***IS A FUCKING NIGHTMARE*** that takes eons to do.\\n\\n(Sigh) I feel better now. But seriously. I want more control over my sims, and I want them to be less hopelessly dumb when I just don’t feel like micro-managing a household of 8 sims.\\n\\nEDIT: Fixed some typos that were entirely the fault of my phone\\'s autocorrect, which has become self-aware and is actively trying to destroy my life. It\\'ll change \"baking the fucking cake\" to \"baking the fucking bake\", but then it\\'ll completely ignore an obvious typo like \"establoshment\" and say \"NOPE! I don\\'t know what to fucking do with _that shit_.\" So if anyone from Apple is reading this, fuck you for a million reasons, but especially fuck you with a baseball bat wrapped in barbed wire for making autocorrect so _god damn infuriating_. You\\'re one wrung higher on my shitlist than the knuckle-fuckers at Maxis.\\n\\nEDIT 2: Whichever weirdo gave this the \"wholesome\" award, you\\'re my kind of asshole.\\n\\nEDIT 3: Here\\'s another one:\\n\\n8. You know how if a sim gets struck by lightning twice, they die? So, umm... if my sim gets struck by lightning the first time... ***CAN YOU FUCKING TELL ME?!*** Why the game doesn\\'t automatically switch focus to the sim that\\'s literally going to die is beyond me. It\\'s probably ***slightly*** more important than whatever else I was focusing on. ***THANKS***']"
        ],
        [
         "5",
         "4",
         "124",
         "4_build_house_the_it",
         "['build', 'house', 'the', 'it', 'roof', 'building', 'to', 'im', 'and', 'this']",
         "['Few Beginner Questions (Mostly About Building):\\nI hope these questions don’t sound too silly, but I’ve been building and creating sims for a few days now, and I still can’t figure out how to do a few things I’ve seen other players do. I might have used the wrong flair for this post, I\\'m sorry about that!\\n\\n❓️ How can I rotate objects freely (360°) without them snapping to the grid? I only know how to rotate using the mouse click, but I’ve seen builders turn objects without any boundaries and I\\'d like to do that\\n\\n❓️ What’s the mod that lets you change household funds directly without using the in-game cheat feature? I think I saw Syd Mac use something like that\\n\\n❓️ In CAS, I faintly remember my friend pressing some keys and it unlocked a more detailed set of slider thingies than the usual detail edit mode. It reminded me of the extra roof slider thingies, where you can get more of those slider thingies. Does anyone know what that is?\\n\\n❓️ How do I access the extra roof slider thingies again? I’ve seen Caryn and Connie do it, but I completely forgot the method :\\')\\n\\n❓️ How do I stop my camera constantly moving up and down while I try to build? Does it have something to do with the weird floor heights I\\'m using due to my obsession with treehouses? I\\'ve seen every content creator I watch move their camera, change the angle, and do all kinds of things while mine goes up and down constantly. It\\'s so hard to build this way \\n\\nFinal note: Sorry about the often use of the word \"thingies\", I don\\'t know what most of the terms are. Any help is appreciated, thank you in advance!', 'I made Judith Ward a new house:\\nI was curious many simmers makeover Judith Ward\\'s house so I checked her house and it\\'s awful so I tried making her a new one, too.\\n\\nBecause she\\'s a celebrity, I thought I\\'d give her a tall fence. People can still peek but it also gives some sense of privacy. I also gave her a home theater with movie posters outside. I also felt like a natural pool may be something a rich person would have so I made that, too. There\\'s a platform above it which bridges the main house to another room. I play tested it so I know she can swim under and walk above. I added a bar, too, just because I feel like she\\'d be the type to just drink the night away. \\n\\nI made the garage using an upsized table. \\n\\nBecause I played her just to test play this build, I found out she didn\\'t know anyone at all and now I feel sad for her. \\n\\n\\n\\nThis build is on the gallery. It\\'s called \\'Ward Escape\\'.\\n\\n\\nJust a little note: the first floor is below ground so when you play it, you\\'d see empty \"basements\" which I just used as some sort of foundation for the rest of the house. I had to do it this way so that the platform can act like a bridge. I don\\'t know any other method for this. ', 'Can somebody more adept at building houses in ts3 tell me how the builder was able to do this?:\\n[This shows what looks](https://i.imgur.com/m4PNLjh.jpeg) to be a foundation (or deck) ontop of the floor that\\'s the \"roof\" - there are floor tiles ontop of the support beams & then there\\'s a platform ontop of some of the tiles - but where that deck is there\\'s no platform\\n\\n[This is what happens](https://i.imgur.com/6SJc9Wz.jpeg) when I delete a portion of the deck/foundation\\n\\n[This just shows](https://i.imgur.com/pwsl60s.jpeg) that there are platforms and floor tiles, I didn\\'t realize it had both until I started deleting things.\\n\\nI\\'m confused because when I use constrainfloorelevation to place the deck portion where I\\'d like it pushes the entire thing onto the ground, so I\\'m trying to figure out how the builder got it up there in the first place. It\\'s not a half wall because there are tiles on top of it. I cannot grab and drag it further because it gives me either a \\'floor pattern not floorable\\' error or the floor tile error.\\n\\nIs there anybody that could assist me with this? I\\'d like to expand the roof and keep it looking the same, but I can\\'t figure out how to do it! I\\'m almost positive it\\'s definitely a foundation because the sides are paintable. \\n\\n>Edit\\nThis house is on the custom world [Legacy Island III by Rflong7](https://www.thesims3.com/assetDetail.html?assetId=8219962). There are houses/rabbit holes built by Rflong in the world, and this is one of those houses. They tend to use foundations as walls, this beach house in particular. But, the world and build is truly amazing and I love playing my legacy in LI3, if you have most of the EPs I highly recommend.']"
        ],
        [
         "6",
         "5",
         "70",
         "5_sim_my_died_this",
         "['sim', 'my', 'died', 'this', 'is', 'male', 'at', 'time', 'just', 'someone']",
         "['What is the creepiest thing that\\'s happened in your game? :\\nI\\'ll go first: \\nMy teen sim was hanging out with her cousin and her aunt when suddenly they all said \"Yibs!\" at the exact same time. They all have different voices so it was obvious it was all 3 of them, plus their mouths moved at the same time.\\nI wish I had video of the event. My soul left my body. ', \"My sim keeps getting a negative response:\\nI couldn't find anyone having the same experience as me on the EA forums so I was wondering if someone here does. \\n\\nMy sim keeps getting a negative response from other sims (even when they have a high friendship). For some reason the other sim keeps rejecting pranks, giving a serum to try and complaints (like complaining about the weather). \\nI don't have any mods, I only have cc. \\n\", 'Death by Meteorite:\\nMy sim has died by meteorite and keeps getting hit by them about 3-5x a week in the afterlife. I have the life and death EP so I’m building my skills and doing what needs to be done to make the ambrosia that I’ve read will bring my sim back to life. My question to anyone that has done this, do you think my sim will keep getting hit and die all over again?? ']"
        ],
        [
         "7",
         "6",
         "58",
         "6_she_her_shes_is",
         "['she', 'her', 'shes', 'is', 'bitch', 'why', 'moyer', 'alex', 'did', 'just']",
         "['Why did she paint snow?:\\nAt first, she started the painting but then got distracted and left it white.  But then she resumed it and then this is how it looks when it is finished.  And ofc it is worth nothing, despite her autonomously costing the household $100 to start it.', 'Her mother JUST died so her mother decided to call her and tell her she was sorry for her loss:\\n', 'Heartbreaking: the worst NPC you know just got a makeover. (It\\'s Alex Moyer time.):\\nI haven\\'t seen many makeovers for Alex Moyer, so on a whim I decided to turn her into someone who looks a little less Karen. Did not change any genetics (including facial features, body shape, skin tone, or hair color), and tried to somewhat preserve her color scheme while still maintaining that \"worst person you know\" demeanor.\\n\\nI *cannot* imagine why anyone would want Alex Moyer in their game any more than she already is, but my ign on the galley is bullworthless!']"
        ],
        [
         "8",
         "7",
         "51",
         "7_save_files_saves_gone",
         "['save', 'files', 'saves', 'gone', 'my', 'lost', 'all', 'to', 'and', 'saved']",
         "[\"Computer broke down and I lost 8 years of gameplay:\\nAbout a year ago my computer completely broke down and we tried everything to recover pictures, videos, documents and most importantly my sims saves, cc and mods. But nothing could be saved. I was so devastated that I haven't played the game since. It still hurts to think of all the builds, and even the pictures of them are all lost. It might seem silly to be so upset about it, but I was genuinely so sad that I refused to even think about the game or the things I've built because it made me want to cry. I had downloaded so much content and created big family trees. I had a notebook with notes about the characters, their interests, personalities and careers etc.\\n \\nYesterday I finally downloaded the game and my packs on my new computer. In a way it's refreshing to start from the beginning but just downloading new cc and trying to find some old ones makes me a bit melancholy😅 But for now excited to get home for the weekend and open my sims 4 after a year of not playing it and loosing 8 years of gameplay\\n\\nI really wanted to share this somewhere so hopefully this is fine to post/rant\", 'is it possible to recover a lot from tray files?:\\nhi all! i was hopping on the sims to finish a household i was working on a few weeks ago. i had made the house, made one out of the two sims i wanted to make, and somehow managed to save the sim but not the house?\\nthere’s no official save file matching the date i made the sim and house in my sims 4 file, but there are tray files for the house i made and everything.\\nit seems because i saved the sim to the gallery that’s the only reason it’s still recoverable (which thank god, i spent over an hour on their tattoos.) however the house is entirely gone, i dug through my other saved games and it’s nowhere to be found.\\ni am a total noob when it comes to this kind of stuff, i have no idea what tray files really are lol but i know they contain house data! so i apologize if this entire post is stupid to some of y’all. but i really do not wanna remake the house again :’) is it recoverable at all or do i have to start from scratch?\\nthanks!', \"All my sims 4 save files are gone what do I do?:\\nI was playing sims 4 on a gaming laptop I was gifted then gaslit into giving back because the person who gifted it to me later changed their mind and wanted it back and said they were just lending it to me instead when I had lent it to them for a week, the thing is they reset it before I got the chance to save any of my sim files, and I lost all of them, and all my mods, as I don't remember the names of all the mods I had installed, what do I do?? Do I just start all over again?? Are all my old sim files lost forever? Idk, I was really attached to them, and had spent over two years on a forever world even if I'm not that good of a builder and that's just gone forever.\"]"
        ],
        [
         "9",
         "8",
         "49",
         "8_twins_and_baby_to",
         "['twins', 'and', 'baby', 'to', 'the', 'of', 'they', 'family', 'just', 'my']",
         "['Uuuhhhhh Twins?:\\nSo I\\'m very new to the sims and I bought the realm of magic. I had this super cool idea where I would have this \"perfect\" married couple who has a child and the kid would be super into dark magic. But then she had twins and no offense I do think twins could be creepy. I could barely take care of the two sims I had so now having 4 is just a lot. I also thought you could choose to have twins I didn\\'t know it just happened. So maybe I could make one into dark magic and the other into light or both dark?? \\n\\nAlso the couple is interracial why did they give me one white baby and one black baby. Do they not have tan skin tones??? And I keep seeing people saying they got CPS called and the husband loves families and the wife doesn\\'t have a lot of maternal traits so I\\'m nervous the Husband will be doing all the work and they kids will get taken away. ', \"Simple suggestion for the Sims Team that would improve babies, infants, and toddlers 1 million percent!:\\nAs we all know, babies, infants and toddlers can be really annoying to play. One large reason for this is because it's so difficult to coordinate your Sims' interactions with them. For example, the baby is crying. Sim A is standing next to them. I tell Sim A to feed the baby. Instead they immediately wave their arms and complain that they can't path to the baby. The reason is that on the other side of the lot, Sim B has autonomously decided to feed the baby and are blocking Sim A. So I have to select Sim B, cancel their action, then go back to Sim A and choose theirs all over again.\\n\\nThis happens all the time, and is a big part of why it can be so frustrating to have baby sims in your house. And the solution is so simple: Just give priority to player selected actions over autonomous actions. So, in the above scenario, I tell Sim A to feed the baby. The game detects that Sim B is already on their way to do it. But Sim A's action was player selected and Sim B's was autonomous, so it should cancel Sim B's action and allow Sim A to carry out theirs.\\n\\nAs someone current raising Sim triplets, this little fix would improve my life immeasurably!\\n\\n(Also, while we're at it: 99% of the time you click on a baby Sim, you will be trying to do one of two things: Feed or Change Diaper. Both of these used to be on the front page of the action menu, accessible in just 1 click. They are now buried under More Choices... and then Baby Care... and so take 3 clicks to reach. This is incredibly frustrating. They should be moved back to the front page.)\", 'The goth child has been stuck inside my restaurant for days. HOW DO I GET HIM OUT?!:\\nLil bit of info, I’m playing the Sims 4 on a desktop. My game is fully updated, as are all my mods. \\n\\nAlexander Goth came into my restaurant with his parents as a customer like 8 in game days ago. They got their food. They ate. They left. But they didn’t take their kid with them. Instead he just stayed there. After a few days of sitting in my diner with no way to care for his needs, I got the notification that child services was taking him away. I thought that would fix things. It did not. And now, I can’t just switch to the Goth family and make him go home, because after being taken away, he technically isn’t a family member. It’s like the game doesn’t recognize his existence but he’s still there. His needs don’t decay (from what I can tell, anyway. He never appears filthy, and the exclamation bubbles never appear to indicate anything he needs) but he can still interact with things and talk to my sims. He talks to them so much, in fact, that they neglect their needs to chitchat. I’ve tried using cheats to kill him, being mean to him to make him want to leave, etc. But I guess he thinks this is home now. \\n\\nHow do I make him realize that this is not, in fact, his home, and get him out for good? ']"
        ]
       ],
       "shape": {
        "columns": 5,
        "rows": 10
       }
      },
      "text/html": [
       "<div>\n",
       "<style scoped>\n",
       "    .dataframe tbody tr th:only-of-type {\n",
       "        vertical-align: middle;\n",
       "    }\n",
       "\n",
       "    .dataframe tbody tr th {\n",
       "        vertical-align: top;\n",
       "    }\n",
       "\n",
       "    .dataframe thead th {\n",
       "        text-align: right;\n",
       "    }\n",
       "</style>\n",
       "<table border=\"1\" class=\"dataframe\">\n",
       "  <thead>\n",
       "    <tr style=\"text-align: right;\">\n",
       "      <th></th>\n",
       "      <th>Topic</th>\n",
       "      <th>Count</th>\n",
       "      <th>Name</th>\n",
       "      <th>Representation</th>\n",
       "      <th>Representative_Docs</th>\n",
       "    </tr>\n",
       "  </thead>\n",
       "  <tbody>\n",
       "    <tr>\n",
       "      <th>0</th>\n",
       "      <td>-1</td>\n",
       "      <td>920</td>\n",
       "      <td>-1_to_the_and_in</td>\n",
       "      <td>[to, the, and, in, my, of, is, sims, sim, this]</td>\n",
       "      <td>[How To Create A Family That Will Tear Itself ...</td>\n",
       "    </tr>\n",
       "    <tr>\n",
       "      <th>1</th>\n",
       "      <td>0</td>\n",
       "      <td>289</td>\n",
       "      <td>0_this_what_is_me</td>\n",
       "      <td>[this, what, is, me, why, you, know, excuse, s...</td>\n",
       "      <td>[What is this in his head?:\\nIve never seen th...</td>\n",
       "    </tr>\n",
       "    <tr>\n",
       "      <th>2</th>\n",
       "      <td>1</td>\n",
       "      <td>272</td>\n",
       "      <td>1_mods_game_it_my</td>\n",
       "      <td>[mods, game, it, my, the, to, and, update, but...</td>\n",
       "      <td>[My builds keep getting deleted:\\nSo my game b...</td>\n",
       "    </tr>\n",
       "    <tr>\n",
       "      <th>3</th>\n",
       "      <td>2</td>\n",
       "      <td>128</td>\n",
       "      <td>2_baby_toddler_infant_is</td>\n",
       "      <td>[baby, toddler, infant, is, up, the, my, to, a...</td>\n",
       "      <td>[newborn bug:\\nas depicted, i’m having a bug w...</td>\n",
       "    </tr>\n",
       "    <tr>\n",
       "      <th>4</th>\n",
       "      <td>3</td>\n",
       "      <td>127</td>\n",
       "      <td>3_sims_the_of_to</td>\n",
       "      <td>[sims, the, of, to, that, game, for, be, and, in]</td>\n",
       "      <td>[I don’t want sims 5, i want a sims 2 remake. ...</td>\n",
       "    </tr>\n",
       "    <tr>\n",
       "      <th>5</th>\n",
       "      <td>4</td>\n",
       "      <td>124</td>\n",
       "      <td>4_build_house_the_it</td>\n",
       "      <td>[build, house, the, it, roof, building, to, im...</td>\n",
       "      <td>[Few Beginner Questions (Mostly About Building...</td>\n",
       "    </tr>\n",
       "    <tr>\n",
       "      <th>6</th>\n",
       "      <td>5</td>\n",
       "      <td>70</td>\n",
       "      <td>5_sim_my_died_this</td>\n",
       "      <td>[sim, my, died, this, is, male, at, time, just...</td>\n",
       "      <td>[What is the creepiest thing that's happened i...</td>\n",
       "    </tr>\n",
       "    <tr>\n",
       "      <th>7</th>\n",
       "      <td>6</td>\n",
       "      <td>58</td>\n",
       "      <td>6_she_her_shes_is</td>\n",
       "      <td>[she, her, shes, is, bitch, why, moyer, alex, ...</td>\n",
       "      <td>[Why did she paint snow?:\\nAt first, she start...</td>\n",
       "    </tr>\n",
       "    <tr>\n",
       "      <th>8</th>\n",
       "      <td>7</td>\n",
       "      <td>51</td>\n",
       "      <td>7_save_files_saves_gone</td>\n",
       "      <td>[save, files, saves, gone, my, lost, all, to, ...</td>\n",
       "      <td>[Computer broke down and I lost 8 years of gam...</td>\n",
       "    </tr>\n",
       "    <tr>\n",
       "      <th>9</th>\n",
       "      <td>8</td>\n",
       "      <td>49</td>\n",
       "      <td>8_twins_and_baby_to</td>\n",
       "      <td>[twins, and, baby, to, the, of, they, family, ...</td>\n",
       "      <td>[Uuuhhhhh Twins?:\\nSo I'm very new to the sims...</td>\n",
       "    </tr>\n",
       "  </tbody>\n",
       "</table>\n",
       "</div>"
      ],
      "text/plain": [
       "   Topic  Count                      Name  \\\n",
       "0     -1    920          -1_to_the_and_in   \n",
       "1      0    289         0_this_what_is_me   \n",
       "2      1    272         1_mods_game_it_my   \n",
       "3      2    128  2_baby_toddler_infant_is   \n",
       "4      3    127          3_sims_the_of_to   \n",
       "5      4    124      4_build_house_the_it   \n",
       "6      5     70        5_sim_my_died_this   \n",
       "7      6     58         6_she_her_shes_is   \n",
       "8      7     51   7_save_files_saves_gone   \n",
       "9      8     49       8_twins_and_baby_to   \n",
       "\n",
       "                                      Representation  \\\n",
       "0    [to, the, and, in, my, of, is, sims, sim, this]   \n",
       "1  [this, what, is, me, why, you, know, excuse, s...   \n",
       "2  [mods, game, it, my, the, to, and, update, but...   \n",
       "3  [baby, toddler, infant, is, up, the, my, to, a...   \n",
       "4  [sims, the, of, to, that, game, for, be, and, in]   \n",
       "5  [build, house, the, it, roof, building, to, im...   \n",
       "6  [sim, my, died, this, is, male, at, time, just...   \n",
       "7  [she, her, shes, is, bitch, why, moyer, alex, ...   \n",
       "8  [save, files, saves, gone, my, lost, all, to, ...   \n",
       "9  [twins, and, baby, to, the, of, they, family, ...   \n",
       "\n",
       "                                 Representative_Docs  \n",
       "0  [How To Create A Family That Will Tear Itself ...  \n",
       "1  [What is this in his head?:\\nIve never seen th...  \n",
       "2  [My builds keep getting deleted:\\nSo my game b...  \n",
       "3  [newborn bug:\\nas depicted, i’m having a bug w...  \n",
       "4  [I don’t want sims 5, i want a sims 2 remake. ...  \n",
       "5  [Few Beginner Questions (Mostly About Building...  \n",
       "6  [What is the creepiest thing that's happened i...  \n",
       "7  [Why did she paint snow?:\\nAt first, she start...  \n",
       "8  [Computer broke down and I lost 8 years of gam...  \n",
       "9  [Uuuhhhhh Twins?:\\nSo I'm very new to the sims...  "
      ]
     },
     "execution_count": 140,
     "metadata": {},
     "output_type": "execute_result"
    }
   ],
   "source": [
    "from bertopic import BERTopic\n",
    "\n",
    "topic_model = BERTopic(language=\"english\", calculate_probabilities=True, verbose=True)\n",
    "topics, probs = topic_model.fit_transform(complaints[\"full_post\"].tolist(), embeddings)\n",
    "\n",
    "# Inspect results\n",
    "topic_model.get_topic_info().head(10)"
   ]
  },
  {
   "cell_type": "code",
   "execution_count": 141,
   "id": "689d5d4b",
   "metadata": {},
   "outputs": [],
   "source": [
    "\n",
    "new_labels = {\n",
    "    -1: \"Bugs, Annoyances & Missing Features\",\n",
    "    0: \"Mod/CC Conflicts & Patch Breakage\",\n",
    "    1: \"Build/Buy Mode Confusion & Limitations\",\n",
    "    2: \"N/A\",\n",
    "    3: \"Weird or Unintended Gameplay Events\",\n",
    "    4: \"Sims 5 Critiques & Franchise Uncertainty\",\n",
    "    5: \"Save File Loss & Recovery Issues\",\n",
    "    6: \"Core Gameplay Failures (Relationships, Weddings, Traits)\",\n",
    "    7: \"CAS Representation & Customization Gaps\",\n",
    "    8: \"Family & Child Gameplay Issues\"\n",
    "}\n",
    "\n",
    "topic_model.set_topic_labels(new_labels)"
   ]
  },
  {
   "cell_type": "code",
   "execution_count": 142,
   "id": "e4c76fea",
   "metadata": {},
   "outputs": [
    {
     "data": {
      "application/vnd.microsoft.datawrangler.viewer.v0+json": {
       "columns": [
        {
         "name": "index",
         "rawType": "int64",
         "type": "integer"
        },
        {
         "name": "Topic",
         "rawType": "int64",
         "type": "integer"
        },
        {
         "name": "Count",
         "rawType": "int64",
         "type": "integer"
        },
        {
         "name": "Name",
         "rawType": "object",
         "type": "string"
        },
        {
         "name": "CustomName",
         "rawType": "object",
         "type": "string"
        },
        {
         "name": "Representation",
         "rawType": "object",
         "type": "unknown"
        },
        {
         "name": "Representative_Docs",
         "rawType": "object",
         "type": "unknown"
        }
       ],
       "ref": "9f1a24c5-bba7-430e-92ad-cb3d0338aa85",
       "rows": [
        [
         "0",
         "-1",
         "920",
         "-1_to_the_and_in",
         "Bugs, Annoyances & Missing Features",
         "['to', 'the', 'and', 'in', 'my', 'of', 'is', 'sims', 'sim', 'this']",
         "[\"How To Create A Family That Will Tear Itself Apart:\\nSo I have a particular scenario I want to create for my sim, where she is a brilliant, good-natured young woman who comes from a thoroughly dysfunctional family that will inevitably tear itself apart around her. Don't worry, she'll get out of this, particularly with the love and support of her girlfriend. In fact, she'll probably be spending a *lot* of time sleeping over at her girlfriend's house, and not just for woohoo-related reasons.\\n\\nI've managed to create the sim I want and guide her through doing well in school while finding her soulmate - multiple times, in fact. However, even when I design her parents to be highly incompatible, not much seems to happen in the background. At most, her parents end up arguing a lot. I was hoping for something more. An affair, at least, if not for her parents to actively split up or get violent with each other.\\n\\nI suspect that to really make this scenario work, I'd need to take a much more active role in directing her parents' actions. But it's a bit hard to do that while managing a teenager's life. Is there a particular combination of traits that would work? Or maybe a mod that gives sims more active lives when you're not controlling them?\", \"Something you wish the Sims 4 would DELETE:\\nNow, just want to talk about the *small* things, not gameplay, paywall, bugs, etc.😂 \\n\\nHere's mine:\\n\\nThe DAMN Thanksgiving Gnomes. Why don't they go away after the holiday is over? Why do they spread seeds everywhere? Why are you REQUIRED for the holiday to interact with them just for them to dump seeds everywhere or break my shit? Why do I feel so guilty about killing them? \\nI like holidays, so don't want to disable them but- those damn Gnomes. \\n\\nThe trellis. It becomes the main entrance of the house and nothing pisses me off more than my Sim being outside, needing to pee, using the trellis to go upstairs and walk by 3 toilets to go pee downstairs right next to the actual front door. UGH. I never get the sneak out option in High School Years so now it's just useless AND annoying. Could I delete this? Yes, but one day I'm going to get the damn pop up. \\n\\nHomework books. I actually didn't think of this one till someone mentioned old Sims you'd just click the bookshelf to do your homework, omg I'd die for that for Sims 4, and have the option to do homework on the computer would be convenient. \\n\\nHaving a grill solely because of those damn potions. Omfg. I could built a lot with the amount of potions that accumulate when I'm not paying attention to my yard. \\n\\nGHOSTS BREAKING MY SHIT. \\n\\nI'll think of more I'm sure. What's yours? \\n\\n*my apologies for the gnome debate.. but after all your comments, I still hate them* \\n-I don't need the simoleons from them. It is too easy to make simoleons in the game for me to care about selling them, and it still makes me feel guilty for 'killing' them. \\n-I have enough produce to last till my Sims great great grandchildren. My garden is the tit's. The 100+ apples in my Sims inventory would make doctors extinct. \", \"How has your life influenced your way of playing?:\\nI had this funny revelation the other day and i wonder if other simmers can relate\\n\\nSo i've been playing the Sims since i was a kid (i am 20 now) and always used to play with families and make these elaborate storylines. But for some reason i could not commit to one healthy family SOMETHING had to happen to get the parents to divorce lol\\n\\nI now realize this is just because my parents have been divorced ever since i was four and i literally cannot imagine having a regular family where the parents are still together - it doesnt make sense to me. Wdym TWO loving parents in one household??? that just seems excessive xD\\n\\nSo i could never do it they always had to break up because it was much easier to relate to lol (and with mods so i could do custody stuff). It's so funny how your own real life experiences shape the way you create storylines in this game.\\n\\nWhat are some ways your real life has influenced your gaming style? \"]"
        ],
        [
         "1",
         "0",
         "289",
         "0_this_what_is_me",
         "Mod/CC Conflicts & Patch Breakage",
         "['this', 'what', 'is', 'me', 'why', 'you', 'know', 'excuse', 'sorry', 'dont']",
         "['What is this in his head?:\\nIve never seen this before 😭', 'now what is this💀:\\n', 'WHAT IS THIS!??:\\n']"
        ],
        [
         "2",
         "1",
         "272",
         "1_mods_game_it_my",
         "Build/Buy Mode Confusion & Limitations",
         "['mods', 'game', 'it', 'my', 'the', 'to', 'and', 'update', 'but', 'play']",
         "[\"My builds keep getting deleted:\\nSo my game broke after the update because I have a ton of CC and mods. Can't load into a household with mods on, turned them off, loading in works fine. Mod problem. Cool, annoying but understandable.\\n\\nSince I couldn't play in the saves I normally do, I decided to do some building because that worked either way. But when I load back into the game, in manage worlds it's there just how I left it. But if I try to go onto the lot it reverts it back to how it originally was (house I bulldozed, empty lot, etc.) This happened twice. I turned off mods, tried again, it happened again. My sibling also had this issue. We both have mods. It's only happening to builds made *after* the update.\\n\\nNone of these builds that were deleted contained CC. \\n\\nI haven't tried removing my mods folder entirely yet, but frankly I don't want any more builds to be deleted so I'm scared to test anything else. So it still could be mods I guess, I don't know. I guess I'll try removing the folder.\\n\\nI'm just pissed off rn. I want to play, but now it's not even letting me build. I could try to start an unmoded household but I don't want to if it's just going to delete everything the next time I play.\", \"How do I fix my game?:\\nSo, I'm one of those people with wayyyy too many mods, so I wasn't surprised when my game started crashing after the new update\\n\\n*But* these weren't just random crashes that make me want to quit the game, I can't even play a family anymore without it getting stuck on the loading screen\\n\\nI tried taking out most of my mods, no use. Taking out all of them (except CC), nope. Only when I turned off the script mods (but left the CC) did it work, so I have no idea what's making it crash.\\n\\nA friend recommended uninstalling and re-installing, but I'm way too scared about losing my stuff to do it and the game's way too boring without the mods I'm used to. So is there a way to fix this (possibly without having to uninstall the whole thing) or should I just wait it out?\\n\\nUPDATE: I went and looked through each one of my mods, deleting the broken ones, updating the whole thing and it is STILL broken so I think my game is cursed yall\", \"Unable to play with Script Mods:\\nHi everyone! I'm pretty new to reddit so this has probably been posted before.\\n\\nI've been playing Sims 4 with mods for a long time now and I've always been able to play the game with mods with very little to no issue. But for some reason, after installing the new Wicked Perversions update, I can't play the game in live mode anymore. When I load up my save file, it opens up on the Worlds Map and whenever I try to play my household (or even any household), I just get rerouted back to the Worlds Map again.\\n\\nI've tried deleting Wicked Perversions and even doing the 50/50 method to check which of my mods are causing the error, but neither has worked. I've also tried deleting cache files (GameVersion.txt, Options.ini, localthumbcache.package, and Resource.cfg in the mods folder) since I saw a similar post that had this as the solution. \\n\\nSo far, the only thing that seems to work was disabling script mods (but not cc). I was able to play in live mode and load my household after this, but obviously most of my mods don't really work anymore.\\n\\nI'm open to trying anything at this point, so if any of you have any suggestions, I'd really appreciate it.\"]"
        ],
        [
         "3",
         "2",
         "128",
         "2_baby_toddler_infant_is",
         "N/A",
         "['baby', 'toddler', 'infant', 'is', 'up', 'the', 'my', 'to', 'aged', 'and']",
         "['newborn bug:\\nas depicted, i’m having a bug where my newborn essentially has two races 😭 both of his parents are white and he appears white in the bassinet, but in the family icons he’s black for some reason lol \\nthis happens only on this save and happened with his older brother, too. i thought it had something to do with the cc bassinet that i had when his brother was a newborn, but now the younger one just got a generic one and the bug is still there 😭 does anyone have any idea what may cause that?\\n(when they get aged up to an infant and further, the bug is gone, so it only affects newborns)', \"In defence of Eliza Pancakes :\\nI often see people slandering Eliza Pancakes, claiming that she is a gold digger and a nag; I simply don't think that's the case. Bob is gloomy, a slob and a loner, so I am certain that Eliza manages the household and does all the emotional labour in that relationship. From High-school years we learnt that she had dreams of having her own successful business. It seems like she gave up her dream in order to support Bob's dream of becoming a master chef. It is with her staying at home and making sure everything is in order, that Bob can pursue his dream ( which would be difficult if he had household chores and management to complete due to his slobby nature) Eliza Pancakes is not a nag, she is just a frustrated woman trying to get her husband ( who she sacrificed her dreams for) to pull his own weight.\\n\", 'just found out about toddler play dates…they did NOT live up to my expectations 😒:\\nk so i made a little blonde british boy and his mom and then i made the blonde woman as a teenager and she had a toddler of her own with some random townie so i was like oh he’s a cutie i’ll make the toddlers be friends so i make a whole park for them and set up a play date with them and a few other toddlers and my baby george tries to talk to the curly haired toddler and tries to hug him and his mom just picks him up and starts cussing out george💀💀 like what did he do?? he even tried to get him mom involved and she just pissed herself. AND then everyone was passing out and the moms were chatting and leaving their children asleep on the ground, no one would play together, one toddlers mom showed up nude, and my other toddler pissed herself as well😐 was much less cute than i thought it would be']"
        ],
        [
         "4",
         "3",
         "127",
         "3_sims_the_of_to",
         "Weird or Unintended Gameplay Events",
         "['sims', 'the', 'of', 'to', 'that', 'game', 'for', 'be', 'and', 'in']",
         "['I don’t want sims 5, i want a sims 2 remake. :\\nSims 2 was really made with love, attention to details, and a good level of difficulty. everything is important and everything matters. wants and fears, good and bad events, needs, everything actually affect the sims.\\nSims 3 lacks this attention to details, but they compromised and put every efforts into the open world. but we were waiting for a balance between a great open world and attention to details, and realism while keeping the sims original signature, aesthetic, and universe. \\n\\nwhen sims 4 came out in 2014, that’s what I was waiting for. I was waiting for a perfect remake of sims 2 with open world like sims 3, and many other features, and graphics. an immersive gameplay where everything matters, everything is important, that they are not just puppets. \\n\\ninstead, we got bland, tasteless, lifeless, even useless sims 4. \\nugly graphics even for the time, a bland gameplay, and no real purpose. everything is boring. \\nnothing really matters. the emotions, which was announced as a big feature, does not affect a lot the gameplay. \\nonly 3 traits that does not affects the gameplays either, and a life goal/ambition system that is absolutely bland compared to the sims 2 and 3.\\nthey add more and more and more features with the 500 packs that they sell u for 40€, that are as useless and bland. sims are just useless puppets that have no real purpose. which is very sad, for a life simulator. \\n\\nwe were announced Project rene, but it’s been 1 year since we had any updates and news about this game. i’m losing hope. \\n\\nthe sims franchise will die if they don’t do anything. \\n\\n what do you think? do you agree? ', 'Soooo, given that EA has confirmed we’re not getting the Sims 5… what now for the series?:\\nSo this was something I was thinking about, as it stands, EA obv isn\\'t planning a direct successor to the Sims 4, instead basically focusing on spin offs (most of which seem to be mobile games, which yes I get are very profitable but don\\'t really fill the same niche as the traditional Sims games at all IMO). And so with this news, I was thinking, where does that leave the Sims 4, and the Sims generally?\\n\\nNow obviously, the Sims isn’t quite in the position it used to be in, where it was the only game like it on the market, so the user just kinda had to put up with whatever. There are various competitors popping up which COULD potentially knock the Sims off its throne, or at least take a decent market share away from the brand!\\n\\nI mean, in my opinion, there are basically a few things the Sims 4 could do, they could either go a “ship of thesis” route where most of the games internals are repaired and modernised (leaving no-very little remnants of the original game, hense the analogy), or they could keep things mostly as they are (basically an 11 year old game held together by duct tape and hope) and hope for the best.\\n\\nOn one hand, IF they were to choose to go the “ship of thesis” route, it\\'d be quite a bit of work, given they\\'d effectively be rewriting very large portions of the game (arguably effectively creating a new game). However, in the long term, it might just be what’s best for both the health of the game (and therefore EA’s profits) and the playerbase (who EA are heavily reliant on). \\n\\nOriginally, the Sims 4 was planned to be an always-online multiplayer-ish game, but when SimCity (2013) failed as hard as it did, EA pivoted and hastily retooled the game into a single-player game, which, of course, caused a bunch of issues. And while SOME of these issues have been remedied over the years, many are still present, and NGL, it\\'s just hard to build your supposedly definitive Sims game on such rocky foundations. \\n\\nRewriting large parts of the game could solve this; they\\'d be replacing all the problematic, hacky parts of the code base, and they could even rewrite the game into something based on what EA specifically wants it to be NOW, a very long-term Sims base game to sell DLC from, optimised for modern hardware. \\n\\nWho knows, with such rewrites, EA may finally be able to implement some features that the fanbase has been asking for but which were previously impossible, such as greater modding capabilities (maybe even stuff like Create-a-World), and they could EVEN try to implement arguably the biggest selling point one of their main competitors has over them, an open world (though that could be a slight reach haha). \\n\\nSo while yes, it would be a lot of work for EA to rewrite and optimise the Sims 4 for modern systems (perhaps such a rewrite could see the game rebranded to just simply \"the Sims\"), doing so could potentially allow EA to ensure that their competiton are unable to seriously challenge them in the life sim market.\\n\\nOn the other hand, EA could simply keep doing what they are doing now, continuing to release new DLCs and neglecting areas of the game in need of optimisation and bugfixes. By doing this, they\\'d largely be relying on brand loyalty and stuff like influencer advertising. However... I kinda feel like... I mean, influencer advertising isn\\'t SUPER expensive, and companies like Krafton can also afford to promote their game this way. So really, they\\'re kinda just relying on the brand loyalty people have for the Sims, and hoping that the other competitors don\\'t get too popular. \\n\\nI feel that for EA, this is kinda a risky strategy. It MIGHT work; the other main competitors may simply fail to gain significant traction, and the Sims gets to maintain its profitable position at the top without EA having to expend the effort to fix the game. If that happens, EA wins! HOWEVER, if either one of the new Sims competitors ends up getting good, good enough to start taking customers away from the Sims, then EA and Maxis could face a situation similar to that of Cities: Skylines and SimCity, which would probably be disastrous for EA, given how important the Sims brand is for them.\\n\\nBut yeah, those were just my silly thoughts, obviously, I\\'m just kinda spitballing here, I\\'d love to hear your thoughts in the comments though, thanks a bunch for reading!', 'I’m pissed off, and now I have a list of demands for the next Sims game:\\nDisclaimer: this post is slightly tongue-in-cheek, but does convey my thoughts on what I think should be prioritized for The Sims 5, assuming it gets made. Also, this post will be _laden_ with profanity - you’ve been warned\\n\\nSomething that has remained a constant throughout the Sims series is that Sims do all kinds of stupid shit to _piss you off_. The Sims 4 is better about this in some regards, but worse in others. This all became very clear to me during a bit of a marathon Sims 4 session yesterday, playing a family that consisted of two married sims and their three pairs of twins, where I became more and more frustrated throughout the day. Apologies to my neighbors, who probably now think I’m verbally abusing a mute person who lives with me as they sporadically hear me scream things like “NO! Put down the fucking bowl NOW and go to the fucking bathroom, you stupid cunt!”\\n\\nAs a result, I now have an official list of demands for Sims 5. It doesn’t include cars, open world, or any of that crap. It simply includes ways for sims to not piss me off so fucking much.\\n\\nBtw, this is focused on ways the Sims 4 pisses me off, but before you go smugly saying “tHiS iS wHy I wEnT bAcK 2 tHe SiMs 3”, just know that I will _glady_ spell out the fucking _LITANY_ of ways that The Sims 3 used to piss me off. Try me, stans. 🤣\\n\\nWithout further ado, my list of demands for a future Sims game:\\n\\n1. If I tell you to do something, do it ***NOW!!!*** Not 5 sim minutes from now. Not after you’re done with the chat animation. NOW!! Fucking NOW NOW NOW. I know it’s really important to _you_ that you finish your next bite of cereal, but it’s more important to _ME_ that you not ***SHIT YOURSELF***. In other words, sims should be more responsive and stop an activity immediately if the player has cancelled that action. It’s not unrealistic to do - in real life it’s a thing you can do to say “Hold that thought, Bob, I need to go to the bathroom before I shit myself.” It’s not rude, it’s just good manners to not shit yourself.\\n2. Stop being so ***GOD DAMN DUMB***. We need better AI. It doesn’t have to be perfect - I’m totally fine with my stupid sims passing out because they didn’t get enough sleep. What I can’t fucking stand is when they’re so irredeemably stupid that it results in what I’m lovingly referring to as “Nightmare morning”. It’s Saturday morning, the last pair of twins is ready to age up. So mom baked them a birthday cake. This takes _hours_ because all the teenagers in the house are all trying to cook ***for some fucking reason*** despite that there are already two excellent-quality meals ready for them on the counter, and so mom can’t reach the oven to finish the cake. Cue several minutes of all my sims playing hot potato with this bowl of cake dough as I try to cancel their actions one by one. This is already fucking infuriating, but then one of them decides to try to grill something, but they have no cooking skill so they set the grill on fire, and now everyone stops what they’re doing to look at the fire, which is on the other side of the fucking lot. Bright side, now the oven is clear, so mom can ***finally finish baking the fucking cake***. Finally, we get some candles on that bad boy, and mom’s close to her birthday, so I decide to kill three birthdays with one cake. Mom blows out the candles, but then instead of aging up, _she teleports outside of the house_. Okay let’s try again. Same thing. I do reset sim, and this time it works. I proceed to do “reset sim” on each of the twins before having them blow out the candles, though it takes a while, because they have both wandered off to the edge of the lot which is a big deal because it’s one of those huge Windenburg lots. In summary, better AI for autonomy. The autonomy is better than in previous games but it’s still really bad.\\n3. Faster eating. Faster shitting. Faster showering. I’m so fucking sick of this shit, I don’t know why we’re all so okay with it taking a fucking month for a sim to eat a fucking bowl of cereal, sitting there like a grinning little cunt staring at the fucking wall for an hour between each fucking bite. ***WATCHING SIMS EAT AND SHIT IS NOT WHY I PLAY THE SIMS***. That’s just the part I (barely) tolerate so I can do the fun parts, like developing their relationships or working on their careers. ***NO ONE OTHER THAN MY SISTER IN LAW TAKES TWO HOURS TO SHOWER!!!*** Just fucking quit it. Make it faster. Get shit done.\\n4. Multi-tasking is great, but it shouldn’t slow things down. Realism be damned, if I have no control over some dipshit missing link mother fucker coming over to talk to my sim while she’s eating, then I shouldn’t be punished for it by having the eating take long enough to be measured with a sun dial. If my sims are talking while they do homework, that shouldn’t slow down the process of finishing the homework. Again, fuck realism, I just want to not be pissed off.\\n5. Stop being so ***GOD DAMN DUMB***, part 2. There’s a dinner table and a chair right next to you, why are you walking up two flights of stairs to sit on the bed to eat, you Neanderthal? There’s a kitchen sink right next to you, why are you journeying deep into the Amazon to wash your plate in the fountain of youth, you dumb fucking bucket of donkey shit?! Your date is sitting on that barstool right there, why are you climbing up to the fucking roof to start chatting with her, you backwards-pissing monkeyfucker?!\\n6. Automatically change into normal clothes to go to work or school. I don’t know why my sims are all going to school in their (very inappropriate) pajamas or when that shit even started, but they ***needtofuckingquitit***.\\n7. Back on “group conversations”. There needs to be an invite only thing. Like a pop up that says “Brent Hecking would like to join the conversation”, and the options should be “Sure, come on in, buddy” and “Fuck off”. I love group conversations because they allow more than two sims to build relationship at the same time, but the player should have control over this. The reason is because trying to get a group convo back down to just two sims ***IS A FUCKING NIGHTMARE*** that takes eons to do.\\n\\n(Sigh) I feel better now. But seriously. I want more control over my sims, and I want them to be less hopelessly dumb when I just don’t feel like micro-managing a household of 8 sims.\\n\\nEDIT: Fixed some typos that were entirely the fault of my phone\\'s autocorrect, which has become self-aware and is actively trying to destroy my life. It\\'ll change \"baking the fucking cake\" to \"baking the fucking bake\", but then it\\'ll completely ignore an obvious typo like \"establoshment\" and say \"NOPE! I don\\'t know what to fucking do with _that shit_.\" So if anyone from Apple is reading this, fuck you for a million reasons, but especially fuck you with a baseball bat wrapped in barbed wire for making autocorrect so _god damn infuriating_. You\\'re one wrung higher on my shitlist than the knuckle-fuckers at Maxis.\\n\\nEDIT 2: Whichever weirdo gave this the \"wholesome\" award, you\\'re my kind of asshole.\\n\\nEDIT 3: Here\\'s another one:\\n\\n8. You know how if a sim gets struck by lightning twice, they die? So, umm... if my sim gets struck by lightning the first time... ***CAN YOU FUCKING TELL ME?!*** Why the game doesn\\'t automatically switch focus to the sim that\\'s literally going to die is beyond me. It\\'s probably ***slightly*** more important than whatever else I was focusing on. ***THANKS***']"
        ],
        [
         "5",
         "4",
         "124",
         "4_build_house_the_it",
         "Sims 5 Critiques & Franchise Uncertainty",
         "['build', 'house', 'the', 'it', 'roof', 'building', 'to', 'im', 'and', 'this']",
         "['Few Beginner Questions (Mostly About Building):\\nI hope these questions don’t sound too silly, but I’ve been building and creating sims for a few days now, and I still can’t figure out how to do a few things I’ve seen other players do. I might have used the wrong flair for this post, I\\'m sorry about that!\\n\\n❓️ How can I rotate objects freely (360°) without them snapping to the grid? I only know how to rotate using the mouse click, but I’ve seen builders turn objects without any boundaries and I\\'d like to do that\\n\\n❓️ What’s the mod that lets you change household funds directly without using the in-game cheat feature? I think I saw Syd Mac use something like that\\n\\n❓️ In CAS, I faintly remember my friend pressing some keys and it unlocked a more detailed set of slider thingies than the usual detail edit mode. It reminded me of the extra roof slider thingies, where you can get more of those slider thingies. Does anyone know what that is?\\n\\n❓️ How do I access the extra roof slider thingies again? I’ve seen Caryn and Connie do it, but I completely forgot the method :\\')\\n\\n❓️ How do I stop my camera constantly moving up and down while I try to build? Does it have something to do with the weird floor heights I\\'m using due to my obsession with treehouses? I\\'ve seen every content creator I watch move their camera, change the angle, and do all kinds of things while mine goes up and down constantly. It\\'s so hard to build this way \\n\\nFinal note: Sorry about the often use of the word \"thingies\", I don\\'t know what most of the terms are. Any help is appreciated, thank you in advance!', 'I made Judith Ward a new house:\\nI was curious many simmers makeover Judith Ward\\'s house so I checked her house and it\\'s awful so I tried making her a new one, too.\\n\\nBecause she\\'s a celebrity, I thought I\\'d give her a tall fence. People can still peek but it also gives some sense of privacy. I also gave her a home theater with movie posters outside. I also felt like a natural pool may be something a rich person would have so I made that, too. There\\'s a platform above it which bridges the main house to another room. I play tested it so I know she can swim under and walk above. I added a bar, too, just because I feel like she\\'d be the type to just drink the night away. \\n\\nI made the garage using an upsized table. \\n\\nBecause I played her just to test play this build, I found out she didn\\'t know anyone at all and now I feel sad for her. \\n\\n\\n\\nThis build is on the gallery. It\\'s called \\'Ward Escape\\'.\\n\\n\\nJust a little note: the first floor is below ground so when you play it, you\\'d see empty \"basements\" which I just used as some sort of foundation for the rest of the house. I had to do it this way so that the platform can act like a bridge. I don\\'t know any other method for this. ', 'Can somebody more adept at building houses in ts3 tell me how the builder was able to do this?:\\n[This shows what looks](https://i.imgur.com/m4PNLjh.jpeg) to be a foundation (or deck) ontop of the floor that\\'s the \"roof\" - there are floor tiles ontop of the support beams & then there\\'s a platform ontop of some of the tiles - but where that deck is there\\'s no platform\\n\\n[This is what happens](https://i.imgur.com/6SJc9Wz.jpeg) when I delete a portion of the deck/foundation\\n\\n[This just shows](https://i.imgur.com/pwsl60s.jpeg) that there are platforms and floor tiles, I didn\\'t realize it had both until I started deleting things.\\n\\nI\\'m confused because when I use constrainfloorelevation to place the deck portion where I\\'d like it pushes the entire thing onto the ground, so I\\'m trying to figure out how the builder got it up there in the first place. It\\'s not a half wall because there are tiles on top of it. I cannot grab and drag it further because it gives me either a \\'floor pattern not floorable\\' error or the floor tile error.\\n\\nIs there anybody that could assist me with this? I\\'d like to expand the roof and keep it looking the same, but I can\\'t figure out how to do it! I\\'m almost positive it\\'s definitely a foundation because the sides are paintable. \\n\\n>Edit\\nThis house is on the custom world [Legacy Island III by Rflong7](https://www.thesims3.com/assetDetail.html?assetId=8219962). There are houses/rabbit holes built by Rflong in the world, and this is one of those houses. They tend to use foundations as walls, this beach house in particular. But, the world and build is truly amazing and I love playing my legacy in LI3, if you have most of the EPs I highly recommend.']"
        ],
        [
         "6",
         "5",
         "70",
         "5_sim_my_died_this",
         "Save File Loss & Recovery Issues",
         "['sim', 'my', 'died', 'this', 'is', 'male', 'at', 'time', 'just', 'someone']",
         "['What is the creepiest thing that\\'s happened in your game? :\\nI\\'ll go first: \\nMy teen sim was hanging out with her cousin and her aunt when suddenly they all said \"Yibs!\" at the exact same time. They all have different voices so it was obvious it was all 3 of them, plus their mouths moved at the same time.\\nI wish I had video of the event. My soul left my body. ', \"My sim keeps getting a negative response:\\nI couldn't find anyone having the same experience as me on the EA forums so I was wondering if someone here does. \\n\\nMy sim keeps getting a negative response from other sims (even when they have a high friendship). For some reason the other sim keeps rejecting pranks, giving a serum to try and complaints (like complaining about the weather). \\nI don't have any mods, I only have cc. \\n\", 'Death by Meteorite:\\nMy sim has died by meteorite and keeps getting hit by them about 3-5x a week in the afterlife. I have the life and death EP so I’m building my skills and doing what needs to be done to make the ambrosia that I’ve read will bring my sim back to life. My question to anyone that has done this, do you think my sim will keep getting hit and die all over again?? ']"
        ],
        [
         "7",
         "6",
         "58",
         "6_she_her_shes_is",
         "Core Gameplay Failures (Relationships, Weddings, Traits)",
         "['she', 'her', 'shes', 'is', 'bitch', 'why', 'moyer', 'alex', 'did', 'just']",
         "['Why did she paint snow?:\\nAt first, she started the painting but then got distracted and left it white.  But then she resumed it and then this is how it looks when it is finished.  And ofc it is worth nothing, despite her autonomously costing the household $100 to start it.', 'Her mother JUST died so her mother decided to call her and tell her she was sorry for her loss:\\n', 'Heartbreaking: the worst NPC you know just got a makeover. (It\\'s Alex Moyer time.):\\nI haven\\'t seen many makeovers for Alex Moyer, so on a whim I decided to turn her into someone who looks a little less Karen. Did not change any genetics (including facial features, body shape, skin tone, or hair color), and tried to somewhat preserve her color scheme while still maintaining that \"worst person you know\" demeanor.\\n\\nI *cannot* imagine why anyone would want Alex Moyer in their game any more than she already is, but my ign on the galley is bullworthless!']"
        ],
        [
         "8",
         "7",
         "51",
         "7_save_files_saves_gone",
         "CAS Representation & Customization Gaps",
         "['save', 'files', 'saves', 'gone', 'my', 'lost', 'all', 'to', 'and', 'saved']",
         "[\"Computer broke down and I lost 8 years of gameplay:\\nAbout a year ago my computer completely broke down and we tried everything to recover pictures, videos, documents and most importantly my sims saves, cc and mods. But nothing could be saved. I was so devastated that I haven't played the game since. It still hurts to think of all the builds, and even the pictures of them are all lost. It might seem silly to be so upset about it, but I was genuinely so sad that I refused to even think about the game or the things I've built because it made me want to cry. I had downloaded so much content and created big family trees. I had a notebook with notes about the characters, their interests, personalities and careers etc.\\n \\nYesterday I finally downloaded the game and my packs on my new computer. In a way it's refreshing to start from the beginning but just downloading new cc and trying to find some old ones makes me a bit melancholy😅 But for now excited to get home for the weekend and open my sims 4 after a year of not playing it and loosing 8 years of gameplay\\n\\nI really wanted to share this somewhere so hopefully this is fine to post/rant\", 'is it possible to recover a lot from tray files?:\\nhi all! i was hopping on the sims to finish a household i was working on a few weeks ago. i had made the house, made one out of the two sims i wanted to make, and somehow managed to save the sim but not the house?\\nthere’s no official save file matching the date i made the sim and house in my sims 4 file, but there are tray files for the house i made and everything.\\nit seems because i saved the sim to the gallery that’s the only reason it’s still recoverable (which thank god, i spent over an hour on their tattoos.) however the house is entirely gone, i dug through my other saved games and it’s nowhere to be found.\\ni am a total noob when it comes to this kind of stuff, i have no idea what tray files really are lol but i know they contain house data! so i apologize if this entire post is stupid to some of y’all. but i really do not wanna remake the house again :’) is it recoverable at all or do i have to start from scratch?\\nthanks!', \"All my sims 4 save files are gone what do I do?:\\nI was playing sims 4 on a gaming laptop I was gifted then gaslit into giving back because the person who gifted it to me later changed their mind and wanted it back and said they were just lending it to me instead when I had lent it to them for a week, the thing is they reset it before I got the chance to save any of my sim files, and I lost all of them, and all my mods, as I don't remember the names of all the mods I had installed, what do I do?? Do I just start all over again?? Are all my old sim files lost forever? Idk, I was really attached to them, and had spent over two years on a forever world even if I'm not that good of a builder and that's just gone forever.\"]"
        ],
        [
         "9",
         "8",
         "49",
         "8_twins_and_baby_to",
         "Family & Child Gameplay Issues",
         "['twins', 'and', 'baby', 'to', 'the', 'of', 'they', 'family', 'just', 'my']",
         "['Uuuhhhhh Twins?:\\nSo I\\'m very new to the sims and I bought the realm of magic. I had this super cool idea where I would have this \"perfect\" married couple who has a child and the kid would be super into dark magic. But then she had twins and no offense I do think twins could be creepy. I could barely take care of the two sims I had so now having 4 is just a lot. I also thought you could choose to have twins I didn\\'t know it just happened. So maybe I could make one into dark magic and the other into light or both dark?? \\n\\nAlso the couple is interracial why did they give me one white baby and one black baby. Do they not have tan skin tones??? And I keep seeing people saying they got CPS called and the husband loves families and the wife doesn\\'t have a lot of maternal traits so I\\'m nervous the Husband will be doing all the work and they kids will get taken away. ', \"Simple suggestion for the Sims Team that would improve babies, infants, and toddlers 1 million percent!:\\nAs we all know, babies, infants and toddlers can be really annoying to play. One large reason for this is because it's so difficult to coordinate your Sims' interactions with them. For example, the baby is crying. Sim A is standing next to them. I tell Sim A to feed the baby. Instead they immediately wave their arms and complain that they can't path to the baby. The reason is that on the other side of the lot, Sim B has autonomously decided to feed the baby and are blocking Sim A. So I have to select Sim B, cancel their action, then go back to Sim A and choose theirs all over again.\\n\\nThis happens all the time, and is a big part of why it can be so frustrating to have baby sims in your house. And the solution is so simple: Just give priority to player selected actions over autonomous actions. So, in the above scenario, I tell Sim A to feed the baby. The game detects that Sim B is already on their way to do it. But Sim A's action was player selected and Sim B's was autonomous, so it should cancel Sim B's action and allow Sim A to carry out theirs.\\n\\nAs someone current raising Sim triplets, this little fix would improve my life immeasurably!\\n\\n(Also, while we're at it: 99% of the time you click on a baby Sim, you will be trying to do one of two things: Feed or Change Diaper. Both of these used to be on the front page of the action menu, accessible in just 1 click. They are now buried under More Choices... and then Baby Care... and so take 3 clicks to reach. This is incredibly frustrating. They should be moved back to the front page.)\", 'The goth child has been stuck inside my restaurant for days. HOW DO I GET HIM OUT?!:\\nLil bit of info, I’m playing the Sims 4 on a desktop. My game is fully updated, as are all my mods. \\n\\nAlexander Goth came into my restaurant with his parents as a customer like 8 in game days ago. They got their food. They ate. They left. But they didn’t take their kid with them. Instead he just stayed there. After a few days of sitting in my diner with no way to care for his needs, I got the notification that child services was taking him away. I thought that would fix things. It did not. And now, I can’t just switch to the Goth family and make him go home, because after being taken away, he technically isn’t a family member. It’s like the game doesn’t recognize his existence but he’s still there. His needs don’t decay (from what I can tell, anyway. He never appears filthy, and the exclamation bubbles never appear to indicate anything he needs) but he can still interact with things and talk to my sims. He talks to them so much, in fact, that they neglect their needs to chitchat. I’ve tried using cheats to kill him, being mean to him to make him want to leave, etc. But I guess he thinks this is home now. \\n\\nHow do I make him realize that this is not, in fact, his home, and get him out for good? ']"
        ]
       ],
       "shape": {
        "columns": 6,
        "rows": 10
       }
      },
      "text/html": [
       "<div>\n",
       "<style scoped>\n",
       "    .dataframe tbody tr th:only-of-type {\n",
       "        vertical-align: middle;\n",
       "    }\n",
       "\n",
       "    .dataframe tbody tr th {\n",
       "        vertical-align: top;\n",
       "    }\n",
       "\n",
       "    .dataframe thead th {\n",
       "        text-align: right;\n",
       "    }\n",
       "</style>\n",
       "<table border=\"1\" class=\"dataframe\">\n",
       "  <thead>\n",
       "    <tr style=\"text-align: right;\">\n",
       "      <th></th>\n",
       "      <th>Topic</th>\n",
       "      <th>Count</th>\n",
       "      <th>Name</th>\n",
       "      <th>CustomName</th>\n",
       "      <th>Representation</th>\n",
       "      <th>Representative_Docs</th>\n",
       "    </tr>\n",
       "  </thead>\n",
       "  <tbody>\n",
       "    <tr>\n",
       "      <th>0</th>\n",
       "      <td>-1</td>\n",
       "      <td>920</td>\n",
       "      <td>-1_to_the_and_in</td>\n",
       "      <td>Bugs, Annoyances &amp; Missing Features</td>\n",
       "      <td>[to, the, and, in, my, of, is, sims, sim, this]</td>\n",
       "      <td>[How To Create A Family That Will Tear Itself ...</td>\n",
       "    </tr>\n",
       "    <tr>\n",
       "      <th>1</th>\n",
       "      <td>0</td>\n",
       "      <td>289</td>\n",
       "      <td>0_this_what_is_me</td>\n",
       "      <td>Mod/CC Conflicts &amp; Patch Breakage</td>\n",
       "      <td>[this, what, is, me, why, you, know, excuse, s...</td>\n",
       "      <td>[What is this in his head?:\\nIve never seen th...</td>\n",
       "    </tr>\n",
       "    <tr>\n",
       "      <th>2</th>\n",
       "      <td>1</td>\n",
       "      <td>272</td>\n",
       "      <td>1_mods_game_it_my</td>\n",
       "      <td>Build/Buy Mode Confusion &amp; Limitations</td>\n",
       "      <td>[mods, game, it, my, the, to, and, update, but...</td>\n",
       "      <td>[My builds keep getting deleted:\\nSo my game b...</td>\n",
       "    </tr>\n",
       "    <tr>\n",
       "      <th>3</th>\n",
       "      <td>2</td>\n",
       "      <td>128</td>\n",
       "      <td>2_baby_toddler_infant_is</td>\n",
       "      <td>N/A</td>\n",
       "      <td>[baby, toddler, infant, is, up, the, my, to, a...</td>\n",
       "      <td>[newborn bug:\\nas depicted, i’m having a bug w...</td>\n",
       "    </tr>\n",
       "    <tr>\n",
       "      <th>4</th>\n",
       "      <td>3</td>\n",
       "      <td>127</td>\n",
       "      <td>3_sims_the_of_to</td>\n",
       "      <td>Weird or Unintended Gameplay Events</td>\n",
       "      <td>[sims, the, of, to, that, game, for, be, and, in]</td>\n",
       "      <td>[I don’t want sims 5, i want a sims 2 remake. ...</td>\n",
       "    </tr>\n",
       "    <tr>\n",
       "      <th>5</th>\n",
       "      <td>4</td>\n",
       "      <td>124</td>\n",
       "      <td>4_build_house_the_it</td>\n",
       "      <td>Sims 5 Critiques &amp; Franchise Uncertainty</td>\n",
       "      <td>[build, house, the, it, roof, building, to, im...</td>\n",
       "      <td>[Few Beginner Questions (Mostly About Building...</td>\n",
       "    </tr>\n",
       "    <tr>\n",
       "      <th>6</th>\n",
       "      <td>5</td>\n",
       "      <td>70</td>\n",
       "      <td>5_sim_my_died_this</td>\n",
       "      <td>Save File Loss &amp; Recovery Issues</td>\n",
       "      <td>[sim, my, died, this, is, male, at, time, just...</td>\n",
       "      <td>[What is the creepiest thing that's happened i...</td>\n",
       "    </tr>\n",
       "    <tr>\n",
       "      <th>7</th>\n",
       "      <td>6</td>\n",
       "      <td>58</td>\n",
       "      <td>6_she_her_shes_is</td>\n",
       "      <td>Core Gameplay Failures (Relationships, Wedding...</td>\n",
       "      <td>[she, her, shes, is, bitch, why, moyer, alex, ...</td>\n",
       "      <td>[Why did she paint snow?:\\nAt first, she start...</td>\n",
       "    </tr>\n",
       "    <tr>\n",
       "      <th>8</th>\n",
       "      <td>7</td>\n",
       "      <td>51</td>\n",
       "      <td>7_save_files_saves_gone</td>\n",
       "      <td>CAS Representation &amp; Customization Gaps</td>\n",
       "      <td>[save, files, saves, gone, my, lost, all, to, ...</td>\n",
       "      <td>[Computer broke down and I lost 8 years of gam...</td>\n",
       "    </tr>\n",
       "    <tr>\n",
       "      <th>9</th>\n",
       "      <td>8</td>\n",
       "      <td>49</td>\n",
       "      <td>8_twins_and_baby_to</td>\n",
       "      <td>Family &amp; Child Gameplay Issues</td>\n",
       "      <td>[twins, and, baby, to, the, of, they, family, ...</td>\n",
       "      <td>[Uuuhhhhh Twins?:\\nSo I'm very new to the sims...</td>\n",
       "    </tr>\n",
       "  </tbody>\n",
       "</table>\n",
       "</div>"
      ],
      "text/plain": [
       "   Topic  Count                      Name  \\\n",
       "0     -1    920          -1_to_the_and_in   \n",
       "1      0    289         0_this_what_is_me   \n",
       "2      1    272         1_mods_game_it_my   \n",
       "3      2    128  2_baby_toddler_infant_is   \n",
       "4      3    127          3_sims_the_of_to   \n",
       "5      4    124      4_build_house_the_it   \n",
       "6      5     70        5_sim_my_died_this   \n",
       "7      6     58         6_she_her_shes_is   \n",
       "8      7     51   7_save_files_saves_gone   \n",
       "9      8     49       8_twins_and_baby_to   \n",
       "\n",
       "                                          CustomName  \\\n",
       "0                Bugs, Annoyances & Missing Features   \n",
       "1                  Mod/CC Conflicts & Patch Breakage   \n",
       "2             Build/Buy Mode Confusion & Limitations   \n",
       "3                                                N/A   \n",
       "4                Weird or Unintended Gameplay Events   \n",
       "5           Sims 5 Critiques & Franchise Uncertainty   \n",
       "6                   Save File Loss & Recovery Issues   \n",
       "7  Core Gameplay Failures (Relationships, Wedding...   \n",
       "8            CAS Representation & Customization Gaps   \n",
       "9                     Family & Child Gameplay Issues   \n",
       "\n",
       "                                      Representation  \\\n",
       "0    [to, the, and, in, my, of, is, sims, sim, this]   \n",
       "1  [this, what, is, me, why, you, know, excuse, s...   \n",
       "2  [mods, game, it, my, the, to, and, update, but...   \n",
       "3  [baby, toddler, infant, is, up, the, my, to, a...   \n",
       "4  [sims, the, of, to, that, game, for, be, and, in]   \n",
       "5  [build, house, the, it, roof, building, to, im...   \n",
       "6  [sim, my, died, this, is, male, at, time, just...   \n",
       "7  [she, her, shes, is, bitch, why, moyer, alex, ...   \n",
       "8  [save, files, saves, gone, my, lost, all, to, ...   \n",
       "9  [twins, and, baby, to, the, of, they, family, ...   \n",
       "\n",
       "                                 Representative_Docs  \n",
       "0  [How To Create A Family That Will Tear Itself ...  \n",
       "1  [What is this in his head?:\\nIve never seen th...  \n",
       "2  [My builds keep getting deleted:\\nSo my game b...  \n",
       "3  [newborn bug:\\nas depicted, i’m having a bug w...  \n",
       "4  [I don’t want sims 5, i want a sims 2 remake. ...  \n",
       "5  [Few Beginner Questions (Mostly About Building...  \n",
       "6  [What is the creepiest thing that's happened i...  \n",
       "7  [Why did she paint snow?:\\nAt first, she start...  \n",
       "8  [Computer broke down and I lost 8 years of gam...  \n",
       "9  [Uuuhhhhh Twins?:\\nSo I'm very new to the sims...  "
      ]
     },
     "metadata": {},
     "output_type": "display_data"
    }
   ],
   "source": [
    "display(topic_model.get_topic_info().head(10))"
   ]
  }
 ],
 "metadata": {
  "kernelspec": {
   "display_name": "my_DS",
   "language": "python",
   "name": "python3"
  },
  "language_info": {
   "codemirror_mode": {
    "name": "ipython",
    "version": 3
   },
   "file_extension": ".py",
   "mimetype": "text/x-python",
   "name": "python",
   "nbconvert_exporter": "python",
   "pygments_lexer": "ipython3",
   "version": "3.13.5"
  }
 },
 "nbformat": 4,
 "nbformat_minor": 5
}
